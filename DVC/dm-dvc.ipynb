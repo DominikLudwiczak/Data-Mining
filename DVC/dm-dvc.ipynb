{
 "cells": [
  {
   "attachments": {},
   "cell_type": "markdown",
   "metadata": {},
   "source": [
    "# Data Versioning Control (DVC)"
   ]
  },
  {
   "attachments": {},
   "cell_type": "markdown",
   "metadata": {},
   "source": [
    "## Introduction\n",
    "\n",
    "The main aim of this exercise is to familiarize students with the awsome `dvc` tool for data and model versioning in machine learning/data mining projects."
   ]
  },
  {
   "attachments": {},
   "cell_type": "markdown",
   "metadata": {},
   "source": [
    "The easiest way is to install the library inside a virtual Python environment or using Conda, although direct installation from a repository is possible. All details regarding the installation of the library can be found at [project's website](https://dvc.org/doc/install/linux)."
   ]
  },
  {
   "cell_type": "code",
   "execution_count": 1,
   "metadata": {
    "ExecuteTime": {
     "end_time": "2021-02-03T11:58:50.212573Z",
     "start_time": "2021-02-03T11:58:11.868216Z"
    }
   },
   "outputs": [
    {
     "name": "stdout",
     "output_type": "stream",
     "text": [
      "Collecting dvc\n",
      "  Downloading dvc-2.56.0-py3-none-any.whl (422 kB)\n",
      "\u001b[2K     \u001b[90m━━━━━━━━━━━━━━━━━━━━━━━━━━━━━━━━━━━━━\u001b[0m \u001b[32m422.1/422.1 kB\u001b[0m \u001b[31m958.4 kB/s\u001b[0m eta \u001b[36m0:00:00\u001b[0ma \u001b[36m0:00:01\u001b[0m\n",
      "\u001b[?25hCollecting colorama>=0.3.9\n",
      "  Downloading colorama-0.4.6-py2.py3-none-any.whl (25 kB)\n",
      "Collecting configobj>=5.0.6\n",
      "  Downloading configobj-5.0.8-py2.py3-none-any.whl (36 kB)\n",
      "Collecting distro>=1.3\n",
      "  Downloading distro-1.8.0-py3-none-any.whl (20 kB)\n",
      "Collecting dpath<3,>=2.1.0\n",
      "  Downloading dpath-2.1.5-py3-none-any.whl (17 kB)\n",
      "Collecting dvc-data<0.48,>=0.47.1\n",
      "  Downloading dvc_data-0.47.5-py3-none-any.whl (60 kB)\n",
      "\u001b[2K     \u001b[90m━━━━━━━━━━━━━━━━━━━━━━━━━━━━━━━━━━━━━━━\u001b[0m \u001b[32m60.1/60.1 kB\u001b[0m \u001b[31m205.6 kB/s\u001b[0m eta \u001b[36m0:00:00\u001b[0ma \u001b[36m0:00:01\u001b[0m\n",
      "\u001b[?25hCollecting dvc-http>=2.29.0\n",
      "  Downloading dvc_http-2.30.2-py3-none-any.whl (12 kB)\n",
      "Collecting dvc-render<1,>=0.3.1\n",
      "  Downloading dvc_render-0.4.0-py3-none-any.whl (18 kB)\n",
      "Collecting dvc-studio-client<1,>=0.8.0\n",
      "  Downloading dvc_studio_client-0.9.0-py3-none-any.whl (10 kB)\n",
      "Collecting dvc-task<1,>=0.2.1\n",
      "  Downloading dvc_task-0.2.1-py3-none-any.whl (24 kB)\n",
      "Collecting flatten-dict<1,>=0.4.1\n",
      "  Downloading flatten_dict-0.4.2-py2.py3-none-any.whl (9.7 kB)\n",
      "Collecting flufl.lock>=5\n",
      "  Downloading flufl.lock-7.1.1-py3-none-any.whl (11 kB)\n",
      "Collecting funcy>=1.14\n",
      "  Downloading funcy-2.0-py2.py3-none-any.whl (30 kB)\n",
      "Collecting grandalf<1,>=0.7\n",
      "  Downloading grandalf-0.8-py3-none-any.whl (41 kB)\n",
      "\u001b[2K     \u001b[90m━━━━━━━━━━━━━━━━━━━━━━━━━━━━━━━━━━━━━━━\u001b[0m \u001b[32m41.8/41.8 kB\u001b[0m \u001b[31m133.7 kB/s\u001b[0m eta \u001b[36m0:00:00\u001b[0ma \u001b[36m0:00:01\u001b[0m\n",
      "\u001b[?25hCollecting hydra-core>=1.1\n",
      "  Downloading hydra_core-1.3.2-py3-none-any.whl (154 kB)\n",
      "\u001b[2K     \u001b[90m━━━━━━━━━━━━━━━━━━━━━━━━━━━━━━━━━━━━━\u001b[0m \u001b[32m154.5/154.5 kB\u001b[0m \u001b[31m448.2 kB/s\u001b[0m eta \u001b[36m0:00:00\u001b[0ma \u001b[36m0:00:01\u001b[0m\n",
      "\u001b[?25hCollecting iterative-telemetry>=0.0.7\n",
      "  Downloading iterative_telemetry-0.0.8-py3-none-any.whl (10 kB)\n",
      "Collecting networkx>=2.5\n",
      "  Downloading networkx-3.1-py3-none-any.whl (2.1 MB)\n",
      "\u001b[2K     \u001b[90m━━━━━━━━━━━━━━━━━━━━━━━━━━━━━━━━━━━━━━━━\u001b[0m \u001b[32m2.1/2.1 MB\u001b[0m \u001b[31m1.3 MB/s\u001b[0m eta \u001b[36m0:00:00\u001b[0m00:01\u001b[0m00:01\u001b[0m0m\n",
      "\u001b[?25hRequirement already satisfied: packaging>=19 in /Users/dominikludwiczak/Library/Python/3.11/lib/python/site-packages (from dvc) (23.0)\n",
      "Collecting pathspec>=0.10.3\n",
      "  Downloading pathspec-0.11.1-py3-none-any.whl (29 kB)\n",
      "Requirement already satisfied: platformdirs<4,>=3.1.1 in /Users/dominikludwiczak/Library/Python/3.11/lib/python/site-packages (from dvc) (3.2.0)\n",
      "Requirement already satisfied: psutil>=5.8 in /Users/dominikludwiczak/Library/Python/3.11/lib/python/site-packages (from dvc) (5.9.4)\n",
      "Collecting pydot>=1.2.4\n",
      "  Downloading pydot-1.4.2-py2.py3-none-any.whl (21 kB)\n",
      "Collecting pygtrie>=2.3.2\n",
      "  Downloading pygtrie-2.5.0-py3-none-any.whl (25 kB)\n",
      "Requirement already satisfied: pyparsing>=2.4.7 in /opt/homebrew/lib/python3.11/site-packages (from dvc) (3.0.9)\n",
      "Collecting requests>=2.22\n",
      "  Downloading requests-2.30.0-py3-none-any.whl (62 kB)\n",
      "\u001b[2K     \u001b[90m━━━━━━━━━━━━━━━━━━━━━━━━━━━━━━━━━━━━━━━\u001b[0m \u001b[32m62.5/62.5 kB\u001b[0m \u001b[31m252.1 kB/s\u001b[0m eta \u001b[36m0:00:00\u001b[0ma \u001b[36m0:00:01\u001b[0m\n",
      "\u001b[?25hCollecting rich>=12\n",
      "  Downloading rich-13.3.5-py3-none-any.whl (238 kB)\n",
      "\u001b[2K     \u001b[90m━━━━━━━━━━━━━━━━━━━━━━━━━━━━━━━━━━━━━\u001b[0m \u001b[32m238.7/238.7 kB\u001b[0m \u001b[31m639.0 kB/s\u001b[0m eta \u001b[36m0:00:00\u001b[0ma \u001b[36m0:00:01\u001b[0m\n",
      "\u001b[?25hCollecting ruamel.yaml>=0.17.11\n",
      "  Downloading ruamel.yaml-0.17.24-py3-none-any.whl (109 kB)\n",
      "\u001b[2K     \u001b[90m━━━━━━━━━━━━━━━━━━━━━━━━━━━━━━━━━━━━━\u001b[0m \u001b[32m109.0/109.0 kB\u001b[0m \u001b[31m449.0 kB/s\u001b[0m eta \u001b[36m0:00:00\u001b[0ma \u001b[36m0:00:01\u001b[0m\n",
      "\u001b[?25hCollecting scmrepo<2,>=1.0.0\n",
      "  Downloading scmrepo-1.0.3-py3-none-any.whl (54 kB)\n",
      "\u001b[2K     \u001b[90m━━━━━━━━━━━━━━━━━━━━━━━━━━━━━━━━━━━━━━━\u001b[0m \u001b[32m54.7/54.7 kB\u001b[0m \u001b[31m299.2 kB/s\u001b[0m eta \u001b[36m0:00:00\u001b[0ma \u001b[36m0:00:01\u001b[0m\n",
      "\u001b[?25hCollecting shortuuid>=0.5\n",
      "  Downloading shortuuid-1.0.11-py3-none-any.whl (10 kB)\n",
      "Collecting shtab<2,>=1.3.4\n",
      "  Downloading shtab-1.6.1-py3-none-any.whl (13 kB)\n",
      "Collecting tabulate>=0.8.7\n",
      "  Downloading tabulate-0.9.0-py3-none-any.whl (35 kB)\n",
      "Collecting tomlkit>=0.11.1\n",
      "  Downloading tomlkit-0.11.8-py3-none-any.whl (35 kB)\n",
      "Collecting tqdm<5,>=4.63.1\n",
      "  Using cached tqdm-4.65.0-py3-none-any.whl (77 kB)\n",
      "Collecting voluptuous>=0.11.7\n",
      "  Downloading voluptuous-0.13.1-py3-none-any.whl (29 kB)\n",
      "Collecting zc.lockfile>=1.2.1\n",
      "  Downloading zc.lockfile-3.0.post1-py3-none-any.whl (9.8 kB)\n",
      "Requirement already satisfied: six in /Users/dominikludwiczak/Library/Python/3.11/lib/python/site-packages (from configobj>=5.0.6->dvc) (1.16.0)\n",
      "Collecting dictdiffer>=0.8.1\n",
      "  Downloading dictdiffer-0.9.0-py2.py3-none-any.whl (16 kB)\n",
      "Collecting dvc-objects<1,>=0.21.1\n",
      "  Downloading dvc_objects-0.21.2-py3-none-any.whl (37 kB)\n",
      "Collecting diskcache>=5.2.1\n",
      "  Downloading diskcache-5.6.1-py3-none-any.whl (45 kB)\n",
      "\u001b[2K     \u001b[90m━━━━━━━━━━━━━━━━━━━━━━━━━━━━━━━━━━━━━━━\u001b[0m \u001b[32m45.6/45.6 kB\u001b[0m \u001b[31m576.6 kB/s\u001b[0m eta \u001b[36m0:00:00\u001b[0m \u001b[36m0:00:01\u001b[0m\n",
      "\u001b[?25hCollecting nanotime>=0.5.2\n",
      "  Downloading nanotime-0.5.2.tar.gz (3.2 kB)\n",
      "  Preparing metadata (setup.py): started\n",
      "  Preparing metadata (setup.py): finished with status 'done'\n",
      "Collecting attrs>=21.3.0\n",
      "  Downloading attrs-23.1.0-py3-none-any.whl (61 kB)\n",
      "\u001b[2K     \u001b[90m━━━━━━━━━━━━━━━━━━━━━━━━━━━━━━━━━━━━━━━\u001b[0m \u001b[32m61.2/61.2 kB\u001b[0m \u001b[31m272.1 kB/s\u001b[0m eta \u001b[36m0:00:00\u001b[0ma \u001b[36m0:00:01\u001b[0m\n",
      "\u001b[?25hCollecting sqltrie<1,>=0.3.1\n",
      "  Downloading sqltrie-0.3.1-py3-none-any.whl (16 kB)\n",
      "Collecting fsspec[http]\n",
      "  Downloading fsspec-2023.5.0-py3-none-any.whl (160 kB)\n",
      "\u001b[2K     \u001b[90m━━━━━━━━━━━━━━━━━━━━━━━━━━━━━━━━━━━━━\u001b[0m \u001b[32m160.1/160.1 kB\u001b[0m \u001b[31m628.8 kB/s\u001b[0m eta \u001b[36m0:00:00\u001b[0ma \u001b[36m0:00:01\u001b[0m\n",
      "\u001b[?25hCollecting aiohttp-retry>=2.5.0\n",
      "  Downloading aiohttp_retry-2.8.3-py3-none-any.whl (9.8 kB)\n",
      "Collecting dulwich\n",
      "  Downloading dulwich-0.21.5-cp311-cp311-macosx_11_0_arm64.whl (470 kB)\n",
      "\u001b[2K     \u001b[90m━━━━━━━━━━━━━━━━━━━━━━━━━━━━━━━━━━━━━━━\u001b[0m \u001b[32m470.8/470.8 kB\u001b[0m \u001b[31m1.1 MB/s\u001b[0m eta \u001b[36m0:00:00\u001b[0m00:01\u001b[0m00:01\u001b[0m\n",
      "\u001b[?25hCollecting celery<6,>=5.2.0\n",
      "  Downloading celery-5.2.7-py3-none-any.whl (405 kB)\n",
      "\u001b[2K     \u001b[90m━━━━━━━━━━━━━━━━━━━━━━━━━━━━━━━━━━━━━\u001b[0m \u001b[32m405.6/405.6 kB\u001b[0m \u001b[31m775.7 kB/s\u001b[0m eta \u001b[36m0:00:00\u001b[0m00:01\u001b[0m00:01\u001b[0m\n",
      "\u001b[?25hCollecting kombu<6,>=5.2.0\n",
      "  Downloading kombu-5.2.4-py3-none-any.whl (189 kB)\n",
      "\u001b[2K     \u001b[90m━━━━━━━━━━━━━━━━━━━━━━━━━━━━━━━━━━━━━\u001b[0m \u001b[32m189.2/189.2 kB\u001b[0m \u001b[31m649.2 kB/s\u001b[0m eta \u001b[36m0:00:00\u001b[0ma \u001b[36m0:00:01\u001b[0m\n",
      "\u001b[?25hCollecting atpublic>=2.3\n",
      "  Downloading atpublic-3.1.1-py3-none-any.whl (4.8 kB)\n",
      "Collecting omegaconf<2.4,>=2.2\n",
      "  Downloading omegaconf-2.3.0-py3-none-any.whl (79 kB)\n",
      "\u001b[2K     \u001b[90m━━━━━━━━━━━━━━━━━━━━━━━━━━━━━━━━━━━━━━━\u001b[0m \u001b[32m79.5/79.5 kB\u001b[0m \u001b[31m399.5 kB/s\u001b[0m eta \u001b[36m0:00:00\u001b[0ma \u001b[36m0:00:01\u001b[0m\n",
      "\u001b[?25hCollecting antlr4-python3-runtime==4.9.*\n",
      "  Downloading antlr4-python3-runtime-4.9.3.tar.gz (117 kB)\n",
      "\u001b[2K     \u001b[90m━━━━━━━━━━━━━━━━━━━━━━━━━━━━━━━━━━━━━\u001b[0m \u001b[32m117.0/117.0 kB\u001b[0m \u001b[31m541.4 kB/s\u001b[0m eta \u001b[36m0:00:00\u001b[0ma \u001b[36m0:00:01\u001b[0m\n",
      "\u001b[?25h  Preparing metadata (setup.py): started\n",
      "  Preparing metadata (setup.py): finished with status 'done'\n",
      "Collecting appdirs\n",
      "  Downloading appdirs-1.4.4-py2.py3-none-any.whl (9.6 kB)\n",
      "Collecting filelock\n",
      "  Downloading filelock-3.12.0-py3-none-any.whl (10 kB)\n",
      "Collecting charset-normalizer<4,>=2\n",
      "  Downloading charset_normalizer-3.1.0-cp311-cp311-macosx_11_0_arm64.whl (121 kB)\n",
      "\u001b[2K     \u001b[90m━━━━━━━━━━━━━━━━━━━━━━━━━━━━━━━━━━━━━\u001b[0m \u001b[32m121.7/121.7 kB\u001b[0m \u001b[31m500.5 kB/s\u001b[0m eta \u001b[36m0:00:00\u001b[0ma \u001b[36m0:00:01\u001b[0m\n",
      "\u001b[?25hCollecting idna<4,>=2.5\n",
      "  Downloading idna-3.4-py3-none-any.whl (61 kB)\n",
      "\u001b[2K     \u001b[90m━━━━━━━━━━━━━━━━━━━━━━━━━━━━━━━━━━━━━━━\u001b[0m \u001b[32m61.5/61.5 kB\u001b[0m \u001b[31m439.4 kB/s\u001b[0m eta \u001b[36m0:00:00\u001b[0ma \u001b[36m0:00:01\u001b[0m\n",
      "\u001b[?25hCollecting urllib3<3,>=1.21.1\n",
      "  Downloading urllib3-2.0.2-py3-none-any.whl (123 kB)\n",
      "\u001b[2K     \u001b[90m━━━━━━━━━━━━━━━━━━━━━━━━━━━━━━━━━━━━━\u001b[0m \u001b[32m123.2/123.2 kB\u001b[0m \u001b[31m585.0 kB/s\u001b[0m eta \u001b[36m0:00:00\u001b[0ma \u001b[36m0:00:01\u001b[0m\n",
      "\u001b[?25hCollecting certifi>=2017.4.17\n",
      "  Downloading certifi-2023.5.7-py3-none-any.whl (156 kB)\n",
      "\u001b[2K     \u001b[90m━━━━━━━━━━━━━━━━━━━━━━━━━━━━━━━━━━━━━\u001b[0m \u001b[32m157.0/157.0 kB\u001b[0m \u001b[31m551.8 kB/s\u001b[0m eta \u001b[36m0:00:00\u001b[0m00:01\u001b[0m00:01\u001b[0m\n",
      "\u001b[?25hCollecting markdown-it-py<3.0.0,>=2.2.0\n",
      "  Downloading markdown_it_py-2.2.0-py3-none-any.whl (84 kB)\n",
      "\u001b[2K     \u001b[90m━━━━━━━━━━━━━━━━━━━━━━━━━━━━━━━━━━━━━━━\u001b[0m \u001b[32m84.5/84.5 kB\u001b[0m \u001b[31m386.5 kB/s\u001b[0m eta \u001b[36m0:00:00\u001b[0ma \u001b[36m0:00:01\u001b[0m\n",
      "\u001b[?25hRequirement already satisfied: pygments<3.0.0,>=2.13.0 in /Users/dominikludwiczak/Library/Python/3.11/lib/python/site-packages (from rich>=12->dvc) (2.14.0)\n",
      "Collecting ruamel.yaml.clib>=0.2.7\n",
      "  Downloading ruamel.yaml.clib-0.2.7-cp311-cp311-macosx_10_9_universal2.whl (139 kB)\n",
      "\u001b[2K     \u001b[90m━━━━━━━━━━━━━━━━━━━━━━━━━━━━━━━━━━━━━\u001b[0m \u001b[32m139.7/139.7 kB\u001b[0m \u001b[31m512.3 kB/s\u001b[0m eta \u001b[36m0:00:00\u001b[0ma \u001b[36m0:00:01\u001b[0m\n",
      "\u001b[?25hCollecting gitpython>3\n",
      "  Downloading GitPython-3.1.31-py3-none-any.whl (184 kB)\n",
      "\u001b[2K     \u001b[90m━━━━━━━━━━━━━━━━━━━━━━━━━━━━━━━━━━━━━\u001b[0m \u001b[32m184.3/184.3 kB\u001b[0m \u001b[31m550.7 kB/s\u001b[0m eta \u001b[36m0:00:00\u001b[0m00:01\u001b[0m00:01\u001b[0m\n",
      "\u001b[?25hCollecting pygit2>=1.10.0\n",
      "  Downloading pygit2-1.12.1-cp311-cp311-macosx_10_9_universal2.whl (5.6 MB)\n",
      "\u001b[2K     \u001b[90m━━━━━━━━━━━━━━━━━━━━━━━━━━━━━━━━━━━━━━━━\u001b[0m \u001b[32m5.6/5.6 MB\u001b[0m \u001b[31m1.5 MB/s\u001b[0m eta \u001b[36m0:00:00\u001b[0m00:01\u001b[0m00:01\u001b[0m\n",
      "\u001b[?25hCollecting asyncssh<3,>=2.13.1\n",
      "  Downloading asyncssh-2.13.1-py3-none-any.whl (348 kB)\n",
      "\u001b[2K     \u001b[90m━━━━━━━━━━━━━━━━━━━━━━━━━━━━━━━━━━━━━━━\u001b[0m \u001b[32m348.5/348.5 kB\u001b[0m \u001b[31m1.1 MB/s\u001b[0m eta \u001b[36m0:00:00\u001b[0ma \u001b[36m0:00:01\u001b[0m\n",
      "\u001b[?25hRequirement already satisfied: setuptools in /opt/homebrew/lib/python3.11/site-packages (from zc.lockfile>=1.2.1->dvc) (65.6.3)\n",
      "Collecting aiohttp\n",
      "  Downloading aiohttp-3.8.4-cp311-cp311-macosx_11_0_arm64.whl (332 kB)\n",
      "\u001b[2K     \u001b[90m━━━━━━━━━━━━━━━━━━━━━━━━━━━━━━━━━━━━━\u001b[0m \u001b[32m332.9/332.9 kB\u001b[0m \u001b[31m965.6 kB/s\u001b[0m eta \u001b[36m0:00:00\u001b[0m00:01\u001b[0m00:01\u001b[0m\n",
      "\u001b[?25hCollecting cryptography>=3.1\n",
      "  Downloading cryptography-40.0.2-cp36-abi3-macosx_10_12_universal2.whl (5.1 MB)\n",
      "\u001b[2K     \u001b[90m━━━━━━━━━━━━━━━━━━━━━━━━━━━━━━━━━━━━━━━━\u001b[0m \u001b[32m5.1/5.1 MB\u001b[0m \u001b[31m1.7 MB/s\u001b[0m eta \u001b[36m0:00:00\u001b[0m00:01\u001b[0m00:01\u001b[0m\n",
      "\u001b[?25hCollecting typing-extensions>=3.6\n",
      "  Using cached typing_extensions-4.5.0-py3-none-any.whl (27 kB)\n",
      "Requirement already satisfied: pytz>=2021.3 in /opt/homebrew/lib/python3.11/site-packages (from celery<6,>=5.2.0->dvc-task<1,>=0.2.1->dvc) (2023.3)\n",
      "Collecting billiard<4.0,>=3.6.4.0\n",
      "  Downloading billiard-3.6.4.0-py3-none-any.whl (89 kB)\n",
      "\u001b[2K     \u001b[90m━━━━━━━━━━━━━━━━━━━━━━━━━━━━━━━━━━━━━━━\u001b[0m \u001b[32m89.5/89.5 kB\u001b[0m \u001b[31m414.1 kB/s\u001b[0m eta \u001b[36m0:00:00\u001b[0ma \u001b[36m0:00:01\u001b[0m\n",
      "\u001b[?25hCollecting vine<6.0,>=5.0.0\n",
      "  Downloading vine-5.0.0-py2.py3-none-any.whl (9.4 kB)\n",
      "Collecting click<9.0,>=8.0.3\n",
      "  Downloading click-8.1.3-py3-none-any.whl (96 kB)\n",
      "\u001b[2K     \u001b[90m━━━━━━━━━━━━━━━━━━━━━━━━━━━━━━━━━━━━━━━\u001b[0m \u001b[32m96.6/96.6 kB\u001b[0m \u001b[31m630.4 kB/s\u001b[0m eta \u001b[36m0:00:00\u001b[0ma \u001b[36m0:00:01\u001b[0m\n",
      "\u001b[?25hCollecting click-didyoumean>=0.0.3\n",
      "  Downloading click_didyoumean-0.3.0-py3-none-any.whl (2.7 kB)\n",
      "Collecting click-repl>=0.2.0\n",
      "  Downloading click_repl-0.2.0-py3-none-any.whl (5.2 kB)\n",
      "Collecting click-plugins>=1.1.1\n",
      "  Downloading click_plugins-1.1.1-py2.py3-none-any.whl (7.5 kB)\n",
      "Collecting gitdb<5,>=4.0.1\n",
      "  Downloading gitdb-4.0.10-py3-none-any.whl (62 kB)\n",
      "\u001b[2K     \u001b[90m━━━━━━━━━━━━━━━━━━━━━━━━━━━━━━━━━━━━━━━\u001b[0m \u001b[32m62.7/62.7 kB\u001b[0m \u001b[31m272.2 kB/s\u001b[0m eta \u001b[36m0:00:00\u001b[0ma \u001b[36m0:00:01\u001b[0m\n",
      "\u001b[?25hCollecting amqp<6.0.0,>=5.0.9\n",
      "  Downloading amqp-5.1.1-py3-none-any.whl (50 kB)\n",
      "\u001b[2K     \u001b[90m━━━━━━━━━━━━━━━━━━━━━━━━━━━━━━━━━━━━━━━\u001b[0m \u001b[32m50.8/50.8 kB\u001b[0m \u001b[31m280.9 kB/s\u001b[0m eta \u001b[36m0:00:00\u001b[0ma \u001b[36m0:00:01\u001b[0m\n",
      "\u001b[?25hCollecting mdurl~=0.1\n",
      "  Downloading mdurl-0.1.2-py3-none-any.whl (10.0 kB)\n",
      "Collecting PyYAML>=5.1.0\n",
      "  Downloading PyYAML-6.0-cp311-cp311-macosx_11_0_arm64.whl (167 kB)\n",
      "\u001b[2K     \u001b[90m━━━━━━━━━━━━━━━━━━━━━━━━━━━━━━━━━━━━━\u001b[0m \u001b[32m167.5/167.5 kB\u001b[0m \u001b[31m959.1 kB/s\u001b[0m eta \u001b[36m0:00:00\u001b[0ma \u001b[36m0:00:01\u001b[0m\n",
      "\u001b[?25hCollecting cffi>=1.9.1\n",
      "  Downloading cffi-1.15.1-cp311-cp311-macosx_11_0_arm64.whl (174 kB)\n",
      "\u001b[2K     \u001b[90m━━━━━━━━━━━━━━━━━━━━━━━━━━━━━━━━━━━━━\u001b[0m \u001b[32m174.2/174.2 kB\u001b[0m \u001b[31m596.5 kB/s\u001b[0m eta \u001b[36m0:00:00\u001b[0ma \u001b[36m0:00:01\u001b[0m\n",
      "\u001b[?25hCollecting orjson\n",
      "  Downloading orjson-3.8.12-cp311-cp311-macosx_11_0_x86_64.macosx_11_0_arm64.macosx_11_0_universal2.whl (239 kB)\n",
      "\u001b[2K     \u001b[90m━━━━━━━━━━━━━━━━━━━━━━━━━━━━━━━━━━━━━\u001b[0m \u001b[32m239.7/239.7 kB\u001b[0m \u001b[31m632.0 kB/s\u001b[0m eta \u001b[36m0:00:00\u001b[0ma \u001b[36m0:00:01\u001b[0m\n",
      "\u001b[?25hCollecting multidict<7.0,>=4.5\n",
      "  Downloading multidict-6.0.4-cp311-cp311-macosx_11_0_arm64.whl (29 kB)\n",
      "Collecting async-timeout<5.0,>=4.0.0a3\n",
      "  Downloading async_timeout-4.0.2-py3-none-any.whl (5.8 kB)\n",
      "Collecting yarl<2.0,>=1.0\n",
      "  Downloading yarl-1.9.2-cp311-cp311-macosx_11_0_arm64.whl (61 kB)\n",
      "\u001b[2K     \u001b[90m━━━━━━━━━━━━━━━━━━━━━━━━━━━━━━━━━━━━━━━\u001b[0m \u001b[32m61.3/61.3 kB\u001b[0m \u001b[31m300.1 kB/s\u001b[0m eta \u001b[36m0:00:00\u001b[0ma \u001b[36m0:00:01\u001b[0m\n",
      "\u001b[?25hCollecting frozenlist>=1.1.1\n",
      "  Downloading frozenlist-1.3.3-cp311-cp311-macosx_11_0_arm64.whl (34 kB)\n",
      "Collecting aiosignal>=1.1.2\n",
      "  Downloading aiosignal-1.3.1-py3-none-any.whl (7.6 kB)\n",
      "Collecting pycparser\n",
      "  Downloading pycparser-2.21-py2.py3-none-any.whl (118 kB)\n",
      "\u001b[2K     \u001b[90m━━━━━━━━━━━━━━━━━━━━━━━━━━━━━━━━━━━━━\u001b[0m \u001b[32m118.7/118.7 kB\u001b[0m \u001b[31m498.2 kB/s\u001b[0m eta \u001b[36m0:00:00\u001b[0ma \u001b[36m0:00:01\u001b[0m\n",
      "\u001b[?25hRequirement already satisfied: prompt-toolkit in /Users/dominikludwiczak/Library/Python/3.11/lib/python/site-packages (from click-repl>=0.2.0->celery<6,>=5.2.0->dvc-task<1,>=0.2.1->dvc) (3.0.38)\n",
      "Collecting smmap<6,>=3.0.1\n",
      "  Downloading smmap-5.0.0-py3-none-any.whl (24 kB)\n",
      "Requirement already satisfied: wcwidth in /Users/dominikludwiczak/Library/Python/3.11/lib/python/site-packages (from prompt-toolkit->click-repl>=0.2.0->celery<6,>=5.2.0->dvc-task<1,>=0.2.1->dvc) (0.2.6)\n",
      "Building wheels for collected packages: antlr4-python3-runtime, nanotime\n",
      "  Building wheel for antlr4-python3-runtime (setup.py): started\n",
      "  Building wheel for antlr4-python3-runtime (setup.py): finished with status 'done'\n",
      "  Created wheel for antlr4-python3-runtime: filename=antlr4_python3_runtime-4.9.3-py3-none-any.whl size=144554 sha256=aae5bffe867bf73706ed8000f7070ccb3527212dd83de84b41f88466c4b32b03\n",
      "  Stored in directory: /Users/dominikludwiczak/Library/Caches/pip/wheels/1a/97/32/461f837398029ad76911109f07047fde1d7b661a147c7c56d1\n",
      "  Building wheel for nanotime (setup.py): started\n",
      "  Building wheel for nanotime (setup.py): finished with status 'done'\n",
      "  Created wheel for nanotime: filename=nanotime-0.5.2-py3-none-any.whl size=2426 sha256=6ea12999327c0c805476f2b0402190584ca6070d37eb8bf3030979f88368b449\n",
      "  Stored in directory: /Users/dominikludwiczak/Library/Caches/pip/wheels/d8/46/bf/1c292971573ce50288944c35dd59468192d4ed1eff3cf65018\n",
      "Successfully built antlr4-python3-runtime nanotime\n",
      "Installing collected packages: voluptuous, pygtrie, nanotime, funcy, dictdiffer, billiard, appdirs, antlr4-python3-runtime, zc.lockfile, vine, urllib3, typing-extensions, tqdm, tomlkit, tabulate, smmap, shtab, shortuuid, ruamel.yaml.clib, PyYAML, pydot, pycparser, pathspec, orjson, networkx, multidict, mdurl, idna, grandalf, fsspec, frozenlist, flatten-dict, filelock, dvc-render, dpath, distro, diskcache, configobj, colorama, click, charset-normalizer, certifi, attrs, atpublic, async-timeout, yarl, sqltrie, ruamel.yaml, requests, omegaconf, markdown-it-py, gitdb, flufl.lock, dvc-objects, dulwich, click-repl, click-plugins, click-didyoumean, cffi, amqp, aiosignal, rich, pygit2, kombu, iterative-telemetry, hydra-core, gitpython, dvc-studio-client, dvc-data, cryptography, aiohttp, celery, asyncssh, aiohttp-retry, scmrepo, dvc-task, dvc-http, dvc\n",
      "Successfully installed PyYAML-6.0 aiohttp-3.8.4 aiohttp-retry-2.8.3 aiosignal-1.3.1 amqp-5.1.1 antlr4-python3-runtime-4.9.3 appdirs-1.4.4 async-timeout-4.0.2 asyncssh-2.13.1 atpublic-3.1.1 attrs-23.1.0 billiard-3.6.4.0 celery-5.2.7 certifi-2023.5.7 cffi-1.15.1 charset-normalizer-3.1.0 click-8.1.3 click-didyoumean-0.3.0 click-plugins-1.1.1 click-repl-0.2.0 colorama-0.4.6 configobj-5.0.8 cryptography-40.0.2 dictdiffer-0.9.0 diskcache-5.6.1 distro-1.8.0 dpath-2.1.5 dulwich-0.21.5 dvc-2.56.0 dvc-data-0.47.5 dvc-http-2.30.2 dvc-objects-0.21.2 dvc-render-0.4.0 dvc-studio-client-0.9.0 dvc-task-0.2.1 filelock-3.12.0 flatten-dict-0.4.2 flufl.lock-7.1.1 frozenlist-1.3.3 fsspec-2023.5.0 funcy-2.0 gitdb-4.0.10 gitpython-3.1.31 grandalf-0.8 hydra-core-1.3.2 idna-3.4 iterative-telemetry-0.0.8 kombu-5.2.4 markdown-it-py-2.2.0 mdurl-0.1.2 multidict-6.0.4 nanotime-0.5.2 networkx-3.1 omegaconf-2.3.0 orjson-3.8.12 pathspec-0.11.1 pycparser-2.21 pydot-1.4.2 pygit2-1.12.1 pygtrie-2.5.0 requests-2.30.0 rich-13.3.5 ruamel.yaml-0.17.24 ruamel.yaml.clib-0.2.7 scmrepo-1.0.3 shortuuid-1.0.11 shtab-1.6.1 smmap-5.0.0 sqltrie-0.3.1 tabulate-0.9.0 tomlkit-0.11.8 tqdm-4.65.0 typing-extensions-4.5.0 urllib3-2.0.2 vine-5.0.0 voluptuous-0.13.1 yarl-1.9.2 zc.lockfile-3.0.post1\n"
     ]
    },
    {
     "name": "stderr",
     "output_type": "stream",
     "text": [
      "\n",
      "\u001b[1m[\u001b[0m\u001b[34;49mnotice\u001b[0m\u001b[1;39;49m]\u001b[0m\u001b[39;49m A new release of pip is available: \u001b[0m\u001b[31;49m23.0.1\u001b[0m\u001b[39;49m -> \u001b[0m\u001b[32;49m23.1.2\u001b[0m\n",
      "\u001b[1m[\u001b[0m\u001b[34;49mnotice\u001b[0m\u001b[1;39;49m]\u001b[0m\u001b[39;49m To update, run: \u001b[0m\u001b[32;49mpython3.11 -m pip install --upgrade pip\u001b[0m\n"
     ]
    }
   ],
   "source": [
    "%%bash\n",
    "\n",
    "pip install dvc"
   ]
  },
  {
   "attachments": {},
   "cell_type": "markdown",
   "metadata": {},
   "source": [
    "The first step is to create a directory and to initialize `git` inside it."
   ]
  },
  {
   "cell_type": "code",
   "execution_count": 9,
   "metadata": {
    "ExecuteTime": {
     "end_time": "2021-02-03T12:09:58.804766Z",
     "start_time": "2021-02-03T12:09:58.776830Z"
    }
   },
   "outputs": [
    {
     "name": "stderr",
     "output_type": "stream",
     "text": [
      "mkdir: dvc-tutorial: File exists\n"
     ]
    },
    {
     "name": "stdout",
     "output_type": "stream",
     "text": [
      "Initialized empty Git repository in /Users/dominikludwiczak/Library/CloudStorage/OneDrive-put.poznan.pl/semestr 4/Data Mining/Clustering/dvc-tutorial/.git/\n"
     ]
    }
   ],
   "source": [
    "%%bash\n",
    "\n",
    "mkdir dvc-tutorial\n",
    "\n",
    "cd dvc-tutorial\n",
    "\n",
    "git init"
   ]
  },
  {
   "cell_type": "code",
   "execution_count": 10,
   "metadata": {
    "ExecuteTime": {
     "end_time": "2021-02-03T12:09:59.634439Z",
     "start_time": "2021-02-03T12:09:59.618967Z"
    }
   },
   "outputs": [
    {
     "name": "stdout",
     "output_type": "stream",
     "text": [
      "/Users/dominikludwiczak/Library/CloudStorage/OneDrive-put.poznan.pl/semestr 4/Data Mining/Clustering/dvc-tutorial\n"
     ]
    }
   ],
   "source": [
    "%cd dvc-tutorial"
   ]
  },
  {
   "cell_type": "code",
   "execution_count": 11,
   "metadata": {
    "ExecuteTime": {
     "end_time": "2021-02-03T12:10:02.271419Z",
     "start_time": "2021-02-03T12:10:00.413675Z"
    }
   },
   "outputs": [
    {
     "name": "stdout",
     "output_type": "stream",
     "text": [
      "Initialized DVC repository.\n",
      "\n",
      "You can now commit the changes to git.\n",
      "\n",
      "+---------------------------------------------------------------------+\n",
      "|                                                                     |\n",
      "|        DVC has enabled anonymous aggregate usage analytics.         |\n",
      "|     Read the analytics documentation (and how to opt-out) here:     |\n",
      "|             <https://dvc.org/doc/user-guide/analytics>              |\n",
      "|                                                                     |\n",
      "+---------------------------------------------------------------------+\n",
      "\n",
      "What's next?\n",
      "------------\n",
      "- Check out the documentation: <https://dvc.org/doc>\n",
      "- Get help and share ideas: <https://dvc.org/chat>\n",
      "- Star us on GitHub: <https://github.com/iterative/dvc>\n"
     ]
    }
   ],
   "source": [
    "%%bash\n",
    "\n",
    "dvc init"
   ]
  },
  {
   "cell_type": "code",
   "execution_count": 12,
   "metadata": {
    "ExecuteTime": {
     "end_time": "2021-02-03T12:10:03.117289Z",
     "start_time": "2021-02-03T12:10:03.094350Z"
    }
   },
   "outputs": [
    {
     "name": "stdout",
     "output_type": "stream",
     "text": [
      "On branch main\n",
      "\n",
      "No commits yet\n",
      "\n",
      "Changes to be committed:\n",
      "  (use \"git rm --cached <file>...\" to unstage)\n",
      "\tnew file:   .dvc/.gitignore\n",
      "\tnew file:   .dvc/config\n",
      "\tnew file:   .dvcignore\n",
      "\n"
     ]
    }
   ],
   "source": [
    "%%bash\n",
    "\n",
    "git status"
   ]
  },
  {
   "cell_type": "code",
   "execution_count": 13,
   "metadata": {
    "ExecuteTime": {
     "end_time": "2021-02-03T12:10:04.565289Z",
     "start_time": "2021-02-03T12:10:04.527525Z"
    }
   },
   "outputs": [
    {
     "name": "stderr",
     "output_type": "stream",
     "text": [
      "warning: could not open directory '.dvc/plots/': No such file or directory\n",
      "fatal: pathspec '.dvc/plots/*' did not match any files\n"
     ]
    },
    {
     "name": "stdout",
     "output_type": "stream",
     "text": [
      "[main (root-commit) 75281c7] Initialize DVC for the project\n",
      " 3 files changed, 6 insertions(+)\n",
      " create mode 100644 .dvc/.gitignore\n",
      " create mode 100644 .dvc/config\n",
      " create mode 100644 .dvcignore\n"
     ]
    }
   ],
   "source": [
    "%%bash\n",
    "\n",
    "git add .dvc/plots/*\n",
    "git add .dvc/config\n",
    "git add .dvc/.gitignore\n",
    "git add .dvcignore\n",
    "\n",
    "git commit -m \"Initialize DVC for the project\""
   ]
  },
  {
   "attachments": {},
   "cell_type": "markdown",
   "metadata": {},
   "source": [
    "## Data versioning\n",
    "\n",
    "The main goal of `dvc` is to allow for large data files versioning. Using `git` for this purpose is [quite problematic](https://docs.github.com/en/github/managing-large-files/working-with-large-files). In this laboratory we will use `dvc` to work with different versions of the same data file.\n",
    "\n",
    "Before starting the laboratory you should download and locally store `adult.data` and `adult.names` files from [UCI ML Repository](https://archive.ics.uci.edu/ml/machine-learning-databases/adult/)"
   ]
  },
  {
   "cell_type": "code",
   "execution_count": 15,
   "metadata": {},
   "outputs": [
    {
     "name": "stderr",
     "output_type": "stream",
     "text": [
      "mkdir: data: File exists\n"
     ]
    }
   ],
   "source": [
    "%%bash\n",
    "\n",
    "mkdir data\n",
    "cp ../adult* data"
   ]
  },
  {
   "cell_type": "code",
   "execution_count": 16,
   "metadata": {
    "ExecuteTime": {
     "end_time": "2021-02-03T12:31:09.898261Z",
     "start_time": "2021-02-03T12:31:06.794621Z"
    }
   },
   "outputs": [
    {
     "name": "stderr",
     "output_type": "stream",
     "text": [
      "\u001b[?25l⠋ Checking graph\n"
     ]
    },
    {
     "name": "stdout",
     "output_type": "stream",
     "text": [
      "\n",
      "To track the changes with git, run:\n",
      "\n",
      "\tgit add data/.gitignore data/adult.data.dvc\n",
      "\n",
      "To enable auto staging, run:\n",
      "\n",
      "\tdvc config core.autostage true\n"
     ]
    },
    {
     "name": "stderr",
     "output_type": "stream",
     "text": [
      "\u001b[?25l⠋ Checking graph\n"
     ]
    },
    {
     "name": "stdout",
     "output_type": "stream",
     "text": [
      "\n",
      "To track the changes with git, run:\n",
      "\n",
      "\tgit add data/adult.names.dvc data/.gitignore\n",
      "\n",
      "To enable auto staging, run:\n",
      "\n",
      "\tdvc config core.autostage true\n"
     ]
    },
    {
     "name": "stderr",
     "output_type": "stream",
     "text": [
      "\u001b[?25h\r"
     ]
    }
   ],
   "source": [
    "%%bash\n",
    "\n",
    "dvc add data/adult.data\n",
    "dvc add data/adult.names"
   ]
  },
  {
   "attachments": {},
   "cell_type": "markdown",
   "metadata": {},
   "source": [
    "Let's take a look at the files which were automatically created as the result of adding data files to the repo."
   ]
  },
  {
   "cell_type": "code",
   "execution_count": 60,
   "metadata": {
    "ExecuteTime": {
     "end_time": "2021-02-03T12:32:33.974755Z",
     "start_time": "2021-02-03T12:32:33.946910Z"
    }
   },
   "outputs": [
    {
     "name": "stdout",
     "output_type": "stream",
     "text": [
      "outs:\n",
      "- md5: 5d7c39d7b8804f071cdd1f2a7c460872\n",
      "  size: 3974305\n",
      "  path: adult.data\n"
     ]
    }
   ],
   "source": [
    "%%bash\n",
    "\n",
    "cat data/adult.data.dvc"
   ]
  },
  {
   "cell_type": "code",
   "execution_count": 61,
   "metadata": {
    "ExecuteTime": {
     "end_time": "2021-02-03T12:32:43.169365Z",
     "start_time": "2021-02-03T12:32:43.157533Z"
    }
   },
   "outputs": [
    {
     "name": "stdout",
     "output_type": "stream",
     "text": [
      "outs:\n",
      "- md5: 1a7cdb3ff7a1b709968b1c7a11def63e\n",
      "  size: 5229\n",
      "  path: adult.names\n"
     ]
    }
   ],
   "source": [
    "%%bash\n",
    "\n",
    "cat data/adult.names.dvc"
   ]
  },
  {
   "attachments": {},
   "cell_type": "markdown",
   "metadata": {},
   "source": [
    "In order to allow for change tracking in data files we need to add `*.dvc` and   `data/.gitignore` files to the Git repository."
   ]
  },
  {
   "cell_type": "code",
   "execution_count": 19,
   "metadata": {
    "ExecuteTime": {
     "end_time": "2021-02-03T12:34:23.595700Z",
     "start_time": "2021-02-03T12:34:23.568663Z"
    }
   },
   "outputs": [
    {
     "name": "stdout",
     "output_type": "stream",
     "text": [
      "[main b5645f5] Added ADULT dataset\n",
      " 3 files changed, 10 insertions(+)\n",
      " create mode 100644 data/.gitignore\n",
      " create mode 100644 data/adult.data.dvc\n",
      " create mode 100644 data/adult.names.dvc\n"
     ]
    }
   ],
   "source": [
    "%%bash\n",
    "\n",
    "git add data/.gitignore data/adult.data.dvc data/adult.names.dvc\n",
    "git commit -m \"Added ADULT dataset\""
   ]
  },
  {
   "attachments": {},
   "cell_type": "markdown",
   "metadata": {},
   "source": [
    "Our next step is to create a remote data repository. DVC works with many external data sources, including Amazon S3, Google Cloud Storage, remote servers accessible via `ssh`, HDFS systems, and many more. We will use a local directory to simulate an external repo."
   ]
  },
  {
   "cell_type": "code",
   "execution_count": 20,
   "metadata": {
    "ExecuteTime": {
     "end_time": "2021-02-03T12:38:03.702839Z",
     "start_time": "2021-02-03T12:38:02.088781Z"
    }
   },
   "outputs": [
    {
     "name": "stdout",
     "output_type": "stream",
     "text": [
      "Setting 'repozytorium' as a default remote.\n",
      "[main d7e7ef4] Added local directory simulating remote data repository\n",
      " 1 file changed, 4 insertions(+)\n"
     ]
    }
   ],
   "source": [
    "%%bash\n",
    "\n",
    "mkdir -p ~/dvcrepo\n",
    "dvc remote add -d repozytorium ~/dvcrepo\n",
    "git commit .dvc/config -m \"Added local directory simulating remote data repository\""
   ]
  },
  {
   "cell_type": "code",
   "execution_count": 21,
   "metadata": {
    "ExecuteTime": {
     "end_time": "2021-02-03T12:38:57.434966Z",
     "start_time": "2021-02-03T12:38:55.822517Z"
    }
   },
   "outputs": [
    {
     "name": "stdout",
     "output_type": "stream",
     "text": [
      "2 files pushed\n"
     ]
    }
   ],
   "source": [
    "%%bash\n",
    "\n",
    "dvc push"
   ]
  },
  {
   "cell_type": "code",
   "execution_count": 22,
   "metadata": {
    "ExecuteTime": {
     "end_time": "2021-02-03T12:39:13.588479Z",
     "start_time": "2021-02-03T12:39:13.559465Z"
    }
   },
   "outputs": [
    {
     "name": "stdout",
     "output_type": "stream",
     "text": [
      "total 0\n",
      "drwxr-xr-x   4 dominikludwiczak  staff   128 May  8 08:37 \u001b[34m.\u001b[m\u001b[m\n",
      "drwxr-x---+ 52 dominikludwiczak  staff  1664 May  8 08:37 \u001b[34m..\u001b[m\u001b[m\n",
      "drwxr-xr-x   3 dominikludwiczak  staff    96 May  8 08:37 \u001b[34m1a\u001b[m\u001b[m\n",
      "drwxr-xr-x   3 dominikludwiczak  staff    96 May  8 08:37 \u001b[34m5d\u001b[m\u001b[m\n"
     ]
    }
   ],
   "source": [
    "%%bash\n",
    "\n",
    "ls -al ~/dvcrepo/"
   ]
  },
  {
   "cell_type": "code",
   "execution_count": 23,
   "metadata": {
    "ExecuteTime": {
     "end_time": "2021-02-03T12:40:22.490328Z",
     "start_time": "2021-02-03T12:40:22.477786Z"
    }
   },
   "outputs": [
    {
     "name": "stdout",
     "output_type": "stream",
     "text": [
      "total 16\n",
      "drwxr-xr-x  3 dominikludwiczak  staff    96 May  8 08:37 \u001b[34m.\u001b[m\u001b[m\n",
      "drwxr-xr-x  4 dominikludwiczak  staff   128 May  8 08:37 \u001b[34m..\u001b[m\u001b[m\n",
      "-r--r--r--@ 1 dominikludwiczak  staff  5229 May  8 08:36 7cdb3ff7a1b709968b1c7a11def63e\n"
     ]
    }
   ],
   "source": [
    "%%bash \n",
    "\n",
    "ls -al ~/dvcrepo/1a/"
   ]
  },
  {
   "cell_type": "code",
   "execution_count": 24,
   "metadata": {
    "ExecuteTime": {
     "end_time": "2021-02-03T12:41:01.909662Z",
     "start_time": "2021-02-03T12:41:01.886105Z"
    }
   },
   "outputs": [
    {
     "name": "stdout",
     "output_type": "stream",
     "text": [
      "| This data was extracted from the census bureau database found at\n",
      "| http://www.census.gov/ftp/pub/DES/www/welcome.html\n",
      "| Donor: Ronny Kohavi and Barry Becker,\n",
      "|        Data Mining and Visualization\n",
      "|        Silicon Graphics.\n",
      "|        e-mail: ronnyk@sgi.com for questions.\n",
      "| Split into train-test using MLC++ GenCVFiles (2/3, 1/3 random).\n",
      "| 48842 instances, mix of continuous and discrete    (train=32561, test=16281)\n",
      "| 45222 if instances with unknown values are removed (train=30162, test=15060)\n",
      "| Duplicate or conflicting instances : 6\n",
      "| Class probabilities for adult.all file\n",
      "| Probability for the label '>50K'  : 23.93% / 24.78% (without unknowns)\n",
      "| Probability for the label '<=50K' : 76.07% / 75.22% (without unknowns)\n",
      "|\n",
      "| Extraction was done by Barry Becker from the 1994 Census database.  A set of\n",
      "|   reasonably clean records was extracted using the following conditions:\n",
      "|   ((AAGE>16) && (AGI>100) && (AFNLWGT>1)&& (HRSWK>0))\n",
      "|\n",
      "| Prediction task is to determine whether a person makes over 50K\n",
      "| a year.\n",
      "|\n",
      "| First cited in:\n",
      "| @inproceedings{kohavi-nbtree,\n",
      "|    author={Ron Kohavi},\n",
      "|    title={Scaling Up the Accuracy of Naive-Bayes Classifiers: a\n",
      "|           Decision-Tree Hybrid},\n",
      "|    booktitle={Proceedings of the Second International Conference on\n",
      "|               Knowledge Discovery and Data Mining},\n",
      "|    year = 1996,\n",
      "|    pages={to appear}}\n",
      "|\n",
      "| Error Accuracy reported as follows, after removal of unknowns from\n",
      "|    train/test sets):\n",
      "|    C4.5       : 84.46+-0.30\n",
      "|    Naive-Bayes: 83.88+-0.30\n",
      "|    NBTree     : 85.90+-0.28\n",
      "|\n",
      "|\n",
      "| Following algorithms were later run with the following error rates,\n",
      "|    all after removal of unknowns and using the original train/test split.\n",
      "|    All these numbers are straight runs using MLC++ with default values.\n",
      "|\n",
      "|    Algorithm               Error\n",
      "| -- ----------------        -----\n",
      "| 1  C4.5                    15.54\n",
      "| 2  C4.5-auto               14.46\n",
      "| 3  C4.5 rules              14.94\n",
      "| 4  Voted ID3 (0.6)         15.64\n",
      "| 5  Voted ID3 (0.8)         16.47\n",
      "| 6  T2                      16.84\n",
      "| 7  1R                      19.54\n",
      "| 8  NBTree                  14.10\n",
      "| 9  CN2                     16.00\n",
      "| 10 HOODG                   14.82\n",
      "| 11 FSS Naive Bayes         14.05\n",
      "| 12 IDTM (Decision table)   14.46\n",
      "| 13 Naive-Bayes             16.12\n",
      "| 14 Nearest-neighbor (1)    21.42\n",
      "| 15 Nearest-neighbor (3)    20.35\n",
      "| 16 OC1                     15.04\n",
      "| 17 Pebls                   Crashed.  Unknown why (bounds WERE increased)\n",
      "|\n",
      "| Conversion of original data as follows:\n",
      "| 1. Discretized agrossincome into two ranges with threshold 50,000.\n",
      "| 2. Convert U.S. to US to avoid periods.\n",
      "| 3. Convert Unknown to \"?\"\n",
      "| 4. Run MLC++ GenCVFiles to generate data,test.\n",
      "|\n",
      "| Description of fnlwgt (final weight)\n",
      "|\n",
      "| The weights on the CPS files are controlled to independent estimates of the\n",
      "| civilian noninstitutional population of the US.  These are prepared monthly\n",
      "| for us by Population Division here at the Census Bureau.  We use 3 sets of\n",
      "| controls.\n",
      "|  These are:\n",
      "|          1.  A single cell estimate of the population 16+ for each state.\n",
      "|          2.  Controls for Hispanic Origin by age and sex.\n",
      "|          3.  Controls by Race, age and sex.\n",
      "|\n",
      "| We use all three sets of controls in our weighting program and \"rake\" through\n",
      "| them 6 times so that by the end we come back to all the controls we used.\n",
      "|\n",
      "| The term estimate refers to population totals derived from CPS by creating\n",
      "| \"weighted tallies\" of any specified socio-economic characteristics of the\n",
      "| population.\n",
      "|\n",
      "| People with similar demographic characteristics should have\n",
      "| similar weights.  There is one important caveat to remember\n",
      "| about this statement.  That is that since the CPS sample is\n",
      "| actually a collection of 51 state samples, each with its own\n",
      "| probability of selection, the statement only applies within\n",
      "| state.\n",
      "\n",
      "\n",
      ">50K, <=50K.\n",
      "\n",
      "age: continuous.\n",
      "workclass: Private, Self-emp-not-inc, Self-emp-inc, Federal-gov, Local-gov, State-gov, Without-pay, Never-worked.\n",
      "fnlwgt: continuous.\n",
      "education: Bachelors, Some-college, 11th, HS-grad, Prof-school, Assoc-acdm, Assoc-voc, 9th, 7th-8th, 12th, Masters, 1st-4th, 10th, Doctorate, 5th-6th, Preschool.\n",
      "education-num: continuous.\n",
      "marital-status: Married-civ-spouse, Divorced, Never-married, Separated, Widowed, Married-spouse-absent, Married-AF-spouse.\n",
      "occupation: Tech-support, Craft-repair, Other-service, Sales, Exec-managerial, Prof-specialty, Handlers-cleaners, Machine-op-inspct, Adm-clerical, Farming-fishing, Transport-moving, Priv-house-serv, Protective-serv, Armed-Forces.\n",
      "relationship: Wife, Own-child, Husband, Not-in-family, Other-relative, Unmarried.\n",
      "race: White, Asian-Pac-Islander, Amer-Indian-Eskimo, Other, Black.\n",
      "sex: Female, Male.\n",
      "capital-gain: continuous.\n",
      "capital-loss: continuous.\n",
      "hours-per-week: continuous.\n",
      "native-country: United-States, Cambodia, England, Puerto-Rico, Canada, Germany, Outlying-US(Guam-USVI-etc), India, Japan, Greece, South, China, Cuba, Iran, Honduras, Philippines, Italy, Poland, Jamaica, Vietnam, Mexico, Portugal, Ireland, France, Dominican-Republic, Laos, Ecuador, Taiwan, Haiti, Columbia, Hungary, Guatemala, Nicaragua, Scotland, Thailand, Yugoslavia, El-Salvador, Trinadad&Tobago, Peru, Hong, Holand-Netherlands.\n"
     ]
    }
   ],
   "source": [
    "%%bash\n",
    "\n",
    "cat ~/dvcrepo/1a/7cdb3ff7a1b709968b1c7a11def63e"
   ]
  },
  {
   "attachments": {},
   "cell_type": "markdown",
   "metadata": {},
   "source": [
    "Remote repo can be used to download original versions of data files when fixing the unnecessary changes, re-creating an experimental branch, etc."
   ]
  },
  {
   "cell_type": "code",
   "execution_count": 62,
   "metadata": {
    "ExecuteTime": {
     "end_time": "2021-02-03T12:42:46.905102Z",
     "start_time": "2021-02-03T12:42:46.871899Z"
    }
   },
   "outputs": [
    {
     "name": "stdout",
     "output_type": "stream",
     "text": [
      "total 24\n",
      "drwxr-xr-x  5 dominikludwiczak  staff  160 May  8 08:56 \u001b[34m.\u001b[m\u001b[m\n",
      "drwxr-xr-x  6 dominikludwiczak  staff  192 May  8 08:35 \u001b[34m..\u001b[m\u001b[m\n",
      "-rw-r--r--  1 dominikludwiczak  staff   25 May  8 08:36 .gitignore\n",
      "-rw-r--r--  1 dominikludwiczak  staff   81 May  8 08:52 adult.data.dvc\n",
      "-rw-r--r--  1 dominikludwiczak  staff   79 May  8 08:36 adult.names.dvc\n"
     ]
    }
   ],
   "source": [
    "%%bash\n",
    "\n",
    "rm -rf .dvc/cache/\n",
    "rm data/adult.data\n",
    "rm data/adult.names\n",
    "\n",
    "ls -al data/"
   ]
  },
  {
   "cell_type": "code",
   "execution_count": 63,
   "metadata": {
    "ExecuteTime": {
     "end_time": "2021-02-03T12:43:01.818927Z",
     "start_time": "2021-02-03T12:42:58.944763Z"
    }
   },
   "outputs": [
    {
     "name": "stdout",
     "output_type": "stream",
     "text": [
      "A       data/adult.data\n",
      "A       data/adult.names\n",
      "2 files added and 2 files fetched\n",
      "total 7808\n",
      "drwxr-xr-x  7 dominikludwiczak  staff      224 May  8 08:56 \u001b[34m.\u001b[m\u001b[m\n",
      "drwxr-xr-x  6 dominikludwiczak  staff      192 May  8 08:35 \u001b[34m..\u001b[m\u001b[m\n",
      "-rw-r--r--  1 dominikludwiczak  staff       25 May  8 08:36 .gitignore\n",
      "-rw-r--r--@ 1 dominikludwiczak  staff  3974305 May  8 08:36 adult.data\n",
      "-rw-r--r--  1 dominikludwiczak  staff       81 May  8 08:52 adult.data.dvc\n",
      "-rw-r--r--@ 1 dominikludwiczak  staff     5229 May  8 08:36 adult.names\n",
      "-rw-r--r--  1 dominikludwiczak  staff       79 May  8 08:36 adult.names.dvc\n"
     ]
    }
   ],
   "source": [
    "%%bash\n",
    "\n",
    "dvc pull\n",
    "\n",
    "ls -al data/"
   ]
  },
  {
   "attachments": {},
   "cell_type": "markdown",
   "metadata": {},
   "source": [
    "In the next step we will change the data files by removing all information about federal employees. Let's check how many such records do we have, and then let's remove them."
   ]
  },
  {
   "cell_type": "code",
   "execution_count": 64,
   "metadata": {
    "ExecuteTime": {
     "end_time": "2021-02-03T12:48:16.271645Z",
     "start_time": "2021-02-03T12:48:16.255096Z"
    }
   },
   "outputs": [
    {
     "name": "stdout",
     "output_type": "stream",
     "text": [
      "   32562\n",
      "     960\n"
     ]
    }
   ],
   "source": [
    "%%bash\n",
    "\n",
    "cat data/adult.data | wc -l\n",
    "grep 'Federal-gov' data/adult.data | wc -l"
   ]
  },
  {
   "cell_type": "code",
   "execution_count": 73,
   "metadata": {
    "ExecuteTime": {
     "end_time": "2021-02-03T12:49:20.039570Z",
     "start_time": "2021-02-03T12:49:19.995093Z"
    }
   },
   "outputs": [
    {
     "name": "stdout",
     "output_type": "stream",
     "text": [
      "   31602\n"
     ]
    }
   ],
   "source": [
    "%%bash\n",
    "\n",
    "sed -i '' '/Federal-gov/d' data/adult.data # For mac os\n",
    "# sed -i '/Federal-gov/d' data/adult.data # For regular system\n",
    "cat data/adult.data | wc -l"
   ]
  },
  {
   "cell_type": "code",
   "execution_count": 74,
   "metadata": {
    "ExecuteTime": {
     "end_time": "2021-02-03T12:50:27.004595Z",
     "start_time": "2021-02-03T12:50:23.953798Z"
    }
   },
   "outputs": [
    {
     "name": "stderr",
     "output_type": "stream",
     "text": [
      "\u001b[?25l⠋ Checking graph\n"
     ]
    },
    {
     "name": "stdout",
     "output_type": "stream",
     "text": [
      "\n",
      "To track the changes with git, run:\n",
      "\n",
      "\tgit add data/adult.data.dvc\n",
      "\n",
      "To enable auto staging, run:\n",
      "\n",
      "\tdvc config core.autostage true\n",
      "[main d653634] Removed federal workers from the dataset\n",
      " 1 file changed, 2 insertions(+), 2 deletions(-)\n",
      "1 file pushed\n"
     ]
    },
    {
     "name": "stderr",
     "output_type": "stream",
     "text": [
      "\u001b[?25h\r"
     ]
    }
   ],
   "source": [
    "%%bash \n",
    "\n",
    "dvc add data/adult.data\n",
    "git commit data/adult.data.dvc -m \"Removed federal workers from the dataset\"\n",
    "\n",
    "dvc push"
   ]
  },
  {
   "attachments": {},
   "cell_type": "markdown",
   "metadata": {},
   "source": [
    "If we want to rollback this change, we need to revert to the correct version of the `adult.data.dvc` file and running `dvc checkout` command to synchronize repos."
   ]
  },
  {
   "cell_type": "code",
   "execution_count": 75,
   "metadata": {
    "ExecuteTime": {
     "end_time": "2021-02-03T12:53:34.802275Z",
     "start_time": "2021-02-03T12:53:34.772408Z"
    }
   },
   "outputs": [
    {
     "name": "stdout",
     "output_type": "stream",
     "text": [
      "commit d65363450b72a213d02857df4db342e4a6560086\n",
      "Author: DominikLudwiczak <dominik.ludwiczak.priv@gmail.com>\n",
      "Date:   Mon May 8 09:01:03 2023 +0200\n",
      "\n",
      "    Removed federal workers from the dataset\n",
      "\n",
      "commit d7e7ef415743ddb22c5216af7fff9d45d3303336\n",
      "Author: DominikLudwiczak <dominik.ludwiczak.priv@gmail.com>\n",
      "Date:   Mon May 8 08:37:12 2023 +0200\n",
      "\n",
      "    Added local directory simulating remote data repository\n",
      "\n",
      "commit b5645f5adbd19ebdf891176c2c01ca591e77f84e\n",
      "Author: DominikLudwiczak <dominik.ludwiczak.priv@gmail.com>\n",
      "Date:   Mon May 8 08:36:40 2023 +0200\n",
      "\n",
      "    Added ADULT dataset\n",
      "\n",
      "commit 75281c7310ce22561c2f2106fb48bd73a3d033b3\n",
      "Author: DominikLudwiczak <dominik.ludwiczak.priv@gmail.com>\n",
      "Date:   Mon May 8 08:35:40 2023 +0200\n",
      "\n",
      "    Initialize DVC for the project\n"
     ]
    }
   ],
   "source": [
    "%%bash \n",
    "\n",
    "git log"
   ]
  },
  {
   "cell_type": "code",
   "execution_count": 76,
   "metadata": {
    "ExecuteTime": {
     "end_time": "2021-02-03T12:57:52.086754Z",
     "start_time": "2021-02-03T12:57:49.474674Z"
    }
   },
   "outputs": [
    {
     "name": "stderr",
     "output_type": "stream",
     "text": [
      "Updated 1 path from 0a4743c\n"
     ]
    },
    {
     "name": "stdout",
     "output_type": "stream",
     "text": [
      "M       data/adult.data\n"
     ]
    }
   ],
   "source": [
    "%%bash \n",
    "\n",
    "git checkout d7e7ef415743ddb22c5216af7fff9d45d3303336 data/adult.data.dvc\n",
    "dvc checkout"
   ]
  },
  {
   "cell_type": "code",
   "execution_count": 77,
   "metadata": {
    "ExecuteTime": {
     "end_time": "2021-02-03T12:57:55.122612Z",
     "start_time": "2021-02-03T12:57:55.088726Z"
    }
   },
   "outputs": [
    {
     "name": "stdout",
     "output_type": "stream",
     "text": [
      "35, Federal-gov, 76845, 9th, 5, Married-civ-spouse, Farming-fishing, Husband, Black, Male, 0, 0, 40, United-States, <=50K\n",
      "30, Federal-gov, 59951, Some-college, 10, Married-civ-spouse, Adm-clerical, Own-child, White, Male, 0, 0, 40, United-States, <=50K\n",
      "57, Federal-gov, 337895, Bachelors, 13, Married-civ-spouse, Prof-specialty, Husband, Black, Male, 0, 0, 40, United-States, >50K\n",
      "50, Federal-gov, 251585, Bachelors, 13, Divorced, Exec-managerial, Not-in-family, White, Male, 0, 0, 55, United-States, >50K\n",
      "43, Federal-gov, 410867, Doctorate, 16, Never-married, Prof-specialty, Not-in-family, White, Female, 0, 0, 50, United-States, >50K\n",
      "32, Federal-gov, 249409, HS-grad, 9, Never-married, Other-service, Own-child, Black, Male, 0, 0, 40, United-States, <=50K\n",
      "38, Federal-gov, 125933, Masters, 14, Married-civ-spouse, Prof-specialty, Husband, White, Male, 0, 0, 40, Iran, >50K\n",
      "39, Federal-gov, 235485, Assoc-acdm, 12, Never-married, Exec-managerial, Not-in-family, White, Male, 0, 0, 42, United-States, <=50K\n",
      "37, Federal-gov, 29054, Some-college, 10, Married-civ-spouse, Adm-clerical, Husband, White, Male, 0, 0, 42, United-States, >50K\n",
      "41, Federal-gov, 130760, Bachelors, 13, Married-civ-spouse, Tech-support, Husband, White, Male, 0, 0, 24, United-States, <=50K\n",
      "40, Federal-gov, 56795, Masters, 14, Never-married, Exec-managerial, Not-in-family, White, Female, 14084, 0, 55, United-States, >50K\n",
      "57, Federal-gov, 425161, Masters, 14, Married-civ-spouse, Sales, Husband, White, Male, 15024, 0, 40, United-States, >50K\n",
      "38, Federal-gov, 95432, HS-grad, 9, Married-civ-spouse, Adm-clerical, Husband, White, Male, 0, 0, 40, United-States, >50K\n",
      "26, Federal-gov, 185885, Some-college, 10, Never-married, Adm-clerical, Unmarried, White, Female, 0, 0, 15, United-States, <=50K\n",
      "36, Federal-gov, 255191, Masters, 14, Never-married, Prof-specialty, Not-in-family, White, Male, 0, 1408, 40, United-States, <=50K\n",
      "24, Federal-gov, 191073, HS-grad, 9, Never-married, Armed-Forces, Own-child, White, Male, 0, 0, 40, United-States, <=50K\n",
      "46, Federal-gov, 371373, HS-grad, 9, Divorced, Adm-clerical, Not-in-family, White, Male, 0, 0, 40, United-States, <=50K\n",
      "33, Federal-gov, 319560, Assoc-voc, 11, Divorced, Craft-repair, Unmarried, Black, Female, 0, 0, 40, United-States, >50K\n",
      "48, Federal-gov, 110457, Some-college, 10, Divorced, Exec-managerial, Not-in-family, White, Male, 0, 0, 40, United-States, <=50K\n",
      "46, Federal-gov, 167381, HS-grad, 9, Married-civ-spouse, Adm-clerical, Wife, White, Female, 0, 0, 40, United-States, >50K\n",
      "48, Federal-gov, 33109, Bachelors, 13, Divorced, Exec-managerial, Unmarried, White, Male, 0, 0, 58, United-States, >50K\n",
      "41, Federal-gov, 133060, Assoc-acdm, 12, Married-civ-spouse, Prof-specialty, Husband, White, Male, 0, 0, 40, United-States, >50K\n",
      "45, Federal-gov, 170915, HS-grad, 9, Divorced, Tech-support, Not-in-family, White, Female, 4865, 0, 40, United-States, <=50K\n",
      "63, Federal-gov, 124244, HS-grad, 9, Widowed, Handlers-cleaners, Not-in-family, Black, Male, 0, 0, 40, United-States, <=50K\n",
      "35, Federal-gov, 250504, HS-grad, 9, Married-civ-spouse, Adm-clerical, Husband, Black, Male, 0, 0, 60, United-States, >50K\n",
      "59, Federal-gov, 212448, HS-grad, 9, Widowed, Sales, Unmarried, White, Female, 0, 0, 40, Germany, <=50K\n",
      "59, Federal-gov, 43280, Some-college, 10, Never-married, Exec-managerial, Own-child, Black, Female, 0, 0, 40, United-States, <=50K\n",
      "45, Federal-gov, 320818, HS-grad, 9, Married-civ-spouse, Adm-clerical, Husband, Black, Male, 0, 0, 80, United-States, >50K\n",
      "52, Federal-gov, 31838, HS-grad, 9, Divorced, Adm-clerical, Unmarried, White, Female, 0, 0, 40, United-States, <=50K\n",
      "52, Federal-gov, 202452, HS-grad, 9, Divorced, Adm-clerical, Not-in-family, White, Female, 0, 0, 43, United-States, <=50K\n",
      "43, Federal-gov, 369468, Bachelors, 13, Married-civ-spouse, Prof-specialty, Husband, White, Male, 0, 0, 40, United-States, >50K\n",
      "42, Federal-gov, 158926, Assoc-acdm, 12, Divorced, Prof-specialty, Unmarried, Asian-Pac-Islander, Female, 0, 0, 40, Philippines, >50K\n",
      "29, Federal-gov, 301010, Some-college, 10, Never-married, Armed-Forces, Not-in-family, Black, Male, 0, 0, 60, United-States, <=50K\n",
      "45, Federal-gov, 283037, Bachelors, 13, Married-civ-spouse, Exec-managerial, Husband, White, Male, 0, 0, 40, United-States, <=50K\n",
      "31, Federal-gov, 168312, Assoc-voc, 11, Never-married, Exec-managerial, Not-in-family, White, Female, 0, 0, 40, United-States, <=50K\n",
      "53, Federal-gov, 225339, Some-college, 10, Widowed, Adm-clerical, Not-in-family, Black, Female, 0, 0, 40, United-States, <=50K\n",
      "19, Federal-gov, 234151, HS-grad, 9, Never-married, Adm-clerical, Unmarried, Black, Female, 0, 0, 40, United-States, <=50K\n",
      "53, Federal-gov, 130703, HS-grad, 9, Married-civ-spouse, Adm-clerical, Husband, Black, Male, 0, 0, 40, United-States, <=50K\n",
      "36, Federal-gov, 218542, Assoc-acdm, 12, Married-civ-spouse, Adm-clerical, Wife, White, Female, 0, 0, 40, United-States, >50K\n",
      "70, Federal-gov, 163003, HS-grad, 9, Married-civ-spouse, Adm-clerical, Husband, Black, Male, 0, 0, 40, United-States, <=50K\n",
      "57, Federal-gov, 278763, HS-grad, 9, Divorced, Adm-clerical, Unmarried, White, Female, 0, 0, 40, United-States, <=50K\n",
      "42, Federal-gov, 141459, HS-grad, 9, Separated, Other-service, Other-relative, Black, Female, 0, 0, 40, United-States, <=50K\n",
      "27, Federal-gov, 128059, Some-college, 10, Married-civ-spouse, Craft-repair, Husband, White, Male, 0, 0, 50, United-States, <=50K\n",
      "47, Federal-gov, 168191, Some-college, 10, Married-civ-spouse, Craft-repair, Husband, White, Male, 0, 0, 40, ?, <=50K\n",
      "30, Federal-gov, 188569, 9th, 5, Married-civ-spouse, Tech-support, Husband, White, Male, 0, 0, 40, United-States, <=50K\n",
      "50, Federal-gov, 159670, HS-grad, 9, Married-civ-spouse, Adm-clerical, Husband, White, Male, 0, 0, 40, United-States, >50K\n",
      "45, Federal-gov, 273194, HS-grad, 9, Never-married, Transport-moving, Not-in-family, Black, Male, 3325, 0, 40, United-States, <=50K\n",
      "36, Federal-gov, 128884, HS-grad, 9, Divorced, Adm-clerical, Not-in-family, White, Female, 0, 0, 48, United-States, <=50K\n",
      "27, Federal-gov, 508336, Bachelors, 13, Never-married, Exec-managerial, Not-in-family, Black, Male, 0, 0, 48, United-States, <=50K\n",
      "49, Federal-gov, 168232, HS-grad, 9, Married-civ-spouse, Adm-clerical, Husband, White, Male, 0, 0, 40, United-States, >50K\n",
      "57, Federal-gov, 370890, HS-grad, 9, Never-married, Adm-clerical, Not-in-family, White, Male, 0, 2258, 40, United-States, <=50K\n",
      "44, Federal-gov, 220563, Some-college, 10, Married-civ-spouse, Tech-support, Husband, White, Male, 0, 0, 40, United-States, <=50K\n",
      "25, Federal-gov, 144259, HS-grad, 9, Never-married, Adm-clerical, Own-child, Black, Male, 0, 0, 40, United-States, <=50K\n",
      "31, Federal-gov, 207301, HS-grad, 9, Married-civ-spouse, Adm-clerical, Wife, White, Female, 0, 0, 40, United-States, >50K\n",
      "42, Federal-gov, 153143, Some-college, 10, Divorced, Adm-clerical, Other-relative, White, Female, 0, 0, 40, Puerto-Rico, <=50K\n",
      "74, Federal-gov, 39890, Some-college, 10, Widowed, Transport-moving, Not-in-family, White, Female, 0, 0, 18, United-States, <=50K\n",
      "28, Federal-gov, 183151, Assoc-acdm, 12, Married-civ-spouse, Adm-clerical, Husband, White, Male, 0, 0, 60, United-States, <=50K\n",
      "38, Federal-gov, 338320, Prof-school, 15, Married-civ-spouse, Prof-specialty, Husband, White, Male, 0, 1977, 50, United-States, >50K\n",
      "63, Federal-gov, 217994, Some-college, 10, Divorced, Exec-managerial, Unmarried, White, Female, 0, 0, 40, United-States, <=50K\n",
      "44, Federal-gov, 239539, Bachelors, 13, Married-civ-spouse, Adm-clerical, Husband, Asian-Pac-Islander, Male, 0, 0, 40, Philippines, >50K\n",
      "22, Federal-gov, 218445, Some-college, 10, Never-married, Exec-managerial, Not-in-family, White, Female, 0, 0, 40, United-States, <=50K\n",
      "63, Federal-gov, 97855, Masters, 14, Married-civ-spouse, Exec-managerial, Husband, White, Male, 0, 0, 50, United-States, >50K\n",
      "53, Federal-gov, 173093, Some-college, 10, Married-civ-spouse, Exec-managerial, Wife, Asian-Pac-Islander, Female, 0, 1887, 40, Philippines, >50K\n",
      "25, Federal-gov, 207342, Some-college, 10, Never-married, Exec-managerial, Not-in-family, Black, Male, 0, 0, 40, United-States, <=50K\n",
      "50, Federal-gov, 20179, Masters, 14, Married-civ-spouse, Tech-support, Husband, White, Male, 0, 0, 40, United-States, >50K\n",
      "49, Federal-gov, 213668, Masters, 14, Never-married, Exec-managerial, Not-in-family, White, Male, 0, 0, 56, United-States, >50K\n",
      "27, Federal-gov, 188343, HS-grad, 9, Separated, Exec-managerial, Unmarried, Black, Female, 0, 0, 40, United-States, <=50K\n",
      "54, Federal-gov, 175083, HS-grad, 9, Never-married, Adm-clerical, Unmarried, White, Female, 0, 0, 20, United-States, <=50K\n",
      "56, Federal-gov, 162137, HS-grad, 9, Married-civ-spouse, Transport-moving, Husband, Amer-Indian-Eskimo, Male, 0, 0, 40, United-States, <=50K\n",
      "41, Federal-gov, 263339, HS-grad, 9, Married-civ-spouse, Transport-moving, Husband, White, Male, 0, 0, 40, United-States, >50K\n",
      "52, Federal-gov, 30731, HS-grad, 9, Married-civ-spouse, Exec-managerial, Husband, White, Male, 7298, 0, 40, United-States, >50K\n",
      "42, Federal-gov, 296798, 11th, 7, Never-married, Tech-support, Not-in-family, White, Male, 0, 1340, 40, United-States, <=50K\n",
      "26, Federal-gov, 206983, Prof-school, 15, Married-civ-spouse, Prof-specialty, Husband, White, Male, 0, 0, 60, Columbia, <=50K\n",
      "27, Federal-gov, 409815, Some-college, 10, Never-married, Adm-clerical, Unmarried, Black, Female, 0, 0, 40, United-States, <=50K\n",
      "56, Federal-gov, 101338, Bachelors, 13, Married-civ-spouse, Sales, Husband, White, Male, 0, 0, 40, United-States, <=50K\n",
      "30, Federal-gov, 68330, Bachelors, 13, Never-married, Prof-specialty, Not-in-family, White, Male, 0, 0, 40, United-States, >50K\n",
      "24, Federal-gov, 306515, HS-grad, 9, Never-married, Adm-clerical, Not-in-family, White, Female, 0, 0, 40, United-States, <=50K\n",
      "32, Federal-gov, 566117, Some-college, 10, Divorced, Adm-clerical, Unmarried, White, Female, 0, 0, 40, United-States, <=50K\n",
      "43, Federal-gov, 186916, Masters, 14, Divorced, Protective-serv, Not-in-family, White, Male, 0, 0, 60, United-States, >50K\n",
      "32, Federal-gov, 454508, Bachelors, 13, Married-civ-spouse, Exec-managerial, Husband, White, Male, 0, 0, 40, United-States, <=50K\n",
      "38, Federal-gov, 115433, Assoc-acdm, 12, Married-civ-spouse, Adm-clerical, Wife, White, Female, 7688, 0, 33, United-States, >50K\n",
      "19, Federal-gov, 30559, HS-grad, 9, Married-AF-spouse, Sales, Wife, White, Female, 0, 0, 40, United-States, <=50K\n",
      "55, Federal-gov, 270859, Bachelors, 13, Married-civ-spouse, Prof-specialty, Husband, White, Male, 0, 0, 40, United-States, >50K\n",
      "24, Federal-gov, 44075, Bachelors, 13, Never-married, Prof-specialty, Not-in-family, Asian-Pac-Islander, Male, 0, 0, 40, United-States, <=50K\n",
      "64, Federal-gov, 267546, Assoc-acdm, 12, Separated, Prof-specialty, Not-in-family, White, Female, 0, 0, 40, United-States, >50K\n",
      "48, Federal-gov, 326048, Bachelors, 13, Married-civ-spouse, Prof-specialty, Husband, White, Male, 0, 0, 44, United-States, >50K\n",
      "37, Federal-gov, 334314, HS-grad, 9, Divorced, Adm-clerical, Unmarried, White, Female, 0, 0, 40, United-States, <=50K\n",
      "56, Federal-gov, 130454, Bachelors, 13, Married-civ-spouse, Prof-specialty, Husband, White, Male, 0, 0, 40, United-States, >50K\n",
      "74, Federal-gov, 181508, HS-grad, 9, Widowed, Other-service, Not-in-family, White, Male, 0, 0, 17, United-States, <=50K\n",
      "38, Federal-gov, 99527, Masters, 14, Married-civ-spouse, Exec-managerial, Husband, White, Male, 0, 0, 40, United-States, >50K\n",
      "59, Federal-gov, 31840, HS-grad, 9, Married-civ-spouse, Craft-repair, Husband, White, Male, 0, 0, 40, United-States, >50K\n",
      "45, Federal-gov, 352094, Some-college, 10, Married-civ-spouse, Tech-support, Husband, White, Male, 7688, 0, 40, Guatemala, >50K\n",
      "47, Federal-gov, 55377, HS-grad, 9, Never-married, Machine-op-inspct, Own-child, Black, Male, 0, 0, 40, United-States, <=50K\n",
      "42, Federal-gov, 122861, Masters, 14, Married-civ-spouse, Exec-managerial, Husband, White, Male, 0, 0, 40, United-States, >50K\n",
      "59, Federal-gov, 115389, Some-college, 10, Married-civ-spouse, Craft-repair, Husband, White, Male, 0, 0, 36, United-States, <=50K\n",
      "52, Federal-gov, 617021, Bachelors, 13, Married-civ-spouse, Tech-support, Husband, Black, Male, 7688, 0, 40, United-States, >50K\n",
      "26, Federal-gov, 48099, Bachelors, 13, Never-married, Exec-managerial, Not-in-family, White, Female, 0, 0, 40, United-States, <=50K\n",
      "37, Federal-gov, 203070, Some-college, 10, Married-civ-spouse, Craft-repair, Husband, White, Male, 0, 0, 43, United-States, <=50K\n",
      "40, Federal-gov, 77332, Some-college, 10, Divorced, Adm-clerical, Not-in-family, White, Female, 0, 0, 50, United-States, <=50K\n",
      "53, Federal-gov, 117847, Assoc-acdm, 12, Married-civ-spouse, Adm-clerical, Husband, White, Male, 0, 0, 40, United-States, <=50K\n",
      "26, Federal-gov, 95806, Some-college, 10, Never-married, Craft-repair, Not-in-family, White, Male, 3325, 0, 40, United-States, <=50K\n",
      "32, Federal-gov, 111567, Prof-school, 15, Married-civ-spouse, Prof-specialty, Husband, White, Male, 0, 0, 40, United-States, >50K\n",
      "37, Federal-gov, 470663, Some-college, 10, Never-married, Craft-repair, Not-in-family, White, Male, 0, 0, 40, United-States, <=50K\n",
      "55, Federal-gov, 189985, Some-college, 10, Divorced, Adm-clerical, Unmarried, Black, Female, 0, 0, 40, United-States, <=50K\n",
      "54, Federal-gov, 127455, Some-college, 10, Married-civ-spouse, Protective-serv, Husband, White, Male, 0, 0, 48, United-States, >50K\n",
      "26, Federal-gov, 393728, Some-college, 10, Divorced, Adm-clerical, Own-child, White, Male, 0, 0, 24, United-States, <=50K\n",
      "50, Federal-gov, 176969, HS-grad, 9, Divorced, Prof-specialty, Not-in-family, White, Male, 0, 1590, 40, United-States, <=50K\n",
      "54, Federal-gov, 33863, HS-grad, 9, Married-civ-spouse, Adm-clerical, Husband, White, Male, 0, 0, 40, United-States, >50K\n",
      "24, Federal-gov, 314525, Bachelors, 13, Never-married, Prof-specialty, Not-in-family, White, Male, 0, 1741, 45, United-States, <=50K\n",
      "44, Federal-gov, 404599, HS-grad, 9, Divorced, Adm-clerical, Unmarried, Black, Female, 0, 0, 40, United-States, <=50K\n",
      "51, Federal-gov, 45334, Some-college, 10, Married-civ-spouse, Protective-serv, Husband, Asian-Pac-Islander, Male, 0, 0, 70, ?, <=50K\n",
      "27, Federal-gov, 469705, HS-grad, 9, Never-married, Craft-repair, Not-in-family, Black, Male, 0, 1980, 40, United-States, <=50K\n",
      "28, Federal-gov, 214858, HS-grad, 9, Never-married, Machine-op-inspct, Own-child, White, Male, 0, 0, 48, United-States, <=50K\n",
      "52, Federal-gov, 129177, HS-grad, 9, Divorced, Adm-clerical, Not-in-family, White, Female, 0, 0, 40, United-States, <=50K\n",
      "64, Federal-gov, 199298, 7th-8th, 4, Widowed, Other-service, Unmarried, White, Female, 0, 0, 30, Puerto-Rico, <=50K\n",
      "46, Federal-gov, 162187, Bachelors, 13, Married-civ-spouse, Prof-specialty, Husband, White, Male, 0, 0, 40, United-States, >50K\n",
      "53, Federal-gov, 199720, Doctorate, 16, Married-civ-spouse, Prof-specialty, Husband, White, Male, 15024, 0, 60, Germany, >50K\n",
      "50, Federal-gov, 36489, Some-college, 10, Divorced, Exec-managerial, Unmarried, White, Male, 0, 0, 40, United-States, <=50K\n",
      "40, Federal-gov, 26358, Assoc-acdm, 12, Never-married, Adm-clerical, Not-in-family, White, Female, 0, 0, 40, United-States, <=50K\n",
      "43, Federal-gov, 77370, HS-grad, 9, Married-civ-spouse, Transport-moving, Husband, White, Male, 0, 0, 40, United-States, <=50K\n",
      "53, Federal-gov, 174040, Some-college, 10, Separated, Craft-repair, Not-in-family, Black, Male, 0, 0, 40, United-States, <=50K\n",
      "52, Federal-gov, 23780, Some-college, 10, Divorced, Adm-clerical, Not-in-family, White, Male, 0, 0, 40, United-States, <=50K\n",
      "39, Federal-gov, 65324, Prof-school, 15, Never-married, Prof-specialty, Not-in-family, White, Male, 0, 0, 55, United-States, >50K\n",
      "37, Federal-gov, 207887, Bachelors, 13, Divorced, Exec-managerial, Other-relative, White, Female, 0, 0, 50, United-States, <=50K\n",
      "43, Federal-gov, 211450, HS-grad, 9, Never-married, Adm-clerical, Own-child, White, Male, 0, 0, 40, United-States, <=50K\n",
      "32, Federal-gov, 72338, Assoc-voc, 11, Never-married, Prof-specialty, Other-relative, Asian-Pac-Islander, Male, 0, 0, 40, United-States, <=50K\n",
      "27, Federal-gov, 285432, Assoc-acdm, 12, Never-married, Transport-moving, Not-in-family, Black, Male, 0, 0, 40, United-States, <=50K\n",
      "45, Federal-gov, 311671, Assoc-voc, 11, Married-civ-spouse, Protective-serv, Husband, White, Male, 3908, 0, 40, United-States, <=50K\n",
      "32, Federal-gov, 125856, HS-grad, 9, Divorced, Craft-repair, Unmarried, White, Male, 0, 0, 40, United-States, <=50K\n",
      "33, Federal-gov, 207172, HS-grad, 9, Never-married, Exec-managerial, Not-in-family, White, Female, 0, 0, 40, United-States, <=50K\n",
      "37, Federal-gov, 196348, Some-college, 10, Married-civ-spouse, Machine-op-inspct, Husband, White, Male, 0, 0, 40, United-States, <=50K\n",
      "32, Federal-gov, 127651, Bachelors, 13, Married-civ-spouse, Prof-specialty, Husband, White, Male, 0, 0, 40, United-States, >50K\n",
      "31, Federal-gov, 206823, Bachelors, 13, Divorced, Protective-serv, Not-in-family, White, Male, 0, 0, 50, United-States, >50K\n",
      "40, Federal-gov, 298635, Masters, 14, Married-civ-spouse, Tech-support, Husband, Asian-Pac-Islander, Male, 0, 1902, 40, Philippines, >50K\n",
      "41, Federal-gov, 83411, HS-grad, 9, Married-civ-spouse, Other-service, Husband, White, Male, 0, 0, 40, United-States, <=50K\n",
      "51, Federal-gov, 282680, Doctorate, 16, Never-married, Prof-specialty, Not-in-family, White, Female, 0, 1564, 70, United-States, >50K\n",
      "57, Federal-gov, 97837, Some-college, 10, Divorced, Prof-specialty, Not-in-family, White, Male, 0, 0, 48, United-States, >50K\n",
      "68, Federal-gov, 232151, Some-college, 10, Divorced, Adm-clerical, Other-relative, Black, Female, 2346, 0, 40, United-States, <=50K\n",
      "37, Federal-gov, 289653, Some-college, 10, Married-civ-spouse, Craft-repair, Husband, White, Male, 0, 0, 40, United-States, <=50K\n",
      "36, Federal-gov, 67317, HS-grad, 9, Married-civ-spouse, Adm-clerical, Husband, White, Male, 0, 0, 40, United-States, <=50K\n",
      "47, Federal-gov, 99549, Some-college, 10, Divorced, Adm-clerical, Unmarried, Black, Female, 0, 0, 40, United-States, <=50K\n",
      "33, Federal-gov, 159548, Assoc-acdm, 12, Never-married, Adm-clerical, Unmarried, Black, Female, 0, 0, 40, United-States, <=50K\n",
      "47, Federal-gov, 68493, HS-grad, 9, Married-civ-spouse, Adm-clerical, Husband, Black, Male, 0, 0, 40, United-States, >50K\n",
      "46, Federal-gov, 340718, 11th, 7, Widowed, Adm-clerical, Not-in-family, White, Female, 0, 0, 40, United-States, <=50K\n",
      "60, Federal-gov, 21876, Some-college, 10, Divorced, Prof-specialty, Not-in-family, Amer-Indian-Eskimo, Female, 0, 0, 40, United-States, <=50K\n",
      "19, Federal-gov, 27433, 12th, 8, Never-married, Other-service, Own-child, White, Female, 0, 0, 30, United-States, <=50K\n",
      "33, Federal-gov, 129707, Some-college, 10, Never-married, Exec-managerial, Not-in-family, White, Male, 0, 0, 50, United-States, <=50K\n",
      "45, Federal-gov, 181970, HS-grad, 9, Married-civ-spouse, Adm-clerical, Husband, White, Male, 0, 1672, 40, United-States, <=50K\n",
      "33, Federal-gov, 348491, Some-college, 10, Married-civ-spouse, Exec-managerial, Wife, Black, Female, 0, 0, 40, United-States, >50K\n",
      "44, Federal-gov, 44822, Some-college, 10, Married-civ-spouse, Craft-repair, Husband, White, Male, 0, 0, 40, United-States, <=50K\n",
      "32, Federal-gov, 128714, HS-grad, 9, Never-married, Other-service, Own-child, Black, Female, 0, 0, 32, United-States, <=50K\n",
      "59, Federal-gov, 243612, HS-grad, 9, Widowed, Machine-op-inspct, Unmarried, White, Female, 0, 0, 40, United-States, <=50K\n",
      "41, Federal-gov, 57924, Some-college, 10, Never-married, Protective-serv, Own-child, White, Male, 0, 0, 40, United-States, <=50K\n",
      "41, Federal-gov, 168294, HS-grad, 9, Married-civ-spouse, Adm-clerical, Husband, White, Male, 5178, 0, 40, United-States, >50K\n",
      "43, Federal-gov, 144778, Bachelors, 13, Never-married, Exec-managerial, Not-in-family, White, Male, 0, 0, 40, United-States, >50K\n",
      "54, Federal-gov, 392502, Some-college, 10, Married-civ-spouse, Prof-specialty, Husband, White, Male, 0, 0, 40, United-States, >50K\n",
      "39, Federal-gov, 99146, Bachelors, 13, Married-civ-spouse, Protective-serv, Husband, White, Male, 0, 1887, 60, United-States, >50K\n",
      "48, Federal-gov, 94342, Bachelors, 13, Divorced, Exec-managerial, Not-in-family, White, Male, 0, 0, 45, United-States, <=50K\n",
      "27, Federal-gov, 47907, Bachelors, 13, Never-married, Adm-clerical, Not-in-family, White, Female, 0, 0, 40, United-States, <=50K\n",
      "42, Federal-gov, 74680, Masters, 14, Divorced, Adm-clerical, Not-in-family, White, Male, 0, 2001, 60, United-States, <=50K\n",
      "31, Federal-gov, 142470, Bachelors, 13, Never-married, Exec-managerial, Not-in-family, Black, Female, 0, 0, 40, United-States, <=50K\n",
      "45, Federal-gov, 88564, Some-college, 10, Married-civ-spouse, Exec-managerial, Husband, White, Male, 7688, 0, 40, United-States, >50K\n",
      "53, Federal-gov, 276868, Masters, 14, Married-civ-spouse, Adm-clerical, Husband, White, Male, 0, 0, 40, United-States, >50K\n",
      "46, Federal-gov, 31141, Some-college, 10, Divorced, Transport-moving, Not-in-family, White, Male, 0, 0, 40, United-States, <=50K\n",
      "37, Federal-gov, 129573, Doctorate, 16, Married-civ-spouse, Prof-specialty, Husband, White, Male, 0, 0, 72, ?, >50K\n",
      "49, Federal-gov, 420282, Some-college, 10, Never-married, Adm-clerical, Unmarried, Black, Female, 0, 0, 40, United-States, <=50K\n",
      "26, Federal-gov, 169101, Some-college, 10, Never-married, Tech-support, Own-child, White, Female, 0, 0, 40, United-States, <=50K\n",
      "47, Federal-gov, 34845, Bachelors, 13, Married-civ-spouse, Adm-clerical, Husband, White, Male, 0, 0, 45, Germany, >50K\n",
      "33, Federal-gov, 193246, Bachelors, 13, Married-civ-spouse, Adm-clerical, Husband, White, Male, 0, 0, 42, United-States, >50K\n",
      "33, Federal-gov, 339388, Assoc-acdm, 12, Divorced, Other-service, Unmarried, White, Male, 0, 0, 40, United-States, <=50K\n",
      "48, Federal-gov, 205707, Masters, 14, Married-spouse-absent, Exec-managerial, Not-in-family, White, Female, 10520, 0, 50, United-States, >50K\n",
      "46, Federal-gov, 161337, Some-college, 10, Divorced, Tech-support, Not-in-family, White, Male, 0, 0, 40, United-States, <=50K\n",
      "35, Federal-gov, 287031, Masters, 14, Never-married, Exec-managerial, Not-in-family, White, Male, 8614, 0, 40, United-States, >50K\n",
      "46, Federal-gov, 80057, HS-grad, 9, Married-civ-spouse, Adm-clerical, Husband, White, Male, 0, 0, 40, Germany, >50K\n",
      "44, Federal-gov, 280362, Assoc-acdm, 12, Married-civ-spouse, Craft-repair, Husband, White, Male, 0, 0, 40, United-States, >50K\n",
      "24, Federal-gov, 215115, Bachelors, 13, Never-married, Tech-support, Own-child, White, Female, 0, 0, 40, ?, <=50K\n",
      "22, Federal-gov, 471452, Bachelors, 13, Never-married, Tech-support, Own-child, White, Male, 0, 0, 8, United-States, <=50K\n",
      "49, Federal-gov, 311671, Some-college, 10, Married-civ-spouse, Exec-managerial, Husband, White, Male, 0, 0, 40, United-States, >50K\n",
      "34, Federal-gov, 112115, Some-college, 10, Never-married, Craft-repair, Other-relative, White, Male, 0, 0, 40, United-States, <=50K\n",
      "42, Federal-gov, 170230, Masters, 14, Never-married, Exec-managerial, Not-in-family, White, Female, 14084, 0, 60, United-States, >50K\n",
      "54, Federal-gov, 51048, HS-grad, 9, Married-civ-spouse, Prof-specialty, Husband, White, Male, 0, 0, 40, United-States, >50K\n",
      "51, Federal-gov, 106257, Assoc-acdm, 12, Married-civ-spouse, Tech-support, Husband, Black, Male, 0, 0, 40, United-States, <=50K\n",
      "46, Federal-gov, 43206, Doctorate, 16, Never-married, Prof-specialty, Not-in-family, White, Female, 0, 1564, 50, United-States, >50K\n",
      "21, Federal-gov, 169003, 12th, 8, Never-married, Adm-clerical, Own-child, Black, Male, 0, 0, 25, United-States, <=50K\n",
      "51, Federal-gov, 306784, HS-grad, 9, Married-civ-spouse, Craft-repair, Husband, White, Male, 4386, 0, 40, United-States, >50K\n",
      "47, Federal-gov, 191858, Assoc-acdm, 12, Married-civ-spouse, Adm-clerical, Husband, White, Male, 0, 0, 40, United-States, >50K\n",
      "52, Federal-gov, 424012, Some-college, 10, Divorced, Exec-managerial, Not-in-family, White, Female, 0, 0, 40, United-States, <=50K\n",
      "37, Federal-gov, 325538, Masters, 14, Married-civ-spouse, Prof-specialty, Husband, White, Male, 0, 0, 40, ?, >50K\n",
      "41, Federal-gov, 564135, Masters, 14, Married-civ-spouse, Exec-managerial, Husband, White, Male, 0, 0, 40, United-States, >50K\n",
      "46, Federal-gov, 39606, Masters, 14, Married-civ-spouse, Exec-managerial, Husband, White, Male, 0, 0, 40, England, >50K\n",
      "47, Federal-gov, 282830, Assoc-acdm, 12, Married-civ-spouse, Adm-clerical, Husband, Black, Male, 0, 0, 40, United-States, >50K\n",
      "47, Federal-gov, 126204, Some-college, 10, Divorced, Adm-clerical, Not-in-family, White, Female, 0, 0, 40, United-States, <=50K\n",
      "41, Federal-gov, 34178, Bachelors, 13, Divorced, Prof-specialty, Not-in-family, White, Male, 0, 0, 40, United-States, <=50K\n",
      "37, Federal-gov, 33487, Some-college, 10, Divorced, Tech-support, Unmarried, Amer-Indian-Eskimo, Female, 0, 0, 20, United-States, <=50K\n",
      "46, Federal-gov, 297906, Bachelors, 13, Married-civ-spouse, Prof-specialty, Husband, Asian-Pac-Islander, Male, 0, 0, 50, United-States, >50K\n",
      "31, Federal-gov, 139455, Bachelors, 13, Never-married, Exec-managerial, Own-child, White, Female, 0, 0, 40, Cuba, <=50K\n",
      "42, Federal-gov, 25240, Assoc-voc, 11, Divorced, Prof-specialty, Unmarried, Amer-Indian-Eskimo, Female, 0, 0, 40, United-States, <=50K\n",
      "42, Federal-gov, 46366, HS-grad, 9, Separated, Adm-clerical, Unmarried, Black, Female, 0, 0, 40, United-States, <=50K\n",
      "42, Federal-gov, 284403, HS-grad, 9, Divorced, Adm-clerical, Not-in-family, Black, Male, 0, 0, 40, United-States, <=50K\n",
      "22, Federal-gov, 216129, HS-grad, 9, Never-married, Adm-clerical, Other-relative, White, Male, 0, 0, 40, United-States, <=50K\n",
      "37, Federal-gov, 40955, Some-college, 10, Never-married, Other-service, Own-child, White, Male, 0, 0, 40, Japan, <=50K\n",
      "50, Federal-gov, 69345, Assoc-acdm, 12, Married-civ-spouse, Exec-managerial, Husband, White, Male, 0, 0, 60, United-States, <=50K\n",
      "27, Federal-gov, 246372, HS-grad, 9, Married-civ-spouse, Other-service, Husband, White, Male, 0, 0, 40, United-States, <=50K\n",
      "40, Federal-gov, 163215, Bachelors, 13, Never-married, Prof-specialty, Not-in-family, White, Female, 0, 0, 40, ?, <=50K\n",
      "49, Federal-gov, 110373, Some-college, 10, Married-civ-spouse, Tech-support, Husband, White, Male, 0, 0, 40, United-States, >50K\n",
      "31, Federal-gov, 351141, HS-grad, 9, Married-civ-spouse, Tech-support, Husband, White, Male, 0, 0, 40, United-States, <=50K\n",
      "32, Federal-gov, 148138, Bachelors, 13, Married-civ-spouse, Prof-specialty, Husband, Asian-Pac-Islander, Male, 0, 2002, 40, Iran, <=50K\n",
      "29, Federal-gov, 229300, Bachelors, 13, Never-married, Prof-specialty, Not-in-family, White, Male, 0, 0, 48, United-States, <=50K\n",
      "31, Federal-gov, 108464, Assoc-acdm, 12, Married-civ-spouse, Tech-support, Husband, White, Male, 0, 0, 40, United-States, <=50K\n",
      "46, Federal-gov, 233555, HS-grad, 9, Divorced, Adm-clerical, Unmarried, Black, Female, 0, 0, 40, ?, <=50K\n",
      "43, Federal-gov, 203637, Bachelors, 13, Married-civ-spouse, Adm-clerical, Husband, White, Male, 7298, 0, 40, United-States, >50K\n",
      "40, Federal-gov, 177595, Some-college, 10, Married-civ-spouse, Craft-repair, Husband, White, Male, 0, 1579, 40, United-States, <=50K\n",
      "38, Federal-gov, 122493, Bachelors, 13, Married-civ-spouse, Prof-specialty, Husband, White, Male, 4064, 0, 40, United-States, <=50K\n",
      "58, Federal-gov, 81973, Some-college, 10, Married-civ-spouse, Tech-support, Husband, Asian-Pac-Islander, Male, 0, 1485, 40, United-States, >50K\n",
      "20, Federal-gov, 147352, HS-grad, 9, Never-married, Other-service, Not-in-family, White, Female, 0, 0, 40, United-States, <=50K\n",
      "35, Federal-gov, 20469, Some-college, 10, Divorced, Exec-managerial, Unmarried, Asian-Pac-Islander, Female, 0, 0, 40, Philippines, <=50K\n",
      "50, Federal-gov, 69614, 10th, 6, Separated, Craft-repair, Not-in-family, White, Male, 0, 0, 56, United-States, <=50K\n",
      "47, Federal-gov, 224559, HS-grad, 9, Married-civ-spouse, Transport-moving, Husband, Black, Male, 0, 0, 40, United-States, >50K\n",
      "49, Federal-gov, 94754, Masters, 14, Married-civ-spouse, Adm-clerical, Husband, White, Male, 0, 0, 40, United-States, >50K\n",
      "34, Federal-gov, 67083, Bachelors, 13, Never-married, Exec-managerial, Unmarried, Asian-Pac-Islander, Male, 1471, 0, 40, Cambodia, <=50K\n",
      "51, Federal-gov, 190333, Some-college, 10, Married-civ-spouse, Craft-repair, Husband, White, Male, 0, 0, 40, United-States, <=50K\n",
      "39, Federal-gov, 410034, HS-grad, 9, Married-civ-spouse, Adm-clerical, Husband, White, Male, 0, 0, 40, United-States, <=50K\n",
      "38, Federal-gov, 238342, Bachelors, 13, Married-civ-spouse, Sales, Husband, White, Male, 7688, 0, 42, United-States, >50K\n",
      "50, Federal-gov, 166419, 11th, 7, Never-married, Sales, Not-in-family, Black, Female, 3674, 0, 40, United-States, <=50K\n",
      "31, Federal-gov, 334346, Bachelors, 13, Married-civ-spouse, Exec-managerial, Husband, White, Male, 0, 0, 40, United-States, >50K\n",
      "51, Federal-gov, 40808, Bachelors, 13, Never-married, Prof-specialty, Not-in-family, Amer-Indian-Eskimo, Female, 0, 0, 43, United-States, <=50K\n",
      "45, Federal-gov, 45891, Some-college, 10, Divorced, Adm-clerical, Unmarried, White, Male, 0, 0, 42, United-States, <=50K\n",
      "39, Federal-gov, 200968, Some-college, 10, Married-civ-spouse, Adm-clerical, Other-relative, White, Male, 0, 0, 45, United-States, >50K\n",
      "29, Federal-gov, 208534, Prof-school, 15, Married-civ-spouse, Prof-specialty, Husband, White, Male, 0, 0, 80, United-States, <=50K\n",
      "30, Federal-gov, 355789, HS-grad, 9, Never-married, Adm-clerical, Not-in-family, Black, Female, 0, 0, 50, United-States, <=50K\n",
      "44, Federal-gov, 344060, Prof-school, 15, Married-civ-spouse, Prof-specialty, Husband, White, Male, 0, 0, 40, United-States, >50K\n",
      "50, Federal-gov, 183611, Some-college, 10, Never-married, Adm-clerical, Not-in-family, White, Male, 0, 0, 40, United-States, <=50K\n",
      "53, Federal-gov, 68985, HS-grad, 9, Married-civ-spouse, Adm-clerical, Husband, White, Male, 0, 0, 40, United-States, <=50K\n",
      "34, Federal-gov, 189944, Some-college, 10, Never-married, Adm-clerical, Not-in-family, Black, Female, 0, 0, 72, United-States, <=50K\n",
      "35, Federal-gov, 245372, HS-grad, 9, Never-married, Adm-clerical, Not-in-family, White, Male, 0, 0, 40, United-States, <=50K\n",
      "43, Federal-gov, 32016, Masters, 14, Married-civ-spouse, Prof-specialty, Husband, White, Male, 0, 0, 40, United-States, >50K\n",
      "26, Federal-gov, 76900, Bachelors, 13, Never-married, Tech-support, Not-in-family, White, Male, 0, 0, 40, United-States, <=50K\n",
      "43, Federal-gov, 262233, Bachelors, 13, Divorced, Exec-managerial, Not-in-family, White, Male, 0, 0, 40, United-States, >50K\n",
      "28, Federal-gov, 329426, Bachelors, 13, Never-married, Exec-managerial, Not-in-family, White, Male, 0, 0, 40, United-States, <=50K\n",
      "32, Federal-gov, 191385, Assoc-acdm, 12, Divorced, Protective-serv, Not-in-family, White, Male, 2174, 0, 40, United-States, <=50K\n",
      "33, Federal-gov, 182714, Prof-school, 15, Never-married, Prof-specialty, Not-in-family, White, Female, 0, 0, 65, United-States, >50K\n",
      "50, Federal-gov, 172046, Some-college, 10, Married-civ-spouse, Exec-managerial, Husband, White, Male, 0, 0, 40, United-States, >50K\n",
      "43, Federal-gov, 94937, Bachelors, 13, Divorced, Adm-clerical, Unmarried, White, Female, 0, 0, 40, United-States, <=50K\n",
      "51, Federal-gov, 45487, HS-grad, 9, Married-civ-spouse, Transport-moving, Husband, White, Male, 0, 0, 80, United-States, <=50K\n",
      "52, Federal-gov, 221532, Bachelors, 13, Married-civ-spouse, Protective-serv, Husband, White, Male, 0, 0, 45, United-States, >50K\n",
      "37, Federal-gov, 408229, HS-grad, 9, Divorced, Tech-support, Unmarried, White, Female, 0, 0, 40, United-States, <=50K\n",
      "53, Federal-gov, 205288, HS-grad, 9, Married-civ-spouse, Adm-clerical, Wife, White, Female, 7688, 0, 35, United-States, >50K\n",
      "38, Federal-gov, 307404, Some-college, 10, Divorced, Adm-clerical, Unmarried, White, Female, 0, 0, 40, United-States, <=50K\n",
      "28, Federal-gov, 56651, Bachelors, 13, Never-married, Prof-specialty, Own-child, Black, Female, 0, 0, 40, United-States, <=50K\n",
      "47, Federal-gov, 137917, Some-college, 10, Married-civ-spouse, Adm-clerical, Husband, Black, Male, 0, 0, 40, United-States, >50K\n",
      "47, Federal-gov, 117628, HS-grad, 9, Married-civ-spouse, Craft-repair, Husband, White, Male, 0, 0, 40, United-States, >50K\n",
      "48, Federal-gov, 156410, HS-grad, 9, Married-civ-spouse, Adm-clerical, Husband, Black, Male, 0, 0, 50, United-States, >50K\n",
      "23, Federal-gov, 320294, HS-grad, 9, Never-married, Prof-specialty, Not-in-family, White, Male, 0, 0, 40, United-States, <=50K\n",
      "39, Federal-gov, 175232, Some-college, 10, Married-civ-spouse, Handlers-cleaners, Husband, White, Male, 0, 1977, 60, United-States, >50K\n",
      "58, Federal-gov, 175873, Some-college, 10, Married-civ-spouse, Adm-clerical, Husband, White, Male, 0, 0, 40, United-States, >50K\n",
      "26, Federal-gov, 211596, Masters, 14, Never-married, Prof-specialty, Not-in-family, White, Male, 0, 0, 40, United-States, <=50K\n",
      "24, Federal-gov, 29591, Bachelors, 13, Never-married, Prof-specialty, Not-in-family, Other, Female, 0, 0, 40, United-States, <=50K\n",
      "20, Federal-gov, 119156, HS-grad, 9, Never-married, Adm-clerical, Other-relative, White, Male, 0, 0, 20, United-States, <=50K\n",
      "34, Federal-gov, 198265, Bachelors, 13, Married-civ-spouse, Protective-serv, Husband, White, Male, 0, 0, 60, United-States, <=50K\n",
      "23, Federal-gov, 350680, Assoc-acdm, 12, Never-married, Exec-managerial, Own-child, White, Female, 0, 0, 40, Poland, <=50K\n",
      "42, Federal-gov, 132125, Bachelors, 13, Married-civ-spouse, Exec-managerial, Husband, White, Male, 0, 0, 52, United-States, >50K\n",
      "47, Federal-gov, 53498, HS-grad, 9, Divorced, Other-service, Unmarried, Black, Female, 0, 0, 40, United-States, <=50K\n",
      "46, Federal-gov, 119890, Assoc-voc, 11, Separated, Tech-support, Not-in-family, Other, Female, 0, 0, 30, United-States, <=50K\n",
      "35, Federal-gov, 35309, Bachelors, 13, Never-married, Tech-support, Not-in-family, Asian-Pac-Islander, Male, 0, 0, 28, ?, <=50K\n",
      "27, Federal-gov, 105189, HS-grad, 9, Divorced, Adm-clerical, Not-in-family, White, Male, 4865, 0, 50, United-States, <=50K\n",
      "49, Federal-gov, 105586, Assoc-voc, 11, Married-civ-spouse, Craft-repair, Husband, Asian-Pac-Islander, Male, 0, 0, 40, United-States, >50K\n",
      "52, Federal-gov, 279337, HS-grad, 9, Married-civ-spouse, Adm-clerical, Husband, White, Male, 0, 0, 40, United-States, <=50K\n",
      "51, Federal-gov, 160703, HS-grad, 9, Married-civ-spouse, Adm-clerical, Husband, White, Male, 0, 0, 40, United-States, <=50K\n",
      "63, Federal-gov, 101996, Masters, 14, Divorced, Prof-specialty, Not-in-family, White, Male, 0, 0, 40, United-States, >50K\n",
      "31, Federal-gov, 386331, HS-grad, 9, Married-civ-spouse, Adm-clerical, Husband, Black, Male, 0, 0, 50, United-States, <=50K\n",
      "20, Federal-gov, 55233, Some-college, 10, Never-married, Adm-clerical, Other-relative, White, Female, 0, 0, 40, United-States, <=50K\n",
      "43, Federal-gov, 325706, Prof-school, 15, Married-civ-spouse, Prof-specialty, Husband, Asian-Pac-Islander, Male, 0, 0, 50, India, >50K\n",
      "31, Federal-gov, 210926, HS-grad, 9, Separated, Handlers-cleaners, Unmarried, White, Female, 0, 0, 40, United-States, <=50K\n",
      "46, Federal-gov, 190729, Some-college, 10, Married-civ-spouse, Other-service, Husband, White, Male, 0, 0, 40, United-States, <=50K\n",
      "49, Federal-gov, 216453, Assoc-voc, 11, Divorced, Exec-managerial, Unmarried, Black, Female, 0, 0, 45, United-States, <=50K\n",
      "51, Federal-gov, 27166, HS-grad, 9, Married-civ-spouse, Tech-support, Husband, White, Male, 0, 0, 40, United-States, <=50K\n",
      "63, Federal-gov, 95680, Some-college, 10, Married-civ-spouse, Tech-support, Husband, White, Male, 0, 0, 18, United-States, >50K\n",
      "51, Federal-gov, 73670, Doctorate, 16, Married-civ-spouse, Prof-specialty, Husband, White, Male, 4386, 0, 52, United-States, >50K\n",
      "64, Federal-gov, 173754, HS-grad, 9, Married-civ-spouse, Adm-clerical, Husband, White, Male, 0, 0, 40, United-States, <=50K\n",
      "35, Federal-gov, 287658, Some-college, 10, Married-civ-spouse, Protective-serv, Husband, Black, Male, 0, 0, 40, United-States, >50K\n",
      "47, Federal-gov, 227244, Bachelors, 13, Married-civ-spouse, Protective-serv, Husband, Black, Male, 0, 0, 50, United-States, >50K\n",
      "59, Federal-gov, 200700, Assoc-acdm, 12, Married-civ-spouse, Farming-fishing, Husband, Black, Male, 0, 0, 40, United-States, <=50K\n",
      "51, Federal-gov, 237819, Bachelors, 13, Married-civ-spouse, Prof-specialty, Husband, White, Male, 0, 0, 50, United-States, >50K\n",
      "52, Federal-gov, 192386, Masters, 14, Married-civ-spouse, Exec-managerial, Husband, White, Male, 5013, 0, 40, United-States, <=50K\n",
      "39, Federal-gov, 129573, Bachelors, 13, Never-married, Adm-clerical, Not-in-family, White, Male, 0, 1741, 40, United-States, <=50K\n",
      "48, Federal-gov, 147397, HS-grad, 9, Married-civ-spouse, Adm-clerical, Husband, White, Male, 0, 0, 36, United-States, <=50K\n",
      "38, Federal-gov, 248919, HS-grad, 9, Married-civ-spouse, Transport-moving, Husband, White, Male, 0, 2051, 40, United-States, <=50K\n",
      "47, Federal-gov, 55377, Bachelors, 13, Never-married, Adm-clerical, Unmarried, Black, Male, 0, 0, 40, United-States, >50K\n",
      "60, Federal-gov, 63526, Bachelors, 13, Married-civ-spouse, Adm-clerical, Husband, Black, Male, 0, 0, 40, United-States, >50K\n",
      "38, Federal-gov, 216924, Assoc-voc, 11, Married-civ-spouse, Craft-repair, Husband, White, Male, 0, 0, 40, United-States, <=50K\n",
      "57, Federal-gov, 199114, Bachelors, 13, Never-married, Adm-clerical, Not-in-family, White, Male, 0, 2258, 40, United-States, <=50K\n",
      "36, Federal-gov, 184556, Bachelors, 13, Married-civ-spouse, Exec-managerial, Wife, White, Female, 0, 0, 40, United-States, <=50K\n",
      "52, Federal-gov, 43705, Some-college, 10, Married-civ-spouse, Other-service, Husband, White, Male, 0, 0, 50, United-States, <=50K\n",
      "53, Federal-gov, 266598, HS-grad, 9, Married-civ-spouse, Prof-specialty, Husband, White, Male, 0, 0, 40, United-States, >50K\n",
      "54, Federal-gov, 21698, Bachelors, 13, Divorced, Exec-managerial, Unmarried, White, Female, 0, 0, 40, United-States, <=50K\n",
      "45, Federal-gov, 162410, Some-college, 10, Widowed, Tech-support, Not-in-family, White, Female, 0, 0, 45, United-States, >50K\n",
      "46, Federal-gov, 110884, HS-grad, 9, Never-married, Adm-clerical, Not-in-family, Amer-Indian-Eskimo, Male, 0, 0, 40, United-States, <=50K\n",
      "42, Federal-gov, 31621, Assoc-acdm, 12, Divorced, Adm-clerical, Not-in-family, White, Female, 0, 0, 40, United-States, <=50K\n",
      "26, Federal-gov, 218782, HS-grad, 9, Married-civ-spouse, Adm-clerical, Husband, Other, Male, 0, 0, 40, United-States, <=50K\n",
      "61, Federal-gov, 178312, Some-college, 10, Married-civ-spouse, Prof-specialty, Husband, White, Male, 0, 0, 40, United-States, <=50K\n",
      "37, Federal-gov, 93225, Some-college, 10, Married-civ-spouse, Adm-clerical, Husband, White, Male, 7688, 0, 40, United-States, >50K\n",
      "39, Federal-gov, 209609, HS-grad, 9, Married-civ-spouse, Adm-clerical, Husband, White, Male, 0, 0, 50, United-States, <=50K\n",
      "56, Federal-gov, 196307, Doctorate, 16, Married-civ-spouse, Prof-specialty, Husband, White, Male, 0, 0, 40, United-States, >50K\n",
      "35, Federal-gov, 105138, Prof-school, 15, Married-civ-spouse, Prof-specialty, Husband, White, Male, 0, 0, 55, United-States, <=50K\n",
      "66, Federal-gov, 38621, Assoc-voc, 11, Widowed, Other-service, Unmarried, Black, Female, 3273, 0, 40, United-States, <=50K\n",
      "45, Federal-gov, 56904, Bachelors, 13, Married-civ-spouse, Adm-clerical, Husband, White, Male, 5013, 0, 45, United-States, <=50K\n",
      "60, Federal-gov, 165630, HS-grad, 9, Married-civ-spouse, Tech-support, Husband, White, Male, 0, 1977, 40, United-States, >50K\n",
      "41, Federal-gov, 185616, HS-grad, 9, Never-married, Adm-clerical, Not-in-family, White, Female, 0, 1980, 40, United-States, <=50K\n",
      "39, Federal-gov, 32312, Bachelors, 13, Never-married, Prof-specialty, Not-in-family, White, Female, 0, 0, 60, United-States, <=50K\n",
      "29, Federal-gov, 339002, Assoc-voc, 11, Married-civ-spouse, Craft-repair, Husband, White, Male, 0, 0, 40, United-States, >50K\n",
      "37, Federal-gov, 289653, HS-grad, 9, Married-civ-spouse, Adm-clerical, Husband, White, Male, 0, 0, 50, United-States, >50K\n",
      "54, Federal-gov, 439608, Some-college, 10, Divorced, Adm-clerical, Not-in-family, White, Female, 0, 0, 40, United-States, <=50K\n",
      "27, Federal-gov, 276776, Some-college, 10, Married-civ-spouse, Tech-support, Husband, White, Male, 0, 0, 40, United-States, >50K\n",
      "38, Federal-gov, 91716, HS-grad, 9, Married-civ-spouse, Adm-clerical, Husband, White, Male, 0, 0, 40, United-States, <=50K\n",
      "45, Federal-gov, 171335, Masters, 14, Married-civ-spouse, Sales, Husband, White, Male, 0, 0, 50, United-States, >50K\n",
      "29, Federal-gov, 155970, HS-grad, 9, Married-civ-spouse, Tech-support, Husband, White, Male, 0, 0, 40, United-States, >50K\n",
      "62, Federal-gov, 209433, HS-grad, 9, Married-civ-spouse, Adm-clerical, Husband, Black, Male, 0, 0, 40, United-States, <=50K\n",
      "36, Federal-gov, 68781, Some-college, 10, Married-civ-spouse, Adm-clerical, Husband, White, Male, 0, 0, 35, United-States, <=50K\n",
      "36, Federal-gov, 403489, Masters, 14, Married-civ-spouse, Prof-specialty, Husband, White, Male, 0, 0, 45, United-States, >50K\n",
      "38, Federal-gov, 205852, HS-grad, 9, Never-married, Adm-clerical, Not-in-family, White, Male, 0, 0, 45, United-States, >50K\n",
      "61, Federal-gov, 160155, Some-college, 10, Married-civ-spouse, Exec-managerial, Husband, White, Male, 0, 0, 40, United-States, >50K\n",
      "56, Federal-gov, 155238, HS-grad, 9, Married-civ-spouse, Adm-clerical, Husband, White, Male, 0, 0, 40, United-States, >50K\n",
      "47, Federal-gov, 102771, Doctorate, 16, Married-civ-spouse, Prof-specialty, Husband, White, Male, 0, 0, 40, United-States, >50K\n",
      "62, Federal-gov, 159165, HS-grad, 9, Widowed, Exec-managerial, Not-in-family, White, Female, 0, 0, 36, United-States, <=50K\n",
      "50, Federal-gov, 307555, Bachelors, 13, Divorced, Prof-specialty, Not-in-family, White, Male, 0, 0, 60, United-States, >50K\n",
      "52, Federal-gov, 221532, Bachelors, 13, Married-civ-spouse, Exec-managerial, Husband, White, Male, 0, 0, 45, United-States, >50K\n",
      "22, Federal-gov, 65547, Some-college, 10, Never-married, Exec-managerial, Not-in-family, Black, Male, 0, 0, 40, United-States, <=50K\n",
      "42, Federal-gov, 115932, Bachelors, 13, Divorced, Adm-clerical, Own-child, White, Male, 0, 0, 40, United-States, <=50K\n",
      "46, Federal-gov, 325573, HS-grad, 9, Never-married, Handlers-cleaners, Not-in-family, White, Male, 0, 0, 40, United-States, <=50K\n",
      "45, Federal-gov, 155659, Some-college, 10, Married-civ-spouse, Prof-specialty, Husband, White, Male, 0, 0, 40, United-States, >50K\n",
      "47, Federal-gov, 329205, Bachelors, 13, Divorced, Prof-specialty, Unmarried, White, Male, 0, 0, 40, United-States, <=50K\n",
      "28, Federal-gov, 526528, Some-college, 10, Never-married, Adm-clerical, Unmarried, Black, Female, 3887, 0, 40, United-States, <=50K\n",
      "37, Federal-gov, 194630, Masters, 14, Never-married, Exec-managerial, Own-child, White, Female, 0, 0, 40, United-States, <=50K\n",
      "37, Federal-gov, 22201, Bachelors, 13, Married-civ-spouse, Adm-clerical, Husband, Asian-Pac-Islander, Male, 7298, 0, 40, Philippines, >50K\n",
      "32, Federal-gov, 44777, HS-grad, 9, Separated, Machine-op-inspct, Not-in-family, Black, Male, 0, 0, 46, United-States, <=50K\n",
      "49, Federal-gov, 586657, Bachelors, 13, Married-civ-spouse, Exec-managerial, Husband, White, Male, 7298, 0, 40, United-States, >50K\n",
      "38, Federal-gov, 161463, Some-college, 10, Married-civ-spouse, Other-service, Husband, Black, Male, 0, 0, 40, United-States, <=50K\n",
      "34, Federal-gov, 223267, Some-college, 10, Divorced, Protective-serv, Own-child, White, Male, 0, 0, 72, United-States, <=50K\n",
      "43, Federal-gov, 56063, Bachelors, 13, Married-civ-spouse, Sales, Husband, White, Male, 0, 0, 60, United-States, <=50K\n",
      "51, Federal-gov, 36186, Bachelors, 13, Married-civ-spouse, Prof-specialty, Husband, White, Male, 0, 0, 40, United-States, >50K\n",
      "32, Federal-gov, 164707, HS-grad, 9, Married-civ-spouse, Adm-clerical, Wife, White, Female, 0, 0, 40, United-States, >50K\n",
      "23, Federal-gov, 41432, Bachelors, 13, Never-married, Prof-specialty, Not-in-family, White, Female, 0, 0, 15, United-States, <=50K\n",
      "46, Federal-gov, 213140, Masters, 14, Married-civ-spouse, Exec-managerial, Husband, White, Male, 0, 1977, 40, United-States, >50K\n",
      "27, Federal-gov, 148153, HS-grad, 9, Married-civ-spouse, Handlers-cleaners, Husband, Asian-Pac-Islander, Male, 0, 0, 40, United-States, <=50K\n",
      "32, Federal-gov, 504951, Assoc-acdm, 12, Married-civ-spouse, Protective-serv, Husband, White, Male, 0, 0, 50, United-States, <=50K\n",
      "48, Federal-gov, 88564, 7th-8th, 4, Married-spouse-absent, Handlers-cleaners, Unmarried, White, Male, 0, 0, 40, United-States, <=50K\n",
      "38, Federal-gov, 214542, Some-college, 10, Divorced, Handlers-cleaners, Unmarried, Black, Female, 0, 0, 40, United-States, <=50K\n",
      "28, Federal-gov, 42003, Some-college, 10, Married-civ-spouse, Adm-clerical, Husband, White, Male, 0, 0, 40, United-States, >50K\n",
      "52, Federal-gov, 290856, Bachelors, 13, Married-civ-spouse, Prof-specialty, Husband, White, Male, 0, 0, 40, United-States, >50K\n",
      "33, Federal-gov, 88913, Some-college, 10, Never-married, Adm-clerical, Own-child, Asian-Pac-Islander, Female, 0, 0, 40, United-States, <=50K\n",
      "42, Federal-gov, 198316, Masters, 14, Married-civ-spouse, Exec-managerial, Husband, White, Male, 0, 0, 40, United-States, >50K\n",
      "30, Federal-gov, 356689, Bachelors, 13, Married-civ-spouse, Adm-clerical, Husband, White, Male, 0, 0, 30, Japan, <=50K\n",
      "41, Federal-gov, 186601, HS-grad, 9, Separated, Exec-managerial, Not-in-family, Black, Female, 0, 0, 40, United-States, <=50K\n",
      "39, Federal-gov, 103984, Bachelors, 13, Divorced, Exec-managerial, Unmarried, Black, Female, 0, 0, 40, United-States, <=50K\n",
      "34, Federal-gov, 419691, Bachelors, 13, Married-civ-spouse, Protective-serv, Husband, White, Male, 7298, 0, 54, United-States, >50K\n",
      "59, Federal-gov, 117299, HS-grad, 9, Married-civ-spouse, Craft-repair, Husband, White, Male, 0, 1887, 40, United-States, >50K\n",
      "38, Federal-gov, 137953, HS-grad, 9, Married-civ-spouse, Adm-clerical, Husband, White, Male, 0, 0, 45, United-States, <=50K\n",
      "38, Federal-gov, 303817, Some-college, 10, Divorced, Exec-managerial, Not-in-family, Black, Female, 0, 0, 40, United-States, <=50K\n",
      "42, Federal-gov, 108183, Masters, 14, Married-civ-spouse, Prof-specialty, Husband, Asian-Pac-Islander, Male, 0, 1902, 40, South, >50K\n",
      "48, Federal-gov, 96854, Some-college, 10, Never-married, Adm-clerical, Not-in-family, White, Male, 0, 0, 30, United-States, <=50K\n",
      "39, Federal-gov, 193583, Bachelors, 13, Divorced, Prof-specialty, Unmarried, White, Female, 5455, 0, 60, United-States, <=50K\n",
      "37, Federal-gov, 90881, Some-college, 10, Separated, Exec-managerial, Not-in-family, White, Male, 8614, 0, 55, United-States, >50K\n",
      "41, Federal-gov, 214838, Masters, 14, Married-civ-spouse, Exec-managerial, Husband, White, Male, 0, 0, 60, United-States, >50K\n",
      "50, Federal-gov, 221532, Assoc-acdm, 12, Married-civ-spouse, Craft-repair, Husband, White, Male, 0, 0, 40, United-States, >50K\n",
      "45, Federal-gov, 98524, Assoc-acdm, 12, Married-civ-spouse, Adm-clerical, Husband, White, Male, 0, 0, 40, United-States, >50K\n",
      "57, Federal-gov, 21626, Some-college, 10, Divorced, Other-service, Not-in-family, White, Male, 0, 0, 40, United-States, <=50K\n",
      "44, Federal-gov, 399155, HS-grad, 9, Never-married, Craft-repair, Own-child, Black, Female, 0, 0, 40, United-States, <=50K\n",
      "35, Federal-gov, 133935, Bachelors, 13, Married-civ-spouse, Craft-repair, Husband, White, Male, 0, 0, 40, United-States, >50K\n",
      "46, Federal-gov, 55237, Some-college, 10, Divorced, Machine-op-inspct, Unmarried, White, Male, 0, 0, 40, United-States, <=50K\n",
      "35, Federal-gov, 226916, Bachelors, 13, Widowed, Adm-clerical, Not-in-family, White, Male, 0, 0, 40, United-States, >50K\n",
      "34, Federal-gov, 341051, Masters, 14, Married-civ-spouse, Adm-clerical, Husband, White, Male, 0, 0, 50, United-States, >50K\n",
      "39, Federal-gov, 189632, HS-grad, 9, Married-civ-spouse, Adm-clerical, Wife, White, Female, 0, 0, 40, United-States, >50K\n",
      "49, Federal-gov, 125892, Bachelors, 13, Married-civ-spouse, Exec-managerial, Husband, White, Male, 0, 0, 40, United-States, >50K\n",
      "47, Federal-gov, 211123, HS-grad, 9, Married-civ-spouse, Craft-repair, Husband, White, Male, 0, 0, 40, United-States, <=50K\n",
      "41, Federal-gov, 192589, Bachelors, 13, Married-civ-spouse, Adm-clerical, Husband, White, Male, 0, 0, 40, United-States, <=50K\n",
      "71, Federal-gov, 149386, HS-grad, 9, Widowed, Exec-managerial, Not-in-family, White, Male, 0, 0, 9, United-States, <=50K\n",
      "34, Federal-gov, 149368, Prof-school, 15, Married-civ-spouse, Prof-specialty, Husband, White, Male, 0, 0, 40, United-States, >50K\n",
      "36, Federal-gov, 51089, Bachelors, 13, Married-civ-spouse, Adm-clerical, Husband, White, Male, 0, 0, 50, United-States, >50K\n",
      "40, Federal-gov, 280167, Masters, 14, Married-civ-spouse, Prof-specialty, Husband, White, Male, 0, 0, 40, United-States, >50K\n",
      "49, Federal-gov, 203505, HS-grad, 9, Widowed, Adm-clerical, Not-in-family, White, Female, 0, 0, 40, United-States, <=50K\n",
      "19, Federal-gov, 255921, Some-college, 10, Never-married, Handlers-cleaners, Own-child, White, Male, 0, 0, 20, England, <=50K\n",
      "23, Federal-gov, 314525, Bachelors, 13, Never-married, Prof-specialty, Not-in-family, White, Male, 0, 0, 40, United-States, <=50K\n",
      "33, Federal-gov, 122220, Some-college, 10, Married-civ-spouse, Exec-managerial, Wife, Black, Female, 0, 0, 40, United-States, >50K\n",
      "55, Federal-gov, 88876, Masters, 14, Married-civ-spouse, Exec-managerial, Husband, Asian-Pac-Islander, Male, 0, 0, 60, United-States, >50K\n",
      "42, Federal-gov, 65950, HS-grad, 9, Divorced, Adm-clerical, Unmarried, Black, Female, 0, 0, 40, United-States, <=50K\n",
      "35, Federal-gov, 153633, Some-college, 10, Never-married, Other-service, Unmarried, Black, Female, 0, 0, 40, United-States, <=50K\n",
      "20, Federal-gov, 225515, Some-college, 10, Never-married, Tech-support, Own-child, White, Female, 0, 0, 24, United-States, <=50K\n",
      "33, Federal-gov, 177945, HS-grad, 9, Married-civ-spouse, Adm-clerical, Husband, Black, Male, 0, 0, 40, United-States, <=50K\n",
      "43, Federal-gov, 347720, Bachelors, 13, Never-married, Tech-support, Not-in-family, White, Male, 0, 0, 50, United-States, <=50K\n",
      "30, Federal-gov, 423064, HS-grad, 9, Separated, Adm-clerical, Other-relative, Black, Male, 0, 0, 35, United-States, <=50K\n",
      "45, Federal-gov, 60267, HS-grad, 9, Married-civ-spouse, Adm-clerical, Husband, White, Male, 0, 0, 40, United-States, >50K\n",
      "39, Federal-gov, 82622, Bachelors, 13, Never-married, Adm-clerical, Not-in-family, White, Male, 0, 0, 45, United-States, <=50K\n",
      "28, Federal-gov, 341709, HS-grad, 9, Never-married, Craft-repair, Not-in-family, White, Male, 0, 0, 40, United-States, <=50K\n",
      "24, Federal-gov, 283918, Some-college, 10, Divorced, Adm-clerical, Unmarried, Black, Female, 0, 0, 25, United-States, <=50K\n",
      "37, Federal-gov, 81853, HS-grad, 9, Divorced, Prof-specialty, Unmarried, Asian-Pac-Islander, Female, 0, 0, 40, ?, <=50K\n",
      "37, Federal-gov, 125933, HS-grad, 9, Married-civ-spouse, Adm-clerical, Husband, White, Male, 0, 0, 40, United-States, >50K\n",
      "39, Federal-gov, 432555, HS-grad, 9, Married-civ-spouse, Adm-clerical, Husband, Black, Male, 0, 1628, 40, United-States, <=50K\n",
      "33, Federal-gov, 428271, HS-grad, 9, Divorced, Adm-clerical, Unmarried, Black, Female, 0, 0, 35, United-States, <=50K\n",
      "44, Federal-gov, 316120, Prof-school, 15, Divorced, Prof-specialty, Unmarried, White, Male, 0, 0, 40, United-States, >50K\n",
      "72, Federal-gov, 39110, 11th, 7, Divorced, Adm-clerical, Not-in-family, White, Female, 0, 0, 8, Canada, <=50K\n",
      "42, Federal-gov, 91468, HS-grad, 9, Divorced, Adm-clerical, Not-in-family, White, Female, 0, 0, 40, United-States, <=50K\n",
      "36, Federal-gov, 44364, HS-grad, 9, Never-married, Adm-clerical, Own-child, Black, Female, 0, 0, 36, United-States, <=50K\n",
      "48, Federal-gov, 188081, HS-grad, 9, Married-civ-spouse, Adm-clerical, Husband, White, Male, 0, 0, 40, United-States, >50K\n",
      "29, Federal-gov, 124953, Assoc-voc, 11, Married-civ-spouse, Tech-support, Husband, White, Male, 0, 0, 42, United-States, >50K\n",
      "40, Federal-gov, 219240, HS-grad, 9, Divorced, Adm-clerical, Unmarried, White, Female, 0, 0, 22, United-States, <=50K\n",
      "61, Federal-gov, 230545, HS-grad, 9, Never-married, Adm-clerical, Unmarried, White, Female, 0, 0, 35, Puerto-Rico, <=50K\n",
      "51, Federal-gov, 140035, HS-grad, 9, Married-civ-spouse, Adm-clerical, Husband, White, Male, 0, 0, 40, United-States, >50K\n",
      "64, Federal-gov, 161926, HS-grad, 9, Married-civ-spouse, Prof-specialty, Husband, White, Male, 0, 0, 8, United-States, <=50K\n",
      "59, Federal-gov, 176317, 10th, 6, Divorced, Other-service, Not-in-family, White, Female, 0, 0, 37, United-States, <=50K\n",
      "37, Federal-gov, 48779, Bachelors, 13, Married-civ-spouse, Prof-specialty, Husband, White, Male, 0, 0, 40, United-States, <=50K\n",
      "23, Federal-gov, 39603, Some-college, 10, Never-married, Craft-repair, Unmarried, Amer-Indian-Eskimo, Male, 0, 0, 40, United-States, <=50K\n",
      "22, Federal-gov, 209131, Assoc-acdm, 12, Never-married, Other-service, Own-child, White, Male, 0, 0, 20, United-States, <=50K\n",
      "40, Federal-gov, 171231, Bachelors, 13, Never-married, Adm-clerical, Not-in-family, White, Male, 0, 0, 40, Puerto-Rico, <=50K\n",
      "47, Federal-gov, 220269, Some-college, 10, Married-civ-spouse, Handlers-cleaners, Husband, White, Male, 0, 0, 40, United-States, >50K\n",
      "42, Federal-gov, 52781, Masters, 14, Married-civ-spouse, Prof-specialty, Husband, White, Male, 0, 1902, 40, United-States, >50K\n",
      "65, Federal-gov, 325089, 10th, 6, Divorced, Craft-repair, Unmarried, White, Male, 0, 0, 40, United-States, <=50K\n",
      "53, Federal-gov, 39643, HS-grad, 9, Widowed, Exec-managerial, Not-in-family, White, Female, 0, 0, 58, United-States, <=50K\n",
      "37, Federal-gov, 419053, HS-grad, 9, Divorced, Craft-repair, Not-in-family, White, Male, 0, 0, 40, United-States, <=50K\n",
      "43, Federal-gov, 101709, Some-college, 10, Divorced, Handlers-cleaners, Not-in-family, Asian-Pac-Islander, Male, 0, 0, 40, United-States, <=50K\n",
      "30, Federal-gov, 295010, Bachelors, 13, Never-married, Protective-serv, Not-in-family, White, Female, 0, 0, 60, United-States, >50K\n",
      "25, Federal-gov, 366207, HS-grad, 9, Never-married, Transport-moving, Own-child, White, Male, 0, 0, 40, United-States, <=50K\n",
      "24, Federal-gov, 127185, Assoc-acdm, 12, Married-civ-spouse, Exec-managerial, Wife, White, Female, 0, 0, 40, United-States, <=50K\n",
      "48, Federal-gov, 167749, HS-grad, 9, Married-civ-spouse, Adm-clerical, Wife, White, Female, 0, 0, 40, United-States, >50K\n",
      "61, Federal-gov, 60641, Some-college, 10, Married-civ-spouse, Adm-clerical, Wife, White, Female, 0, 0, 30, United-States, <=50K\n",
      "61, Federal-gov, 136787, Some-college, 10, Married-civ-spouse, Adm-clerical, Husband, White, Male, 0, 0, 40, United-States, >50K\n",
      "35, Federal-gov, 38905, Some-college, 10, Divorced, Adm-clerical, Not-in-family, White, Female, 0, 0, 50, United-States, <=50K\n",
      "47, Federal-gov, 31339, Some-college, 10, Married-civ-spouse, Adm-clerical, Husband, White, Male, 0, 0, 40, United-States, <=50K\n",
      "48, Federal-gov, 110457, Some-college, 10, Married-civ-spouse, Craft-repair, Husband, White, Male, 0, 0, 40, United-States, >50K\n",
      "39, Federal-gov, 227597, HS-grad, 9, Never-married, Armed-Forces, Not-in-family, White, Male, 0, 0, 50, United-States, <=50K\n",
      "67, Federal-gov, 44774, Bachelors, 13, Widowed, Adm-clerical, Not-in-family, White, Female, 0, 0, 40, United-States, <=50K\n",
      "29, Federal-gov, 31161, HS-grad, 9, Divorced, Exec-managerial, Not-in-family, Other, Female, 0, 0, 40, United-States, <=50K\n",
      "26, Federal-gov, 276075, Some-college, 10, Married-civ-spouse, Adm-clerical, Husband, Black, Male, 0, 0, 40, United-States, <=50K\n",
      "50, Federal-gov, 96657, Bachelors, 13, Divorced, Prof-specialty, Unmarried, Black, Female, 0, 0, 40, United-States, <=50K\n",
      "45, Federal-gov, 232997, Some-college, 10, Married-civ-spouse, Transport-moving, Husband, White, Male, 0, 0, 65, United-States, >50K\n",
      "52, Federal-gov, 22428, Bachelors, 13, Married-civ-spouse, Protective-serv, Husband, White, Male, 0, 0, 60, United-States, >50K\n",
      "39, Federal-gov, 257175, Bachelors, 13, Divorced, Tech-support, Unmarried, Black, Female, 0, 625, 40, United-States, <=50K\n",
      "43, Federal-gov, 287008, Masters, 14, Married-civ-spouse, Protective-serv, Husband, White, Male, 0, 0, 35, United-States, >50K\n",
      "26, Federal-gov, 352768, HS-grad, 9, Divorced, Adm-clerical, Own-child, White, Female, 0, 0, 40, United-States, <=50K\n",
      "25, Federal-gov, 339956, Some-college, 10, Married-civ-spouse, Protective-serv, Husband, Black, Male, 0, 0, 40, United-States, <=50K\n",
      "35, Federal-gov, 205584, 5th-6th, 3, Never-married, Craft-repair, Not-in-family, White, Male, 0, 0, 40, Mexico, <=50K\n",
      "43, Federal-gov, 19914, Some-college, 10, Widowed, Exec-managerial, Unmarried, Amer-Indian-Eskimo, Female, 0, 0, 15, United-States, <=50K\n",
      "40, Federal-gov, 118686, Bachelors, 13, Never-married, Prof-specialty, Not-in-family, White, Female, 0, 0, 45, United-States, <=50K\n",
      "36, Federal-gov, 930948, Some-college, 10, Separated, Adm-clerical, Unmarried, Black, Female, 6497, 0, 56, United-States, <=50K\n",
      "36, Federal-gov, 343052, HS-grad, 9, Married-civ-spouse, Adm-clerical, Wife, White, Female, 0, 0, 40, United-States, <=50K\n",
      "46, Federal-gov, 207022, Bachelors, 13, Married-civ-spouse, Exec-managerial, Husband, White, Male, 7688, 0, 40, United-States, >50K\n",
      "44, Federal-gov, 102238, HS-grad, 9, Divorced, Craft-repair, Unmarried, White, Male, 0, 0, 40, United-States, <=50K\n",
      "53, Federal-gov, 167410, Bachelors, 13, Divorced, Tech-support, Not-in-family, Amer-Indian-Eskimo, Male, 0, 0, 40, United-States, <=50K\n",
      "25, Federal-gov, 406955, HS-grad, 9, Never-married, Adm-clerical, Other-relative, White, Female, 0, 0, 40, United-States, <=50K\n",
      "27, Federal-gov, 196386, Assoc-acdm, 12, Married-civ-spouse, Adm-clerical, Husband, White, Male, 4064, 0, 40, El-Salvador, <=50K\n",
      "47, Federal-gov, 119199, Some-college, 10, Divorced, Adm-clerical, Unmarried, White, Female, 0, 0, 40, United-States, <=50K\n",
      "43, Federal-gov, 192712, Some-college, 10, Married-civ-spouse, Prof-specialty, Wife, White, Female, 0, 0, 40, United-States, >50K\n",
      "53, Federal-gov, 170354, Some-college, 10, Married-civ-spouse, Adm-clerical, Husband, White, Male, 0, 0, 40, United-States, >50K\n",
      "47, Federal-gov, 20956, Bachelors, 13, Married-civ-spouse, Craft-repair, Husband, White, Male, 0, 1740, 40, United-States, <=50K\n",
      "36, Federal-gov, 239074, Assoc-acdm, 12, Married-civ-spouse, Other-service, Husband, White, Male, 0, 0, 40, United-States, <=50K\n",
      "46, Federal-gov, 341762, Bachelors, 13, Married-civ-spouse, Prof-specialty, Husband, White, Male, 7688, 0, 45, United-States, >50K\n",
      "20, Federal-gov, 340217, HS-grad, 9, Never-married, Adm-clerical, Own-child, White, Female, 0, 0, 40, United-States, <=50K\n",
      "48, Federal-gov, 483261, Some-college, 10, Never-married, Adm-clerical, Not-in-family, Black, Male, 0, 0, 40, United-States, <=50K\n",
      "44, Federal-gov, 206553, Assoc-voc, 11, Divorced, Tech-support, Not-in-family, White, Male, 0, 0, 40, United-States, <=50K\n",
      "38, Federal-gov, 48123, Some-college, 10, Divorced, Exec-managerial, Not-in-family, White, Female, 0, 0, 40, United-States, <=50K\n",
      "35, Federal-gov, 39207, HS-grad, 9, Never-married, Adm-clerical, Not-in-family, White, Male, 0, 0, 40, United-States, <=50K\n",
      "39, Federal-gov, 382859, HS-grad, 9, Married-civ-spouse, Craft-repair, Husband, White, Male, 0, 0, 40, United-States, >50K\n",
      "29, Federal-gov, 224858, Some-college, 10, Married-civ-spouse, Protective-serv, Husband, White, Male, 0, 0, 60, United-States, <=50K\n",
      "50, Federal-gov, 186272, Some-college, 10, Married-civ-spouse, Exec-managerial, Husband, White, Male, 0, 0, 40, United-States, <=50K\n",
      "50, Federal-gov, 299831, Some-college, 10, Divorced, Adm-clerical, Unmarried, White, Female, 0, 880, 40, United-States, <=50K\n",
      "37, Federal-gov, 173192, Assoc-voc, 11, Separated, Adm-clerical, Not-in-family, Black, Male, 0, 0, 40, United-States, <=50K\n",
      "39, Federal-gov, 129573, Some-college, 10, Married-civ-spouse, Adm-clerical, Husband, White, Male, 0, 0, 50, United-States, <=50K\n",
      "33, Federal-gov, 137059, Some-college, 10, Never-married, Other-service, Not-in-family, White, Female, 0, 0, 10, United-States, <=50K\n",
      "46, Federal-gov, 102308, Prof-school, 15, Married-civ-spouse, Prof-specialty, Husband, White, Male, 15024, 0, 50, United-States, >50K\n",
      "62, Federal-gov, 258124, Masters, 14, Married-civ-spouse, Adm-clerical, Husband, White, Male, 0, 0, 40, Italy, >50K\n",
      "51, Federal-gov, 215948, Some-college, 10, Married-civ-spouse, Handlers-cleaners, Husband, Other, Male, 0, 0, 40, ?, <=50K\n",
      "44, Federal-gov, 306440, HS-grad, 9, Divorced, Craft-repair, Not-in-family, White, Male, 0, 0, 40, United-States, <=50K\n",
      "33, Federal-gov, 615893, Masters, 14, Married-civ-spouse, Transport-moving, Husband, Black, Male, 0, 0, 40, Nicaragua, <=50K\n",
      "52, Federal-gov, 291096, Assoc-acdm, 12, Married-civ-spouse, Other-service, Husband, White, Male, 7298, 0, 40, United-States, >50K\n",
      "49, Federal-gov, 128990, Bachelors, 13, Married-civ-spouse, Prof-specialty, Husband, White, Male, 0, 0, 40, United-States, >50K\n",
      "43, Federal-gov, 211763, Doctorate, 16, Separated, Prof-specialty, Unmarried, Black, Female, 0, 0, 24, United-States, >50K\n",
      "32, Federal-gov, 42900, Prof-school, 15, Married-civ-spouse, Prof-specialty, Husband, White, Male, 15024, 0, 50, United-States, >50K\n",
      "26, Federal-gov, 85482, HS-grad, 9, Never-married, Adm-clerical, Not-in-family, Asian-Pac-Islander, Male, 0, 0, 40, United-States, <=50K\n",
      "43, Federal-gov, 155106, Bachelors, 13, Married-civ-spouse, Handlers-cleaners, Husband, White, Male, 0, 0, 53, United-States, <=50K\n",
      "62, Federal-gov, 125155, HS-grad, 9, Married-civ-spouse, Adm-clerical, Husband, White, Male, 0, 0, 38, United-States, <=50K\n",
      "22, Federal-gov, 274103, Bachelors, 13, Never-married, Prof-specialty, Own-child, White, Male, 0, 0, 10, United-States, <=50K\n",
      "45, Federal-gov, 207107, Assoc-acdm, 12, Divorced, Adm-clerical, Unmarried, Asian-Pac-Islander, Male, 0, 2080, 40, Philippines, <=50K\n",
      "33, Federal-gov, 391122, HS-grad, 9, Never-married, Adm-clerical, Own-child, White, Female, 0, 0, 30, United-States, <=50K\n",
      "41, Federal-gov, 371382, Some-college, 10, Married-civ-spouse, Exec-managerial, Husband, Black, Male, 0, 0, 40, United-States, >50K\n",
      "24, Federal-gov, 130534, Bachelors, 13, Never-married, Exec-managerial, Not-in-family, White, Male, 0, 0, 40, United-States, <=50K\n",
      "25, Federal-gov, 50053, Bachelors, 13, Never-married, Tech-support, Not-in-family, White, Male, 0, 0, 45, United-States, <=50K\n",
      "24, Federal-gov, 287988, Bachelors, 13, Never-married, Armed-Forces, Not-in-family, White, Male, 0, 0, 40, United-States, <=50K\n",
      "40, Federal-gov, 112388, Masters, 14, Never-married, Prof-specialty, Not-in-family, White, Male, 0, 0, 40, United-States, <=50K\n",
      "62, Federal-gov, 177295, HS-grad, 9, Widowed, Adm-clerical, Unmarried, White, Female, 0, 0, 40, United-States, <=50K\n",
      "37, Federal-gov, 448337, HS-grad, 9, Never-married, Exec-managerial, Unmarried, Black, Female, 0, 0, 40, United-States, <=50K\n",
      "43, Federal-gov, 115562, HS-grad, 9, Married-civ-spouse, Machine-op-inspct, Husband, White, Male, 0, 0, 40, United-States, <=50K\n",
      "35, Federal-gov, 185053, Bachelors, 13, Never-married, Prof-specialty, Own-child, White, Female, 0, 0, 40, United-States, <=50K\n",
      "44, Federal-gov, 201435, Assoc-voc, 11, Married-civ-spouse, Craft-repair, Husband, Black, Male, 0, 0, 40, United-States, >50K\n",
      "41, Federal-gov, 197069, Some-college, 10, Married-spouse-absent, Adm-clerical, Not-in-family, Black, Male, 4650, 0, 40, United-States, <=50K\n",
      "44, Federal-gov, 240628, Assoc-acdm, 12, Divorced, Exec-managerial, Not-in-family, White, Female, 2354, 0, 40, United-States, <=50K\n",
      "49, Federal-gov, 35406, HS-grad, 9, Widowed, Exec-managerial, Not-in-family, White, Female, 0, 0, 20, United-States, <=50K\n",
      "52, Federal-gov, 312500, Assoc-voc, 11, Divorced, Farming-fishing, Not-in-family, White, Female, 0, 0, 40, United-States, <=50K\n",
      "40, Federal-gov, 391744, HS-grad, 9, Never-married, Adm-clerical, Unmarried, Black, Female, 0, 0, 40, United-States, <=50K\n",
      "53, Federal-gov, 105788, Bachelors, 13, Divorced, Exec-managerial, Unmarried, Black, Female, 0, 0, 50, United-States, >50K\n",
      "43, Federal-gov, 214541, Some-college, 10, Married-civ-spouse, Exec-managerial, Husband, White, Male, 0, 0, 40, United-States, >50K\n",
      "41, Federal-gov, 355918, HS-grad, 9, Married-civ-spouse, Tech-support, Husband, White, Male, 0, 0, 40, United-States, >50K\n",
      "24, Federal-gov, 219519, Some-college, 10, Never-married, Adm-clerical, Own-child, Black, Female, 0, 0, 40, United-States, <=50K\n",
      "40, Federal-gov, 121012, Bachelors, 13, Married-civ-spouse, Adm-clerical, Husband, White, Male, 7298, 0, 48, United-States, >50K\n",
      "58, Federal-gov, 208640, Bachelors, 13, Married-civ-spouse, Exec-managerial, Husband, White, Male, 0, 0, 40, United-States, >50K\n",
      "30, Federal-gov, 314310, Bachelors, 13, Married-civ-spouse, Prof-specialty, Husband, White, Male, 0, 0, 40, United-States, >50K\n",
      "47, Federal-gov, 402975, Some-college, 10, Married-civ-spouse, Exec-managerial, Husband, Black, Male, 0, 0, 40, United-States, <=50K\n",
      "36, Federal-gov, 89083, Assoc-voc, 11, Married-civ-spouse, Tech-support, Husband, White, Male, 0, 0, 40, United-States, <=50K\n",
      "61, Federal-gov, 28291, Bachelors, 13, Married-civ-spouse, Exec-managerial, Wife, White, Female, 0, 0, 40, United-States, <=50K\n",
      "55, Federal-gov, 264834, Bachelors, 13, Never-married, Prof-specialty, Not-in-family, White, Female, 0, 0, 40, United-States, <=50K\n",
      "43, Federal-gov, 72887, Bachelors, 13, Married-spouse-absent, Tech-support, Not-in-family, Asian-Pac-Islander, Male, 0, 0, 40, United-States, <=50K\n",
      "33, Federal-gov, 37546, Prof-school, 15, Married-civ-spouse, Prof-specialty, Wife, White, Female, 0, 0, 40, United-States, >50K\n",
      "35, Federal-gov, 103214, Doctorate, 16, Never-married, Prof-specialty, Not-in-family, Amer-Indian-Eskimo, Female, 0, 0, 60, United-States, >50K\n",
      "58, Federal-gov, 298643, HS-grad, 9, Divorced, Adm-clerical, Unmarried, Black, Female, 0, 0, 40, United-States, <=50K\n",
      "46, Federal-gov, 219967, Bachelors, 13, Married-civ-spouse, Exec-managerial, Husband, White, Male, 0, 0, 40, United-States, >50K\n",
      "63, Federal-gov, 39181, Doctorate, 16, Divorced, Exec-managerial, Not-in-family, White, Female, 0, 2559, 60, United-States, >50K\n",
      "57, Federal-gov, 135028, HS-grad, 9, Separated, Adm-clerical, Other-relative, Black, Female, 0, 0, 35, United-States, <=50K\n",
      "39, Federal-gov, 290321, Assoc-voc, 11, Married-civ-spouse, Prof-specialty, Husband, White, Male, 0, 0, 50, United-States, <=50K\n",
      "49, Federal-gov, 195437, Assoc-acdm, 12, Married-civ-spouse, Adm-clerical, Husband, White, Male, 0, 0, 60, United-States, >50K\n",
      "33, Federal-gov, 117963, Bachelors, 13, Never-married, Adm-clerical, Own-child, White, Male, 0, 0, 38, United-States, <=50K\n",
      "32, Federal-gov, 174215, Bachelors, 13, Never-married, Exec-managerial, Not-in-family, White, Female, 0, 0, 60, United-States, <=50K\n",
      "51, Federal-gov, 97934, Bachelors, 13, Married-civ-spouse, Farming-fishing, Husband, White, Male, 5178, 0, 40, United-States, >50K\n",
      "27, Federal-gov, 46442, Bachelors, 13, Never-married, Protective-serv, Not-in-family, White, Female, 0, 0, 35, United-States, <=50K\n",
      "46, Federal-gov, 78022, HS-grad, 9, Married-civ-spouse, Adm-clerical, Husband, White, Male, 0, 0, 40, United-States, >50K\n",
      "26, Federal-gov, 52322, Bachelors, 13, Never-married, Tech-support, Not-in-family, Other, Male, 0, 0, 60, United-States, <=50K\n",
      "28, Federal-gov, 281860, Bachelors, 13, Never-married, Prof-specialty, Not-in-family, White, Female, 0, 0, 40, United-States, <=50K\n",
      "38, Federal-gov, 37683, Prof-school, 15, Never-married, Prof-specialty, Not-in-family, Asian-Pac-Islander, Female, 99999, 0, 57, Canada, >50K\n",
      "64, Federal-gov, 301383, Assoc-acdm, 12, Married-civ-spouse, Exec-managerial, Husband, White, Male, 9386, 0, 45, United-States, >50K\n",
      "50, Federal-gov, 98980, Bachelors, 13, Married-civ-spouse, Exec-managerial, Husband, White, Male, 7298, 0, 40, United-States, >50K\n",
      "63, Federal-gov, 154675, HS-grad, 9, Widowed, Exec-managerial, Not-in-family, White, Female, 0, 0, 40, United-States, <=50K\n",
      "60, Federal-gov, 55621, Assoc-acdm, 12, Married-civ-spouse, Other-service, Husband, Black, Male, 0, 0, 40, United-States, <=50K\n",
      "48, Federal-gov, 247043, HS-grad, 9, Divorced, Adm-clerical, Not-in-family, White, Male, 0, 0, 40, United-States, <=50K\n",
      "36, Federal-gov, 192150, HS-grad, 9, Divorced, Adm-clerical, Unmarried, White, Female, 0, 0, 40, United-States, <=50K\n",
      "30, Federal-gov, 49593, Prof-school, 15, Never-married, Prof-specialty, Not-in-family, Black, Female, 0, 0, 40, United-States, <=50K\n",
      "36, Federal-gov, 186934, Bachelors, 13, Married-civ-spouse, Adm-clerical, Husband, White, Male, 0, 1848, 55, United-States, >50K\n",
      "34, Federal-gov, 172716, 12th, 8, Married-civ-spouse, Armed-Forces, Husband, White, Male, 0, 0, 40, United-States, <=50K\n",
      "39, Federal-gov, 30916, Some-college, 10, Married-civ-spouse, Exec-managerial, Husband, White, Male, 0, 1902, 50, United-States, >50K\n",
      "34, Federal-gov, 436341, Some-college, 10, Married-AF-spouse, Adm-clerical, Wife, White, Female, 0, 0, 40, United-States, >50K\n",
      "29, Federal-gov, 309778, Some-college, 10, Married-civ-spouse, Tech-support, Husband, White, Male, 0, 0, 40, United-States, >50K\n",
      "45, Federal-gov, 71823, Some-college, 10, Married-civ-spouse, Adm-clerical, Husband, Black, Male, 0, 0, 20, United-States, <=50K\n",
      "46, Federal-gov, 140664, Some-college, 10, Married-civ-spouse, Exec-managerial, Husband, White, Male, 0, 0, 48, United-States, >50K\n",
      "36, Federal-gov, 106297, Masters, 14, Married-civ-spouse, Exec-managerial, Husband, White, Male, 0, 0, 40, United-States, >50K\n",
      "49, Federal-gov, 195949, HS-grad, 9, Married-civ-spouse, Machine-op-inspct, Husband, White, Male, 0, 0, 40, United-States, <=50K\n",
      "29, Federal-gov, 59932, Bachelors, 13, Never-married, Prof-specialty, Not-in-family, White, Female, 0, 0, 40, United-States, <=50K\n",
      "53, Federal-gov, 177212, Some-college, 10, Never-married, Prof-specialty, Unmarried, White, Female, 0, 0, 40, United-States, <=50K\n",
      "22, Federal-gov, 32950, Some-college, 10, Married-civ-spouse, Sales, Husband, White, Male, 0, 1902, 37, United-States, <=50K\n",
      "39, Federal-gov, 255407, HS-grad, 9, Married-civ-spouse, Craft-repair, Husband, White, Male, 0, 0, 40, United-States, <=50K\n",
      "43, Federal-gov, 92775, Assoc-voc, 11, Divorced, Craft-repair, Not-in-family, White, Male, 0, 0, 40, United-States, <=50K\n",
      "43, Federal-gov, 156996, Prof-school, 15, Married-civ-spouse, Prof-specialty, Husband, Asian-Pac-Islander, Male, 0, 2415, 55, ?, >50K\n",
      "33, Federal-gov, 293550, Some-college, 10, Married-civ-spouse, Tech-support, Wife, White, Female, 4064, 0, 40, United-States, <=50K\n",
      "67, Federal-gov, 65475, HS-grad, 9, Married-civ-spouse, Tech-support, Husband, White, Male, 0, 0, 40, United-States, >50K\n",
      "51, Federal-gov, 163671, Bachelors, 13, Married-civ-spouse, Exec-managerial, Husband, White, Male, 0, 1902, 40, United-States, <=50K\n",
      "25, Federal-gov, 55636, HS-grad, 9, Never-married, Handlers-cleaners, Not-in-family, Amer-Indian-Eskimo, Male, 0, 0, 40, United-States, <=50K\n",
      "71, Federal-gov, 422149, Some-college, 10, Married-civ-spouse, Exec-managerial, Husband, White, Male, 20051, 0, 40, United-States, >50K\n",
      "32, Federal-gov, 82393, Bachelors, 13, Married-civ-spouse, Prof-specialty, Husband, Asian-Pac-Islander, Male, 0, 0, 56, United-States, >50K\n",
      "54, Federal-gov, 230387, HS-grad, 9, Widowed, Adm-clerical, Unmarried, White, Female, 0, 0, 35, United-States, <=50K\n",
      "64, Federal-gov, 86837, Assoc-acdm, 12, Married-civ-spouse, Other-service, Husband, Asian-Pac-Islander, Male, 0, 0, 40, United-States, >50K\n",
      "59, Federal-gov, 61298, Bachelors, 13, Married-spouse-absent, Exec-managerial, Not-in-family, White, Female, 0, 0, 40, United-States, <=50K\n",
      "59, Federal-gov, 190541, HS-grad, 9, Married-civ-spouse, Craft-repair, Husband, White, Male, 0, 0, 40, United-States, >50K\n",
      "52, Federal-gov, 29623, 12th, 8, Never-married, Other-service, Unmarried, Black, Female, 0, 0, 40, United-States, <=50K\n",
      "33, Federal-gov, 26543, Assoc-voc, 11, Married-civ-spouse, Tech-support, Husband, White, Male, 0, 0, 40, United-States, >50K\n",
      "23, Federal-gov, 163870, Some-college, 10, Never-married, Armed-Forces, Other-relative, White, Male, 0, 0, 40, United-States, <=50K\n",
      "29, Federal-gov, 196912, Bachelors, 13, Never-married, Prof-specialty, Not-in-family, Black, Male, 0, 0, 40, United-States, <=50K\n",
      "44, Federal-gov, 161240, HS-grad, 9, Divorced, Machine-op-inspct, Not-in-family, White, Male, 0, 0, 40, United-States, <=50K\n",
      "73, Federal-gov, 127858, Some-college, 10, Widowed, Tech-support, Not-in-family, White, Female, 3273, 0, 40, United-States, <=50K\n",
      "46, Federal-gov, 349230, Assoc-voc, 11, Married-civ-spouse, Tech-support, Husband, White, Male, 0, 1848, 40, United-States, >50K\n",
      "53, Federal-gov, 90127, Some-college, 10, Married-civ-spouse, Protective-serv, Husband, White, Male, 0, 0, 60, United-States, >50K\n",
      "46, Federal-gov, 195023, Some-college, 10, Separated, Adm-clerical, Unmarried, White, Female, 0, 0, 40, United-States, <=50K\n",
      "48, Federal-gov, 435503, Masters, 14, Married-civ-spouse, Prof-specialty, Husband, White, Male, 0, 0, 40, United-States, >50K\n",
      "22, Federal-gov, 100345, HS-grad, 9, Never-married, Handlers-cleaners, Own-child, White, Male, 0, 0, 43, United-States, <=50K\n",
      "30, Federal-gov, 76313, HS-grad, 9, Married-civ-spouse, Armed-Forces, Other-relative, Amer-Indian-Eskimo, Male, 0, 0, 48, United-States, <=50K\n",
      "46, Federal-gov, 106252, Some-college, 10, Divorced, Adm-clerical, Not-in-family, White, Female, 0, 0, 40, United-States, <=50K\n",
      "36, Federal-gov, 359249, Some-college, 10, Separated, Adm-clerical, Not-in-family, Black, Male, 0, 0, 40, United-States, <=50K\n",
      "44, Federal-gov, 244054, Some-college, 10, Divorced, Exec-managerial, Unmarried, White, Male, 0, 0, 60, United-States, >50K\n",
      "44, Federal-gov, 218062, Some-college, 10, Divorced, Adm-clerical, Unmarried, Black, Female, 0, 0, 40, United-States, <=50K\n",
      "45, Federal-gov, 168232, Bachelors, 13, Never-married, Adm-clerical, Not-in-family, White, Male, 0, 0, 55, United-States, >50K\n",
      "20, Federal-gov, 178517, Some-college, 10, Never-married, Tech-support, Not-in-family, White, Male, 0, 0, 40, United-States, <=50K\n",
      "41, Federal-gov, 19914, Bachelors, 13, Married-civ-spouse, Adm-clerical, Wife, Asian-Pac-Islander, Female, 0, 0, 40, Philippines, >50K\n",
      "55, Federal-gov, 31728, Some-college, 10, Married-civ-spouse, Adm-clerical, Wife, White, Female, 0, 0, 40, United-States, >50K\n",
      "23, Federal-gov, 55465, Some-college, 10, Never-married, Handlers-cleaners, Not-in-family, White, Male, 0, 0, 40, United-States, <=50K\n",
      "58, Federal-gov, 30111, Some-college, 10, Widowed, Prof-specialty, Unmarried, Amer-Indian-Eskimo, Female, 0, 0, 40, United-States, <=50K\n",
      "42, Federal-gov, 178470, HS-grad, 9, Divorced, Adm-clerical, Not-in-family, White, Female, 0, 0, 40, United-States, <=50K\n",
      "45, Federal-gov, 106910, HS-grad, 9, Never-married, Transport-moving, Unmarried, Asian-Pac-Islander, Female, 0, 0, 40, United-States, <=50K\n",
      "23, Federal-gov, 41356, Assoc-acdm, 12, Never-married, Exec-managerial, Unmarried, White, Female, 0, 0, 32, United-States, <=50K\n",
      "64, Federal-gov, 316246, Bachelors, 13, Divorced, Adm-clerical, Not-in-family, Black, Female, 0, 0, 40, United-States, <=50K\n",
      "60, Federal-gov, 237317, Assoc-voc, 11, Divorced, Prof-specialty, Unmarried, White, Male, 4934, 0, 40, United-States, >50K\n",
      "30, Federal-gov, 321990, Some-college, 10, Married-civ-spouse, Adm-clerical, Husband, White, Male, 7298, 0, 48, Cuba, >50K\n",
      "46, Federal-gov, 46537, Masters, 14, Never-married, Prof-specialty, Not-in-family, White, Female, 0, 0, 40, United-States, <=50K\n",
      "58, Federal-gov, 129786, 10th, 6, Married-civ-spouse, Craft-repair, Husband, White, Male, 0, 0, 40, United-States, <=50K\n",
      "29, Federal-gov, 142712, Some-college, 10, Married-civ-spouse, Adm-clerical, Husband, White, Male, 0, 0, 40, United-States, >50K\n",
      "43, Federal-gov, 105936, Assoc-voc, 11, Never-married, Prof-specialty, Not-in-family, White, Female, 13550, 0, 40, United-States, >50K\n",
      "36, Federal-gov, 192443, Some-college, 10, Never-married, Exec-managerial, Not-in-family, Black, Male, 13550, 0, 40, United-States, >50K\n",
      "28, Federal-gov, 188278, Bachelors, 13, Never-married, Protective-serv, Not-in-family, White, Male, 0, 0, 50, United-States, <=50K\n",
      "47, Federal-gov, 229646, HS-grad, 9, Married-spouse-absent, Adm-clerical, Not-in-family, Black, Female, 0, 0, 40, Puerto-Rico, <=50K\n",
      "40, Federal-gov, 199303, Assoc-acdm, 12, Married-civ-spouse, Prof-specialty, Husband, White, Male, 0, 0, 40, United-States, >50K\n",
      "34, Federal-gov, 345259, Doctorate, 16, Never-married, Prof-specialty, Not-in-family, White, Female, 0, 0, 99, United-States, <=50K\n",
      "58, Federal-gov, 244830, Bachelors, 13, Separated, Prof-specialty, Not-in-family, White, Male, 4787, 0, 40, United-States, >50K\n",
      "43, Federal-gov, 175669, Some-college, 10, Married-civ-spouse, Adm-clerical, Wife, White, Female, 0, 0, 40, United-States, <=50K\n",
      "41, Federal-gov, 356934, Some-college, 10, Married-civ-spouse, Prof-specialty, Husband, White, Male, 0, 0, 44, United-States, >50K\n",
      "34, Federal-gov, 191342, Bachelors, 13, Married-civ-spouse, Adm-clerical, Husband, Asian-Pac-Islander, Male, 0, 0, 38, United-States, <=50K\n",
      "55, Federal-gov, 145401, Bachelors, 13, Married-civ-spouse, Exec-managerial, Husband, White, Male, 0, 0, 40, United-States, >50K\n",
      "59, Federal-gov, 195467, Masters, 14, Never-married, Exec-managerial, Not-in-family, White, Male, 0, 0, 40, United-States, <=50K\n",
      "47, Federal-gov, 160647, HS-grad, 9, Separated, Adm-clerical, Unmarried, White, Female, 0, 0, 40, United-States, <=50K\n",
      "40, Federal-gov, 26880, Some-college, 10, Never-married, Adm-clerical, Unmarried, White, Female, 0, 0, 40, United-States, <=50K\n",
      "48, Federal-gov, 215389, HS-grad, 9, Married-civ-spouse, Transport-moving, Husband, Black, Male, 0, 0, 40, United-States, >50K\n",
      "41, Federal-gov, 106982, Some-college, 10, Divorced, Prof-specialty, Unmarried, White, Female, 0, 0, 40, United-States, >50K\n",
      "47, Federal-gov, 380127, HS-grad, 9, Never-married, Exec-managerial, Not-in-family, White, Female, 0, 0, 40, United-States, <=50K\n",
      "45, Federal-gov, 81487, Some-college, 10, Married-civ-spouse, Adm-clerical, Husband, White, Male, 0, 0, 40, Puerto-Rico, >50K\n",
      "41, Federal-gov, 253770, Some-college, 10, Married-civ-spouse, Transport-moving, Wife, White, Female, 7298, 0, 40, United-States, >50K\n",
      "50, Federal-gov, 65160, Bachelors, 13, Married-civ-spouse, Exec-managerial, Husband, White, Male, 0, 0, 40, United-States, <=50K\n",
      "44, Federal-gov, 113597, Some-college, 10, Married-civ-spouse, Exec-managerial, Husband, White, Male, 0, 0, 55, United-States, >50K\n",
      "58, Federal-gov, 497253, Bachelors, 13, Married-civ-spouse, Exec-managerial, Husband, Black, Male, 0, 0, 40, United-States, >50K\n",
      "34, Federal-gov, 143766, Assoc-acdm, 12, Never-married, Adm-clerical, Not-in-family, White, Male, 0, 0, 40, United-States, <=50K\n",
      "37, Federal-gov, 32528, HS-grad, 9, Married-civ-spouse, Adm-clerical, Husband, White, Male, 0, 0, 40, England, >50K\n",
      "55, Federal-gov, 35723, Masters, 14, Married-civ-spouse, Exec-managerial, Husband, White, Male, 0, 0, 60, United-States, >50K\n",
      "49, Federal-gov, 118701, HS-grad, 9, Divorced, Adm-clerical, Unmarried, Black, Female, 0, 0, 40, United-States, <=50K\n",
      "47, Federal-gov, 27067, HS-grad, 9, Divorced, Adm-clerical, Not-in-family, White, Female, 0, 0, 40, United-States, <=50K\n",
      "43, Federal-gov, 114537, Bachelors, 13, Married-civ-spouse, Prof-specialty, Husband, White, Male, 0, 0, 40, United-States, <=50K\n",
      "43, Federal-gov, 263502, HS-grad, 9, Divorced, Adm-clerical, Not-in-family, White, Male, 0, 0, 40, United-States, <=50K\n",
      "38, Federal-gov, 47707, HS-grad, 9, Never-married, Adm-clerical, Own-child, Black, Female, 0, 0, 40, United-States, <=50K\n",
      "57, Federal-gov, 140711, Bachelors, 13, Married-civ-spouse, Prof-specialty, Husband, White, Male, 0, 0, 40, United-States, >50K\n",
      "23, Federal-gov, 216853, Assoc-voc, 11, Married-civ-spouse, Handlers-cleaners, Husband, White, Male, 0, 0, 25, United-States, <=50K\n",
      "30, Federal-gov, 73514, Bachelors, 13, Never-married, Exec-managerial, Other-relative, Asian-Pac-Islander, Female, 0, 0, 45, United-States, <=50K\n",
      "32, Federal-gov, 115066, HS-grad, 9, Married-civ-spouse, Tech-support, Husband, White, Male, 0, 0, 40, United-States, <=50K\n",
      "51, Federal-gov, 217647, Some-college, 10, Divorced, Prof-specialty, Not-in-family, Black, Female, 0, 0, 40, United-States, <=50K\n",
      "40, Federal-gov, 241895, HS-grad, 9, Married-civ-spouse, Adm-clerical, Husband, White, Male, 0, 0, 40, United-States, <=50K\n",
      "46, Federal-gov, 227310, Some-college, 10, Never-married, Adm-clerical, Unmarried, Black, Female, 0, 0, 40, United-States, <=50K\n",
      "30, Federal-gov, 164552, Bachelors, 13, Never-married, Prof-specialty, Not-in-family, White, Male, 0, 1876, 40, United-States, <=50K\n",
      "49, Federal-gov, 115784, Some-college, 10, Married-civ-spouse, Craft-repair, Husband, White, Male, 0, 0, 40, United-States, <=50K\n",
      "56, Federal-gov, 156842, Some-college, 10, Separated, Other-service, Not-in-family, Black, Male, 0, 0, 40, United-States, <=50K\n",
      "44, Federal-gov, 68729, Bachelors, 13, Married-civ-spouse, Exec-managerial, Husband, Asian-Pac-Islander, Male, 0, 0, 40, United-States, >50K\n",
      "34, Federal-gov, 199934, Some-college, 10, Married-civ-spouse, Adm-clerical, Husband, Black, Male, 0, 0, 40, United-States, >50K\n",
      "53, Federal-gov, 271544, HS-grad, 9, Married-civ-spouse, Adm-clerical, Husband, Black, Male, 0, 1977, 40, United-States, >50K\n",
      "47, Federal-gov, 192894, HS-grad, 9, Married-civ-spouse, Transport-moving, Husband, Black, Male, 0, 0, 50, United-States, >50K\n",
      "26, Federal-gov, 207537, HS-grad, 9, Never-married, Adm-clerical, Not-in-family, Black, Female, 0, 0, 40, United-States, <=50K\n",
      "32, Federal-gov, 145983, Some-college, 10, Married-civ-spouse, Tech-support, Wife, White, Female, 0, 0, 40, United-States, <=50K\n",
      "53, Federal-gov, 84278, Bachelors, 13, Married-civ-spouse, Exec-managerial, Husband, White, Male, 0, 0, 48, United-States, >50K\n",
      "36, Federal-gov, 47310, Some-college, 10, Divorced, Exec-managerial, Unmarried, Black, Female, 0, 0, 40, United-States, >50K\n",
      "56, Federal-gov, 61885, Bachelors, 13, Never-married, Transport-moving, Not-in-family, Black, Male, 0, 2001, 65, United-States, <=50K\n",
      "45, Federal-gov, 235891, Assoc-acdm, 12, Never-married, Adm-clerical, Not-in-family, White, Male, 0, 0, 40, Columbia, <=50K\n",
      "22, Federal-gov, 146538, HS-grad, 9, Never-married, Adm-clerical, Own-child, White, Male, 0, 0, 40, United-States, <=50K\n",
      "38, Federal-gov, 172571, Some-college, 10, Divorced, Adm-clerical, Not-in-family, White, Male, 0, 0, 40, United-States, >50K\n",
      "53, Federal-gov, 186087, HS-grad, 9, Divorced, Tech-support, Unmarried, White, Male, 0, 0, 40, United-States, <=50K\n",
      "32, Federal-gov, 97614, Some-college, 10, Never-married, Exec-managerial, Not-in-family, White, Male, 0, 0, 40, United-States, <=50K\n",
      "47, Federal-gov, 44257, Bachelors, 13, Married-spouse-absent, Exec-managerial, Not-in-family, White, Male, 0, 0, 60, United-States, >50K\n",
      "36, Federal-gov, 153066, Masters, 14, Married-civ-spouse, Prof-specialty, Husband, White, Male, 0, 0, 40, United-States, >50K\n",
      "46, Federal-gov, 332727, Some-college, 10, Married-civ-spouse, Craft-repair, Husband, White, Male, 0, 0, 40, United-States, >50K\n",
      "41, Federal-gov, 36651, Masters, 14, Married-civ-spouse, Exec-managerial, Husband, White, Male, 0, 1848, 40, United-States, >50K\n",
      "29, Federal-gov, 41013, Prof-school, 15, Never-married, Prof-specialty, Not-in-family, White, Female, 0, 0, 55, United-States, <=50K\n",
      "44, Federal-gov, 320071, HS-grad, 9, Married-civ-spouse, Craft-repair, Husband, White, Male, 0, 0, 40, United-States, >50K\n",
      "42, Federal-gov, 294431, Masters, 14, Married-civ-spouse, Prof-specialty, Husband, White, Male, 0, 0, 40, United-States, <=50K\n",
      "47, Federal-gov, 202560, Bachelors, 13, Married-civ-spouse, Exec-managerial, Wife, White, Female, 0, 0, 40, United-States, >50K\n",
      "39, Federal-gov, 206190, HS-grad, 9, Never-married, Exec-managerial, Unmarried, White, Female, 0, 0, 45, United-States, <=50K\n",
      "55, Federal-gov, 169133, Bachelors, 13, Divorced, Prof-specialty, Unmarried, White, Male, 0, 0, 40, United-States, <=50K\n",
      "47, Federal-gov, 98726, Bachelors, 13, Married-spouse-absent, Exec-managerial, Not-in-family, White, Female, 0, 0, 40, United-States, <=50K\n",
      "24, Federal-gov, 42251, Bachelors, 13, Never-married, Prof-specialty, Not-in-family, White, Female, 0, 0, 30, United-States, <=50K\n",
      "23, Federal-gov, 41031, Some-college, 10, Never-married, Sales, Not-in-family, White, Female, 0, 0, 35, United-States, <=50K\n",
      "47, Federal-gov, 323798, Bachelors, 13, Married-civ-spouse, Exec-managerial, Husband, White, Male, 0, 0, 40, United-States, >50K\n",
      "41, Federal-gov, 153132, Bachelors, 13, Married-civ-spouse, Prof-specialty, Husband, White, Male, 0, 0, 38, United-States, >50K\n",
      "19, Federal-gov, 215891, Some-college, 10, Never-married, Adm-clerical, Own-child, White, Female, 0, 0, 10, United-States, <=50K\n",
      "44, Federal-gov, 191295, Bachelors, 13, Married-civ-spouse, Exec-managerial, Husband, Black, Male, 0, 0, 48, United-States, <=50K\n",
      "44, Federal-gov, 469454, Assoc-voc, 11, Married-civ-spouse, Protective-serv, Husband, White, Male, 7298, 0, 48, United-States, >50K\n",
      "35, Federal-gov, 23892, HS-grad, 9, Divorced, Prof-specialty, Unmarried, White, Female, 0, 0, 40, United-States, <=50K\n",
      "27, Federal-gov, 214385, HS-grad, 9, Never-married, Adm-clerical, Not-in-family, Black, Female, 0, 0, 40, United-States, <=50K\n",
      "37, Federal-gov, 329088, HS-grad, 9, Married-civ-spouse, Adm-clerical, Husband, Black, Male, 0, 0, 40, United-States, <=50K\n",
      "43, Federal-gov, 233851, HS-grad, 9, Married-civ-spouse, Adm-clerical, Wife, White, Female, 0, 0, 40, United-States, >50K\n",
      "45, Federal-gov, 102569, HS-grad, 9, Married-civ-spouse, Craft-repair, Husband, White, Male, 0, 0, 40, United-States, >50K\n",
      "52, Federal-gov, 37289, Masters, 14, Never-married, Adm-clerical, Not-in-family, White, Female, 0, 0, 40, United-States, >50K\n",
      "23, Federal-gov, 53245, Bachelors, 13, Never-married, Prof-specialty, Not-in-family, White, Male, 0, 0, 40, United-States, <=50K\n",
      "33, Federal-gov, 29617, Some-college, 10, Divorced, Other-service, Not-in-family, Black, Male, 0, 0, 40, United-States, <=50K\n",
      "30, Federal-gov, 43953, Assoc-acdm, 12, Never-married, Prof-specialty, Not-in-family, White, Female, 0, 0, 40, United-States, <=50K\n",
      "38, Federal-gov, 190174, HS-grad, 9, Divorced, Prof-specialty, Unmarried, White, Female, 0, 0, 40, United-States, <=50K\n",
      "40, Federal-gov, 544792, Some-college, 10, Married-civ-spouse, Farming-fishing, Husband, White, Male, 0, 0, 40, United-States, <=50K\n",
      "42, Federal-gov, 33521, Bachelors, 13, Married-civ-spouse, Prof-specialty, Husband, White, Male, 0, 0, 40, United-States, <=50K\n",
      "30, Federal-gov, 266463, HS-grad, 9, Married-civ-spouse, Adm-clerical, Husband, White, Male, 0, 0, 40, United-States, >50K\n",
      "56, Federal-gov, 107314, Some-college, 10, Divorced, Adm-clerical, Not-in-family, Black, Female, 0, 0, 40, United-States, <=50K\n",
      "32, Federal-gov, 83413, Bachelors, 13, Married-civ-spouse, Adm-clerical, Husband, White, Male, 0, 0, 35, United-States, >50K\n",
      "57, Federal-gov, 192258, Some-college, 10, Divorced, Adm-clerical, Own-child, White, Male, 0, 0, 40, United-States, <=50K\n",
      "61, Federal-gov, 197311, Masters, 14, Widowed, Prof-specialty, Unmarried, White, Female, 0, 0, 40, United-States, <=50K\n",
      "42, Federal-gov, 214838, HS-grad, 9, Married-civ-spouse, Tech-support, Husband, White, Male, 0, 0, 30, United-States, >50K\n",
      "54, Federal-gov, 114674, Some-college, 10, Married-civ-spouse, Exec-managerial, Husband, White, Male, 0, 0, 40, United-States, >50K\n",
      "45, Federal-gov, 358242, Bachelors, 13, Married-civ-spouse, Prof-specialty, Husband, White, Male, 0, 0, 45, United-States, >50K\n",
      "40, Federal-gov, 406463, Masters, 14, Never-married, Tech-support, Not-in-family, White, Female, 0, 0, 40, United-States, <=50K\n",
      "43, Federal-gov, 195897, HS-grad, 9, Married-civ-spouse, Farming-fishing, Husband, White, Male, 7298, 0, 40, United-States, >50K\n",
      "45, Federal-gov, 368947, Bachelors, 13, Never-married, Protective-serv, Not-in-family, Black, Female, 0, 0, 40, United-States, <=50K\n",
      "45, Federal-gov, 222011, Bachelors, 13, Married-civ-spouse, Handlers-cleaners, Husband, White, Male, 0, 0, 40, United-States, <=50K\n",
      "46, Federal-gov, 97863, Assoc-voc, 11, Married-civ-spouse, Adm-clerical, Husband, White, Male, 5178, 0, 40, United-States, >50K\n",
      "53, Federal-gov, 221791, HS-grad, 9, Divorced, Craft-repair, Not-in-family, Black, Male, 0, 0, 40, United-States, <=50K\n",
      "47, Federal-gov, 168109, HS-grad, 9, Married-civ-spouse, Adm-clerical, Husband, White, Male, 0, 0, 70, United-States, <=50K\n",
      "31, Federal-gov, 281540, Assoc-acdm, 12, Married-civ-spouse, Tech-support, Husband, White, Male, 0, 0, 45, United-States, <=50K\n",
      "40, Federal-gov, 346532, Some-college, 10, Married-civ-spouse, Adm-clerical, Husband, Black, Male, 0, 0, 40, United-States, >50K\n",
      "36, Federal-gov, 54159, Bachelors, 13, Married-civ-spouse, Exec-managerial, Husband, White, Male, 0, 0, 45, United-States, <=50K\n",
      "55, Federal-gov, 31965, Some-college, 10, Married-civ-spouse, Adm-clerical, Husband, White, Male, 0, 0, 40, United-States, <=50K\n",
      "36, Federal-gov, 210945, Some-college, 10, Married-civ-spouse, Adm-clerical, Husband, White, Male, 0, 0, 70, United-States, <=50K\n",
      "31, Federal-gov, 203488, Assoc-acdm, 12, Never-married, Adm-clerical, Not-in-family, White, Male, 0, 0, 40, United-States, <=50K\n",
      "43, Federal-gov, 197069, Bachelors, 13, Married-civ-spouse, Prof-specialty, Husband, White, Male, 0, 0, 40, Philippines, >50K\n",
      "61, Federal-gov, 151369, Prof-school, 15, Married-civ-spouse, Prof-specialty, Husband, White, Male, 0, 0, 50, United-States, >50K\n",
      "33, Federal-gov, 331615, Doctorate, 16, Married-civ-spouse, Prof-specialty, Husband, White, Male, 0, 1848, 40, United-States, >50K\n",
      "40, Federal-gov, 189610, HS-grad, 9, Divorced, Adm-clerical, Not-in-family, Black, Female, 0, 0, 52, United-States, <=50K\n",
      "46, Federal-gov, 20956, Bachelors, 13, Married-civ-spouse, Exec-managerial, Husband, White, Male, 15024, 0, 40, United-States, >50K\n",
      "47, Federal-gov, 96854, Bachelors, 13, Married-civ-spouse, Prof-specialty, Husband, White, Male, 0, 0, 40, United-States, >50K\n",
      "51, Federal-gov, 20795, HS-grad, 9, Married-civ-spouse, Transport-moving, Husband, White, Male, 7688, 0, 40, United-States, >50K\n",
      "52, Federal-gov, 38973, Bachelors, 13, Separated, Adm-clerical, Unmarried, Black, Female, 0, 0, 40, United-States, <=50K\n",
      "33, Federal-gov, 137184, Assoc-acdm, 12, Divorced, Exec-managerial, Unmarried, White, Male, 0, 0, 50, United-States, >50K\n",
      "68, Federal-gov, 422013, HS-grad, 9, Divorced, Prof-specialty, Not-in-family, White, Female, 0, 3683, 40, United-States, <=50K\n",
      "50, Federal-gov, 306707, HS-grad, 9, Never-married, Adm-clerical, Unmarried, Black, Female, 0, 0, 12, United-States, <=50K\n",
      "46, Federal-gov, 268281, Assoc-acdm, 12, Divorced, Adm-clerical, Unmarried, White, Female, 0, 0, 40, United-States, <=50K\n",
      "57, Federal-gov, 170066, Assoc-voc, 11, Never-married, Tech-support, Not-in-family, White, Male, 0, 0, 40, United-States, <=50K\n",
      "31, Federal-gov, 126501, Assoc-voc, 11, Never-married, Prof-specialty, Own-child, White, Male, 0, 0, 40, United-States, <=50K\n",
      "51, Federal-gov, 140516, Masters, 14, Married-civ-spouse, Prof-specialty, Husband, White, Male, 0, 0, 40, United-States, >50K\n",
      "48, Federal-gov, 100067, Some-college, 10, Widowed, Other-service, Unmarried, Black, Female, 0, 0, 40, United-States, <=50K\n",
      "31, Federal-gov, 101345, HS-grad, 9, Never-married, Handlers-cleaners, Own-child, White, Female, 0, 0, 40, United-States, <=50K\n",
      "44, Federal-gov, 184099, HS-grad, 9, Married-civ-spouse, Adm-clerical, Husband, White, Male, 0, 0, 40, United-States, >50K\n",
      "57, Federal-gov, 42298, Masters, 14, Married-civ-spouse, Exec-managerial, Husband, Black, Male, 15024, 0, 40, United-States, >50K\n",
      "31, Federal-gov, 166626, HS-grad, 9, Married-civ-spouse, Adm-clerical, Husband, White, Male, 0, 0, 40, United-States, >50K\n",
      "40, Federal-gov, 36885, Some-college, 10, Never-married, Adm-clerical, Not-in-family, White, Female, 0, 0, 50, United-States, <=50K\n",
      "29, Federal-gov, 119848, Bachelors, 13, Never-married, Prof-specialty, Not-in-family, White, Female, 0, 0, 40, United-States, <=50K\n",
      "49, Federal-gov, 229376, HS-grad, 9, Married-civ-spouse, Adm-clerical, Husband, White, Male, 0, 0, 40, United-States, >50K\n",
      "22, Federal-gov, 262819, Some-college, 10, Never-married, Adm-clerical, Not-in-family, White, Female, 0, 0, 40, United-States, <=50K\n",
      "72, Federal-gov, 217864, HS-grad, 9, Married-civ-spouse, Adm-clerical, Husband, White, Male, 0, 0, 40, United-States, >50K\n",
      "30, Federal-gov, 54684, Prof-school, 15, Never-married, Exec-managerial, Not-in-family, White, Male, 0, 0, 55, ?, <=50K\n",
      "37, Federal-gov, 143547, Bachelors, 13, Never-married, Prof-specialty, Not-in-family, White, Female, 0, 0, 40, United-States, <=50K\n",
      "51, Federal-gov, 254211, Masters, 14, Widowed, Sales, Unmarried, White, Male, 0, 0, 50, El-Salvador, >50K\n",
      "41, Federal-gov, 187462, Assoc-voc, 11, Divorced, Adm-clerical, Own-child, Black, Female, 0, 0, 40, United-States, <=50K\n",
      "42, Federal-gov, 70240, Some-college, 10, Divorced, Exec-managerial, Unmarried, Asian-Pac-Islander, Female, 0, 0, 40, United-States, <=50K\n",
      "40, Federal-gov, 219266, HS-grad, 9, Married-civ-spouse, Exec-managerial, Husband, White, Male, 0, 0, 40, United-States, >50K\n",
      "58, Federal-gov, 200042, Some-college, 10, Married-civ-spouse, Exec-managerial, Husband, White, Male, 15024, 0, 40, United-States, >50K\n",
      "40, Federal-gov, 75313, Bachelors, 13, Married-civ-spouse, Prof-specialty, Husband, White, Male, 7688, 0, 66, United-States, >50K\n",
      "51, Federal-gov, 314007, HS-grad, 9, Divorced, Exec-managerial, Not-in-family, White, Female, 0, 0, 40, United-States, <=50K\n",
      "54, Federal-gov, 332243, 12th, 8, Married-civ-spouse, Adm-clerical, Husband, White, Male, 0, 0, 40, United-States, <=50K\n",
      "35, Federal-gov, 110188, Bachelors, 13, Married-civ-spouse, Prof-specialty, Husband, Asian-Pac-Islander, Male, 0, 0, 40, Vietnam, <=50K\n",
      "29, Federal-gov, 184723, Some-college, 10, Never-married, Other-service, Not-in-family, White, Female, 0, 0, 40, United-States, >50K\n",
      "55, Federal-gov, 321333, Some-college, 10, Married-civ-spouse, Adm-clerical, Husband, White, Male, 0, 0, 40, United-States, >50K\n",
      "55, Federal-gov, 305850, Prof-school, 15, Married-civ-spouse, Exec-managerial, Husband, White, Male, 15024, 0, 40, United-States, >50K\n",
      "36, Federal-gov, 112847, Bachelors, 13, Married-civ-spouse, Prof-specialty, Husband, Asian-Pac-Islander, Male, 0, 0, 40, United-States, <=50K\n",
      "58, Federal-gov, 319733, HS-grad, 9, Married-civ-spouse, Transport-moving, Husband, White, Male, 0, 0, 70, United-States, <=50K\n",
      "72, Federal-gov, 94242, Some-college, 10, Widowed, Tech-support, Not-in-family, White, Female, 0, 0, 16, United-States, <=50K\n",
      "32, Federal-gov, 131534, HS-grad, 9, Never-married, Exec-managerial, Not-in-family, Black, Female, 0, 0, 40, United-States, <=50K\n",
      "40, Federal-gov, 196456, Some-college, 10, Never-married, Adm-clerical, Own-child, White, Female, 0, 0, 40, United-States, <=50K\n",
      "60, Federal-gov, 129379, Some-college, 10, Married-civ-spouse, Tech-support, Husband, White, Male, 0, 0, 40, United-States, <=50K\n",
      "51, Federal-gov, 174102, HS-grad, 9, Married-civ-spouse, Adm-clerical, Husband, White, Male, 0, 0, 40, United-States, >50K\n",
      "29, Federal-gov, 37933, Some-college, 10, Never-married, Adm-clerical, Unmarried, Black, Female, 2174, 0, 40, United-States, <=50K\n",
      "57, Federal-gov, 170603, Some-college, 10, Married-civ-spouse, Adm-clerical, Husband, White, Male, 0, 0, 40, United-States, >50K\n",
      "35, Federal-gov, 84848, Some-college, 10, Never-married, Handlers-cleaners, Unmarried, White, Female, 0, 0, 40, United-States, <=50K\n",
      "43, Federal-gov, 95902, Assoc-acdm, 12, Married-civ-spouse, Prof-specialty, Wife, Black, Female, 0, 0, 40, United-States, <=50K\n",
      "45, Federal-gov, 201127, Some-college, 10, Married-civ-spouse, Prof-specialty, Husband, White, Male, 0, 0, 56, United-States, >50K\n",
      "54, Federal-gov, 35576, Some-college, 10, Married-civ-spouse, Craft-repair, Husband, White, Male, 0, 0, 40, United-States, <=50K\n",
      "45, Federal-gov, 183804, Some-college, 10, Never-married, Adm-clerical, Own-child, White, Male, 0, 0, 40, United-States, <=50K\n",
      "31, Federal-gov, 113688, HS-grad, 9, Never-married, Machine-op-inspct, Unmarried, White, Female, 0, 0, 40, United-States, <=50K\n",
      "45, Federal-gov, 359808, Assoc-acdm, 12, Never-married, Exec-managerial, Not-in-family, White, Male, 0, 0, 40, United-States, <=50K\n",
      "52, Federal-gov, 123011, HS-grad, 9, Divorced, Adm-clerical, Not-in-family, White, Male, 0, 0, 45, United-States, <=50K\n",
      "48, Federal-gov, 497486, HS-grad, 9, Married-spouse-absent, Adm-clerical, Unmarried, White, Female, 1471, 0, 40, United-States, <=50K\n",
      "55, Federal-gov, 146477, Some-college, 10, Married-civ-spouse, Craft-repair, Husband, White, Male, 0, 0, 45, United-States, <=50K\n",
      "53, Federal-gov, 177647, HS-grad, 9, Married-civ-spouse, Tech-support, Husband, White, Male, 0, 0, 40, France, >50K\n",
      "29, Federal-gov, 244473, Bachelors, 13, Married-civ-spouse, Exec-managerial, Husband, White, Male, 7688, 0, 40, United-States, >50K\n",
      "36, Federal-gov, 203836, Some-college, 10, Married-civ-spouse, Handlers-cleaners, Husband, White, Male, 0, 0, 50, United-States, <=50K\n",
      "52, Federal-gov, 207841, Some-college, 10, Married-civ-spouse, Adm-clerical, Husband, White, Male, 0, 0, 40, United-States, <=50K\n",
      "69, Federal-gov, 143849, 11th, 7, Widowed, Adm-clerical, Not-in-family, White, Female, 0, 0, 20, United-States, <=50K\n",
      "51, Federal-gov, 124076, Bachelors, 13, Widowed, Adm-clerical, Not-in-family, White, Female, 0, 0, 40, United-States, <=50K\n",
      "56, Federal-gov, 277420, Bachelors, 13, Married-civ-spouse, Exec-managerial, Husband, White, Male, 0, 0, 40, Puerto-Rico, >50K\n",
      "54, Federal-gov, 27432, HS-grad, 9, Married-civ-spouse, Adm-clerical, Husband, White, Male, 0, 0, 40, United-States, >50K\n",
      "46, Federal-gov, 199925, Bachelors, 13, Divorced, Prof-specialty, Not-in-family, White, Male, 0, 0, 40, United-States, <=50K\n",
      "58, Federal-gov, 243929, Bachelors, 13, Never-married, Prof-specialty, Not-in-family, White, Male, 0, 0, 48, United-States, <=50K\n",
      "30, Federal-gov, 319280, Some-college, 10, Never-married, Craft-repair, Not-in-family, White, Male, 0, 0, 40, United-States, <=50K\n",
      "45, Federal-gov, 76008, Bachelors, 13, Married-civ-spouse, Exec-managerial, Husband, White, Male, 0, 0, 50, United-States, >50K\n",
      "40, Federal-gov, 73883, Some-college, 10, Married-civ-spouse, Tech-support, Husband, White, Male, 0, 0, 40, United-States, >50K\n",
      "52, Federal-gov, 125796, HS-grad, 9, Never-married, Adm-clerical, Not-in-family, Black, Male, 0, 0, 40, United-States, <=50K\n",
      "46, Federal-gov, 344415, Masters, 14, Married-civ-spouse, Armed-Forces, Husband, White, Male, 0, 1887, 40, United-States, >50K\n",
      "53, Federal-gov, 227836, Some-college, 10, Divorced, Farming-fishing, Not-in-family, White, Male, 0, 0, 40, United-States, <=50K\n",
      "52, Federal-gov, 192065, Some-college, 10, Separated, Exec-managerial, Not-in-family, White, Female, 0, 0, 40, United-States, <=50K\n",
      "50, Federal-gov, 184007, Some-college, 10, Married-civ-spouse, Adm-clerical, Husband, White, Male, 0, 0, 40, United-States, <=50K\n",
      "55, Federal-gov, 186791, HS-grad, 9, Divorced, Adm-clerical, Not-in-family, White, Female, 0, 0, 40, United-States, <=50K\n",
      "44, Federal-gov, 251305, Assoc-acdm, 12, Married-civ-spouse, Adm-clerical, Husband, White, Male, 0, 0, 40, United-States, >50K\n",
      "64, Federal-gov, 175534, Doctorate, 16, Married-civ-spouse, Prof-specialty, Husband, Asian-Pac-Islander, Male, 0, 0, 40, China, >50K\n",
      "57, Federal-gov, 313929, Some-college, 10, Married-civ-spouse, Prof-specialty, Husband, Amer-Indian-Eskimo, Male, 0, 0, 40, United-States, <=50K\n",
      "29, Federal-gov, 182344, HS-grad, 9, Married-spouse-absent, Other-service, Unmarried, Black, Male, 0, 0, 40, United-States, <=50K\n",
      "44, Federal-gov, 29591, Bachelors, 13, Divorced, Tech-support, Not-in-family, White, Male, 0, 2258, 40, United-States, >50K\n",
      "42, Federal-gov, 53727, HS-grad, 9, Married-civ-spouse, Transport-moving, Husband, White, Male, 0, 0, 40, ?, <=50K\n",
      "50, Federal-gov, 32801, Bachelors, 13, Married-civ-spouse, Exec-managerial, Wife, Amer-Indian-Eskimo, Female, 0, 0, 40, United-States, >50K\n",
      "43, Federal-gov, 134026, Some-college, 10, Never-married, Adm-clerical, Other-relative, White, Male, 2174, 0, 40, United-States, <=50K\n",
      "23, Federal-gov, 344394, Some-college, 10, Married-civ-spouse, Adm-clerical, Other-relative, White, Female, 0, 0, 40, United-States, <=50K\n",
      "59, Federal-gov, 178660, Assoc-acdm, 12, Married-civ-spouse, Adm-clerical, Husband, White, Male, 0, 0, 40, United-States, <=50K\n",
      "29, Federal-gov, 107411, Some-college, 10, Married-spouse-absent, Adm-clerical, Own-child, White, Female, 0, 0, 40, United-States, <=50K\n",
      "64, Federal-gov, 388594, Prof-school, 15, Married-civ-spouse, Prof-specialty, Husband, White, Male, 15024, 0, 45, ?, >50K\n",
      "61, Federal-gov, 229062, Some-college, 10, Married-civ-spouse, Adm-clerical, Husband, White, Male, 0, 1887, 40, United-States, >50K\n",
      "37, Federal-gov, 214542, Some-college, 10, Divorced, Adm-clerical, Unmarried, Black, Female, 0, 0, 40, United-States, <=50K\n",
      "42, Federal-gov, 272625, Assoc-voc, 11, Divorced, Adm-clerical, Unmarried, Black, Female, 0, 0, 40, United-States, >50K\n",
      "53, Federal-gov, 290290, Some-college, 10, Divorced, Adm-clerical, Not-in-family, White, Male, 0, 0, 45, United-States, <=50K\n",
      "35, Federal-gov, 49657, Bachelors, 13, Married-civ-spouse, Prof-specialty, Husband, White, Male, 7298, 0, 40, United-States, >50K\n",
      "31, Federal-gov, 294870, Assoc-acdm, 12, Married-civ-spouse, Craft-repair, Husband, White, Male, 0, 0, 40, United-States, <=50K\n",
      "18, Federal-gov, 201686, 11th, 7, Never-married, Machine-op-inspct, Own-child, White, Male, 0, 0, 4, United-States, <=50K\n",
      "65, Federal-gov, 179985, HS-grad, 9, Divorced, Adm-clerical, Not-in-family, White, Female, 0, 0, 40, United-States, <=50K\n",
      "27, Federal-gov, 257124, Bachelors, 13, Never-married, Transport-moving, Other-relative, White, Male, 0, 0, 35, United-States, <=50K\n",
      "33, Federal-gov, 188246, HS-grad, 9, Married-civ-spouse, Craft-repair, Husband, White, Male, 0, 0, 40, United-States, <=50K\n",
      "64, Federal-gov, 341695, Some-college, 10, Married-civ-spouse, Adm-clerical, Wife, White, Female, 0, 0, 40, United-States, >50K\n",
      "37, Federal-gov, 197284, Some-college, 10, Never-married, Adm-clerical, Own-child, White, Male, 0, 0, 40, United-States, <=50K\n",
      "17, Federal-gov, 99893, 11th, 7, Never-married, Adm-clerical, Not-in-family, Black, Female, 0, 1602, 40, United-States, <=50K\n",
      "28, Federal-gov, 298661, Bachelors, 13, Never-married, Tech-support, Not-in-family, Black, Female, 0, 0, 40, United-States, <=50K\n",
      "67, Federal-gov, 223257, HS-grad, 9, Widowed, Other-service, Unmarried, White, Male, 0, 0, 40, United-States, <=50K\n",
      "41, Federal-gov, 207685, Bachelors, 13, Never-married, Exec-managerial, Not-in-family, White, Male, 0, 0, 40, United-States, >50K\n",
      "29, Federal-gov, 360527, Masters, 14, Married-civ-spouse, Prof-specialty, Husband, White, Male, 0, 0, 40, United-States, >50K\n",
      "21, Federal-gov, 99199, HS-grad, 9, Never-married, Adm-clerical, Own-child, White, Male, 0, 0, 36, United-States, <=50K\n",
      "35, Federal-gov, 475324, Bachelors, 13, Married-civ-spouse, Exec-managerial, Husband, White, Male, 0, 0, 40, United-States, >50K\n",
      "57, Federal-gov, 30030, HS-grad, 9, Married-civ-spouse, Craft-repair, Husband, Black, Male, 0, 0, 40, United-States, >50K\n",
      "35, Federal-gov, 182898, HS-grad, 9, Married-civ-spouse, Adm-clerical, Husband, White, Male, 0, 0, 40, United-States, <=50K\n",
      "55, Federal-gov, 174533, Bachelors, 13, Separated, Other-service, Unmarried, White, Female, 0, 0, 72, ?, <=50K\n",
      "26, Federal-gov, 171928, Assoc-voc, 11, Never-married, Craft-repair, Own-child, White, Male, 0, 0, 50, Japan, <=50K\n",
      "45, Federal-gov, 179638, Masters, 14, Divorced, Exec-managerial, Not-in-family, White, Male, 0, 0, 40, United-States, >50K\n",
      "58, Federal-gov, 139290, Bachelors, 13, Married-civ-spouse, Adm-clerical, Husband, White, Male, 0, 0, 40, United-States, >50K\n",
      "60, Federal-gov, 67320, HS-grad, 9, Never-married, Adm-clerical, Not-in-family, Black, Female, 0, 0, 40, United-States, <=50K\n",
      "28, Federal-gov, 53147, Bachelors, 13, Never-married, Exec-managerial, Not-in-family, Black, Male, 0, 0, 40, United-States, <=50K\n",
      "56, Federal-gov, 156229, Bachelors, 13, Married-civ-spouse, Exec-managerial, Husband, White, Male, 7688, 0, 40, United-States, >50K\n",
      "76, Federal-gov, 25319, Masters, 14, Widowed, Prof-specialty, Not-in-family, White, Female, 0, 0, 15, United-States, <=50K\n",
      "46, Federal-gov, 330901, Some-college, 10, Married-civ-spouse, Exec-managerial, Husband, Black, Male, 0, 0, 40, United-States, <=50K\n",
      "56, Federal-gov, 141877, Bachelors, 13, Married-civ-spouse, Adm-clerical, Husband, White, Male, 0, 0, 40, United-States, >50K\n",
      "50, Federal-gov, 222020, HS-grad, 9, Married-civ-spouse, Adm-clerical, Husband, White, Male, 0, 0, 48, United-States, <=50K\n",
      "38, Federal-gov, 201617, HS-grad, 9, Never-married, Adm-clerical, Unmarried, White, Female, 0, 0, 40, United-States, <=50K\n",
      "60, Federal-gov, 27466, Some-college, 10, Widowed, Exec-managerial, Not-in-family, White, Female, 0, 0, 40, England, <=50K\n",
      "49, Federal-gov, 179869, HS-grad, 9, Married-civ-spouse, Craft-repair, Husband, White, Male, 0, 0, 40, United-States, >50K\n",
      "27, Federal-gov, 38645, Bachelors, 13, Never-married, Exec-managerial, Not-in-family, White, Female, 0, 0, 40, United-States, <=50K\n",
      "57, Federal-gov, 414994, Some-college, 10, Married-civ-spouse, Exec-managerial, Husband, White, Male, 0, 0, 40, United-States, >50K\n",
      "52, Federal-gov, 168539, HS-grad, 9, Married-civ-spouse, Machine-op-inspct, Husband, White, Male, 0, 0, 40, United-States, >50K\n",
      "56, Federal-gov, 67153, Masters, 14, Married-civ-spouse, Exec-managerial, Husband, White, Male, 0, 0, 40, Portugal, >50K\n",
      "65, Federal-gov, 23494, Some-college, 10, Married-civ-spouse, Exec-managerial, Husband, Black, Male, 0, 2174, 40, United-States, >50K\n",
      "53, Federal-gov, 167380, HS-grad, 9, Married-civ-spouse, Transport-moving, Husband, White, Male, 0, 1740, 50, United-States, <=50K\n",
      "59, Federal-gov, 100931, HS-grad, 9, Married-civ-spouse, Adm-clerical, Husband, White, Male, 0, 0, 40, United-States, >50K\n",
      "45, Federal-gov, 380127, Bachelors, 13, Never-married, Exec-managerial, Not-in-family, White, Female, 0, 0, 40, United-States, <=50K\n",
      "46, Federal-gov, 308077, Prof-school, 15, Separated, Prof-specialty, Unmarried, White, Female, 0, 0, 40, Germany, >50K\n",
      "38, Federal-gov, 261241, Some-college, 10, Married-civ-spouse, Adm-clerical, Husband, White, Male, 0, 0, 45, United-States, >50K\n",
      "39, Federal-gov, 243872, Assoc-acdm, 12, Never-married, Prof-specialty, Not-in-family, White, Male, 0, 0, 40, United-States, >50K\n",
      "55, Federal-gov, 238192, HS-grad, 9, Married-civ-spouse, Tech-support, Husband, White, Male, 0, 1887, 40, United-States, >50K\n",
      "47, Federal-gov, 204900, HS-grad, 9, Married-civ-spouse, Prof-specialty, Wife, Black, Female, 0, 0, 40, United-States, <=50K\n",
      "29, Federal-gov, 33315, Assoc-acdm, 12, Divorced, Adm-clerical, Not-in-family, White, Female, 0, 0, 40, United-States, <=50K\n",
      "79, Federal-gov, 62176, Doctorate, 16, Widowed, Exec-managerial, Not-in-family, White, Male, 0, 0, 6, United-States, >50K\n",
      "34, Federal-gov, 190228, Bachelors, 13, Married-civ-spouse, Protective-serv, Husband, White, Male, 0, 1902, 48, United-States, >50K\n",
      "28, Federal-gov, 183445, HS-grad, 9, Never-married, Exec-managerial, Unmarried, White, Female, 0, 0, 70, Puerto-Rico, <=50K\n",
      "20, Federal-gov, 191878, Some-college, 10, Never-married, Adm-clerical, Own-child, Black, Female, 0, 0, 20, United-States, <=50K\n",
      "34, Federal-gov, 284703, Some-college, 10, Married-civ-spouse, Machine-op-inspct, Husband, Black, Male, 0, 0, 52, United-States, <=50K\n",
      "44, Federal-gov, 192771, HS-grad, 9, Never-married, Adm-clerical, Unmarried, White, Female, 0, 0, 40, United-States, <=50K\n",
      "54, Federal-gov, 128378, Bachelors, 13, Divorced, Exec-managerial, Not-in-family, White, Male, 0, 0, 40, United-States, <=50K\n",
      "53, Federal-gov, 181677, Some-college, 10, Divorced, Handlers-cleaners, Not-in-family, White, Male, 0, 0, 40, United-States, <=50K\n",
      "32, Federal-gov, 402361, HS-grad, 9, Never-married, Adm-clerical, Not-in-family, White, Male, 0, 0, 40, United-States, <=50K\n",
      "39, Federal-gov, 30673, 9th, 5, Married-civ-spouse, Machine-op-inspct, Husband, White, Male, 0, 0, 40, United-States, >50K\n",
      "31, Federal-gov, 484669, Some-college, 10, Never-married, Tech-support, Not-in-family, White, Male, 0, 0, 40, United-States, <=50K\n",
      "47, Federal-gov, 160646, Assoc-voc, 11, Married-civ-spouse, Adm-clerical, Wife, White, Female, 0, 0, 35, United-States, <=50K\n",
      "61, Federal-gov, 221943, Some-college, 10, Married-civ-spouse, Adm-clerical, Husband, White, Male, 9386, 0, 40, United-States, >50K\n",
      "90, Federal-gov, 195433, HS-grad, 9, Married-civ-spouse, Craft-repair, Husband, White, Male, 0, 0, 30, United-States, <=50K\n",
      "29, Federal-gov, 440647, Some-college, 10, Never-married, Adm-clerical, Other-relative, White, Male, 0, 0, 40, United-States, <=50K\n",
      "39, Federal-gov, 376455, Prof-school, 15, Married-civ-spouse, Prof-specialty, Husband, White, Male, 0, 1887, 50, United-States, >50K\n",
      "38, Federal-gov, 506830, Some-college, 10, Divorced, Tech-support, Unmarried, Black, Female, 0, 0, 40, United-States, <=50K\n",
      "43, Federal-gov, 222756, Masters, 14, Married-civ-spouse, Craft-repair, Husband, White, Male, 0, 0, 40, United-States, <=50K\n",
      "55, Federal-gov, 176904, HS-grad, 9, Married-civ-spouse, Exec-managerial, Husband, White, Male, 0, 0, 40, United-States, <=50K\n",
      "46, Federal-gov, 199725, Assoc-voc, 11, Divorced, Craft-repair, Not-in-family, Amer-Indian-Eskimo, Female, 0, 0, 60, United-States, <=50K\n",
      "42, Federal-gov, 172307, HS-grad, 9, Married-civ-spouse, Adm-clerical, Husband, White, Male, 0, 0, 48, United-States, >50K\n",
      "59, Federal-gov, 48102, Masters, 14, Never-married, Prof-specialty, Not-in-family, White, Female, 0, 0, 40, ?, >50K\n",
      "20, Federal-gov, 410446, HS-grad, 9, Never-married, Adm-clerical, Other-relative, White, Male, 0, 0, 20, United-States, <=50K\n",
      "47, Federal-gov, 197332, Bachelors, 13, Divorced, Prof-specialty, Not-in-family, White, Male, 0, 0, 40, United-States, <=50K\n",
      "51, Federal-gov, 198186, Bachelors, 13, Widowed, Prof-specialty, Not-in-family, Black, Female, 0, 0, 40, United-States, <=50K\n",
      "39, Federal-gov, 184964, Some-college, 10, Divorced, Adm-clerical, Not-in-family, White, Male, 0, 0, 40, United-States, >50K\n",
      "40, Federal-gov, 178866, HS-grad, 9, Married-civ-spouse, Adm-clerical, Wife, White, Female, 0, 0, 20, United-States, >50K\n",
      "46, Federal-gov, 44706, Bachelors, 13, Divorced, Prof-specialty, Unmarried, White, Female, 0, 0, 50, United-States, >50K\n",
      "46, Federal-gov, 33794, Bachelors, 13, Married-civ-spouse, Tech-support, Husband, White, Male, 3103, 0, 40, United-States, >50K\n",
      "50, Federal-gov, 343014, Some-college, 10, Married-civ-spouse, Exec-managerial, Husband, Black, Male, 0, 0, 40, United-States, <=50K\n",
      "37, Federal-gov, 141029, Masters, 14, Divorced, Prof-specialty, Not-in-family, White, Female, 0, 0, 40, United-States, <=50K\n",
      "51, Federal-gov, 100653, HS-grad, 9, Divorced, Adm-clerical, Not-in-family, White, Female, 0, 0, 8, United-States, <=50K\n",
      "39, Federal-gov, 116608, HS-grad, 9, Divorced, Adm-clerical, Unmarried, White, Female, 0, 0, 40, United-States, <=50K\n",
      "21, Federal-gov, 181096, Some-college, 10, Never-married, Tech-support, Own-child, Black, Male, 0, 0, 20, United-States, <=50K\n",
      "18, Federal-gov, 101709, 11th, 7, Never-married, Other-service, Own-child, Asian-Pac-Islander, Male, 0, 0, 15, Philippines, <=50K\n",
      "18, Federal-gov, 280728, Some-college, 10, Never-married, Sales, Own-child, White, Female, 0, 0, 32, United-States, <=50K\n",
      "33, Federal-gov, 78307, Bachelors, 13, Married-civ-spouse, Prof-specialty, Husband, White, Male, 0, 0, 40, United-States, <=50K\n",
      "49, Federal-gov, 233059, Assoc-voc, 11, Married-civ-spouse, Craft-repair, Husband, White, Male, 0, 0, 40, United-States, <=50K\n",
      "33, Federal-gov, 94193, HS-grad, 9, Divorced, Adm-clerical, Unmarried, White, Female, 0, 0, 40, United-States, <=50K\n",
      "41, Federal-gov, 510072, Bachelors, 13, Married-civ-spouse, Exec-managerial, Husband, White, Male, 0, 0, 40, United-States, >50K\n",
      "37, Federal-gov, 188069, Some-college, 10, Married-civ-spouse, Adm-clerical, Husband, White, Male, 0, 0, 40, Philippines, >50K\n",
      "46, Federal-gov, 212120, Assoc-voc, 11, Married-civ-spouse, Adm-clerical, Husband, White, Male, 0, 0, 40, United-States, >50K\n",
      "42, Federal-gov, 34218, Bachelors, 13, Married-civ-spouse, Exec-managerial, Husband, White, Male, 7298, 0, 50, United-States, >50K\n",
      "42, Federal-gov, 557644, HS-grad, 9, Never-married, Adm-clerical, Unmarried, White, Female, 0, 0, 40, United-States, <=50K\n",
      "51, Federal-gov, 293196, Some-college, 10, Married-civ-spouse, Prof-specialty, Husband, White, Male, 0, 0, 40, United-States, >50K\n",
      "29, Federal-gov, 116394, Bachelors, 13, Married-AF-spouse, Prof-specialty, Husband, White, Male, 0, 0, 50, United-States, >50K\n",
      "29, Federal-gov, 106179, Some-college, 10, Never-married, Prof-specialty, Not-in-family, White, Female, 0, 1408, 40, United-States, <=50K\n",
      "46, Federal-gov, 219293, HS-grad, 9, Married-civ-spouse, Adm-clerical, Husband, Black, Male, 0, 0, 80, United-States, >50K\n",
      "60, Federal-gov, 119832, Some-college, 10, Married-civ-spouse, Adm-clerical, Husband, White, Male, 7298, 0, 40, United-States, >50K\n",
      "48, Federal-gov, 166634, Bachelors, 13, Married-civ-spouse, Adm-clerical, Wife, White, Female, 7688, 0, 40, United-States, >50K\n",
      "42, Federal-gov, 126320, Some-college, 10, Married-civ-spouse, Transport-moving, Husband, Black, Male, 0, 0, 40, United-States, <=50K\n",
      "42, Federal-gov, 460214, Some-college, 10, Married-civ-spouse, Adm-clerical, Husband, White, Male, 0, 0, 40, United-States, >50K\n",
      "38, Federal-gov, 65706, Some-college, 10, Divorced, Exec-managerial, Unmarried, White, Female, 0, 0, 38, United-States, <=50K\n",
      "38, Federal-gov, 207066, HS-grad, 9, Married-civ-spouse, Exec-managerial, Husband, White, Male, 0, 0, 42, United-States, >50K\n",
      "37, Federal-gov, 160910, HS-grad, 9, Married-civ-spouse, Craft-repair, Husband, White, Male, 0, 0, 40, United-States, <=50K\n",
      "44, Federal-gov, 308027, Bachelors, 13, Divorced, Exec-managerial, Not-in-family, Black, Female, 0, 0, 40, United-States, <=50K\n",
      "47, Federal-gov, 142581, Some-college, 10, Married-civ-spouse, Adm-clerical, Husband, Black, Male, 0, 0, 40, United-States, >50K\n",
      "32, Federal-gov, 90653, HS-grad, 9, Never-married, Exec-managerial, Unmarried, White, Female, 0, 1380, 40, United-States, <=50K\n",
      "56, Federal-gov, 187873, Masters, 14, Divorced, Adm-clerical, Unmarried, White, Female, 0, 0, 40, United-States, <=50K\n",
      "51, Federal-gov, 72436, HS-grad, 9, Married-civ-spouse, Exec-managerial, Husband, White, Male, 0, 0, 57, United-States, >50K\n",
      "30, Federal-gov, 48458, Some-college, 10, Never-married, Adm-clerical, Own-child, Black, Female, 0, 0, 40, United-States, <=50K\n",
      "57, Federal-gov, 310320, Bachelors, 13, Married-civ-spouse, Tech-support, Husband, White, Male, 0, 0, 48, United-States, >50K\n",
      "41, Federal-gov, 219155, Prof-school, 15, Married-civ-spouse, Prof-specialty, Husband, White, Male, 0, 0, 50, India, >50K\n",
      "37, Federal-gov, 45937, Assoc-acdm, 12, Married-civ-spouse, Exec-managerial, Wife, White, Female, 0, 0, 40, United-States, >50K\n",
      "62, Federal-gov, 224277, Some-college, 10, Widowed, Protective-serv, Not-in-family, White, Female, 0, 0, 40, United-States, <=50K\n",
      "50, Federal-gov, 339905, Some-college, 10, Married-civ-spouse, Exec-managerial, Husband, White, Male, 0, 0, 40, United-States, >50K\n",
      "58, Federal-gov, 72998, 11th, 7, Divorced, Craft-repair, Not-in-family, Black, Female, 14084, 0, 40, United-States, >50K\n",
      "60, Federal-gov, 404023, HS-grad, 9, Divorced, Exec-managerial, Not-in-family, White, Male, 10520, 0, 40, United-States, >50K\n",
      "39, Federal-gov, 363630, HS-grad, 9, Married-civ-spouse, Adm-clerical, Husband, Black, Male, 7688, 0, 52, United-States, >50K\n",
      "56, Federal-gov, 255386, Some-college, 10, Married-civ-spouse, Adm-clerical, Husband, Asian-Pac-Islander, Male, 0, 0, 40, Laos, <=50K\n",
      "49, Federal-gov, 181657, Some-college, 10, Divorced, Exec-managerial, Not-in-family, White, Female, 0, 0, 50, United-States, <=50K\n",
      "34, Federal-gov, 194740, Some-college, 10, Never-married, Adm-clerical, Not-in-family, White, Male, 0, 0, 40, United-States, <=50K\n",
      "35, Federal-gov, 128608, Bachelors, 13, Never-married, Exec-managerial, Own-child, White, Male, 0, 0, 40, United-States, <=50K\n",
      "39, Federal-gov, 472166, Some-college, 10, Divorced, Exec-managerial, Unmarried, Black, Female, 0, 0, 40, United-States, <=50K\n",
      "43, Federal-gov, 25005, Masters, 14, Married-civ-spouse, Handlers-cleaners, Husband, White, Male, 5013, 0, 12, United-States, <=50K\n",
      "28, Federal-gov, 163862, Bachelors, 13, Married-civ-spouse, Exec-managerial, Husband, White, Male, 5178, 0, 40, United-States, >50K\n",
      "24, Federal-gov, 210736, HS-grad, 9, Never-married, Adm-clerical, Not-in-family, White, Female, 0, 1974, 40, United-States, <=50K\n",
      "52, Federal-gov, 30731, Bachelors, 13, Married-civ-spouse, Exec-managerial, Husband, White, Male, 0, 0, 45, United-States, >50K\n",
      "38, Federal-gov, 190895, Bachelors, 13, Married-civ-spouse, Prof-specialty, Husband, White, Male, 0, 0, 40, ?, >50K\n",
      "28, Federal-gov, 24153, 10th, 6, Married-civ-spouse, Other-service, Wife, Amer-Indian-Eskimo, Female, 0, 0, 40, United-States, <=50K\n",
      "57, Federal-gov, 197875, HS-grad, 9, Divorced, Adm-clerical, Not-in-family, White, Female, 0, 0, 40, United-States, <=50K\n",
      "57, Federal-gov, 66504, Prof-school, 15, Divorced, Prof-specialty, Not-in-family, White, Female, 0, 0, 50, United-States, >50K\n",
      "30, Federal-gov, 127610, Bachelors, 13, Never-married, Adm-clerical, Not-in-family, White, Female, 0, 0, 35, United-States, <=50K\n",
      "43, Federal-gov, 195385, HS-grad, 9, Married-civ-spouse, Exec-managerial, Husband, Amer-Indian-Eskimo, Male, 0, 0, 40, United-States, <=50K\n",
      "48, Federal-gov, 328606, HS-grad, 9, Divorced, Handlers-cleaners, Not-in-family, White, Male, 0, 0, 40, United-States, <=50K\n",
      "25, Federal-gov, 27142, Some-college, 10, Married-civ-spouse, Exec-managerial, Husband, White, Male, 0, 0, 40, United-States, >50K\n",
      "40, Federal-gov, 330174, Prof-school, 15, Married-civ-spouse, Prof-specialty, Husband, White, Male, 7688, 0, 40, United-States, >50K\n",
      "50, Federal-gov, 111700, Masters, 14, Never-married, Exec-managerial, Not-in-family, White, Female, 0, 0, 50, United-States, <=50K\n",
      "29, Federal-gov, 242147, HS-grad, 9, Divorced, Adm-clerical, Not-in-family, Other, Male, 0, 0, 45, United-States, <=50K\n",
      "38, Federal-gov, 325538, Prof-school, 15, Married-civ-spouse, Prof-specialty, Husband, White, Male, 0, 0, 50, United-States, >50K\n",
      "64, Federal-gov, 271550, Some-college, 10, Married-civ-spouse, Transport-moving, Husband, White, Male, 0, 0, 40, United-States, >50K\n",
      "31, Federal-gov, 59732, HS-grad, 9, Married-civ-spouse, Farming-fishing, Husband, Amer-Indian-Eskimo, Male, 0, 0, 40, United-States, <=50K\n",
      "44, Federal-gov, 139161, Assoc-acdm, 12, Divorced, Adm-clerical, Not-in-family, Black, Female, 0, 1741, 40, United-States, <=50K\n",
      "39, Federal-gov, 314822, Some-college, 10, Married-civ-spouse, Adm-clerical, Husband, Black, Male, 0, 0, 40, United-States, <=50K\n",
      "40, Federal-gov, 130749, Some-college, 10, Divorced, Exec-managerial, Not-in-family, Black, Female, 0, 0, 40, United-States, <=50K\n",
      "32, Federal-gov, 386877, Assoc-voc, 11, Never-married, Tech-support, Own-child, Black, Male, 4650, 0, 40, United-States, <=50K\n",
      "44, Federal-gov, 243636, Assoc-voc, 11, Married-civ-spouse, Craft-repair, Husband, White, Male, 0, 0, 40, United-States, >50K\n",
      "33, Federal-gov, 101345, Bachelors, 13, Never-married, Prof-specialty, Not-in-family, White, Female, 0, 0, 40, United-States, <=50K\n",
      "53, Federal-gov, 155594, Bachelors, 13, Married-civ-spouse, Prof-specialty, Husband, White, Male, 0, 0, 40, United-States, >50K\n",
      "41, Federal-gov, 193882, HS-grad, 9, Never-married, Adm-clerical, Own-child, White, Male, 0, 0, 40, United-States, <=50K\n",
      "40, Federal-gov, 78036, Assoc-voc, 11, Married-civ-spouse, Prof-specialty, Wife, White, Female, 0, 0, 65, United-States, >50K\n",
      "61, Federal-gov, 181081, HS-grad, 9, Divorced, Adm-clerical, Own-child, Black, Female, 0, 0, 20, United-States, <=50K\n",
      "37, Federal-gov, 187046, Some-college, 10, Married-civ-spouse, Prof-specialty, Husband, White, Male, 0, 0, 40, United-States, >50K\n",
      "31, Federal-gov, 34862, Assoc-acdm, 12, Married-civ-spouse, Sales, Husband, Asian-Pac-Islander, Male, 0, 0, 40, United-States, <=50K\n",
      "57, Federal-gov, 62020, Prof-school, 15, Divorced, Exec-managerial, Not-in-family, Black, Male, 0, 0, 55, United-States, >50K\n",
      "20, Federal-gov, 347935, Some-college, 10, Never-married, Protective-serv, Own-child, Black, Male, 0, 0, 40, United-States, <=50K\n",
      "54, Federal-gov, 75235, HS-grad, 9, Married-civ-spouse, Exec-managerial, Husband, White, Male, 5178, 0, 40, United-States, >50K\n",
      "52, Federal-gov, 76131, Some-college, 10, Married-civ-spouse, Exec-managerial, Wife, Asian-Pac-Islander, Female, 0, 0, 40, United-States, >50K\n",
      "42, Federal-gov, 262402, Bachelors, 13, Never-married, Exec-managerial, Not-in-family, White, Female, 0, 0, 40, United-States, <=50K\n",
      "55, Federal-gov, 113398, Some-college, 10, Never-married, Adm-clerical, Unmarried, White, Male, 0, 0, 40, United-States, <=50K\n",
      "47, Federal-gov, 197038, Bachelors, 13, Married-civ-spouse, Prof-specialty, Husband, White, Male, 0, 0, 50, United-States, <=50K\n",
      "22, Federal-gov, 57216, Some-college, 10, Never-married, Adm-clerical, Own-child, Black, Male, 0, 0, 20, United-States, <=50K\n",
      "31, Federal-gov, 130057, Masters, 14, Married-civ-spouse, Exec-managerial, Husband, White, Male, 7688, 0, 60, United-States, >50K\n",
      "56, Federal-gov, 317847, Bachelors, 13, Divorced, Adm-clerical, Not-in-family, White, Male, 0, 0, 40, United-States, <=50K\n",
      "59, Federal-gov, 293971, Some-college, 10, Married-civ-spouse, Tech-support, Husband, White, Male, 0, 0, 40, United-States, >50K\n",
      "44, Federal-gov, 38434, Masters, 14, Never-married, Prof-specialty, Not-in-family, White, Female, 0, 0, 40, United-States, <=50K\n",
      "24, Federal-gov, 312017, Some-college, 10, Never-married, Exec-managerial, Own-child, White, Male, 0, 0, 40, United-States, <=50K\n",
      "44, Federal-gov, 281739, Some-college, 10, Never-married, Adm-clerical, Not-in-family, White, Male, 13550, 0, 50, United-States, >50K\n",
      "52, Federal-gov, 154521, HS-grad, 9, Married-civ-spouse, Adm-clerical, Husband, White, Male, 0, 0, 44, United-States, >50K\n",
      "31, Federal-gov, 381645, Bachelors, 13, Separated, Prof-specialty, Not-in-family, White, Male, 0, 0, 40, United-States, <=50K\n",
      "51, Federal-gov, 223206, Doctorate, 16, Married-civ-spouse, Prof-specialty, Husband, Asian-Pac-Islander, Male, 15024, 0, 40, Vietnam, >50K\n",
      "44, Federal-gov, 38434, Bachelors, 13, Widowed, Exec-managerial, Unmarried, White, Female, 0, 0, 40, United-States, >50K\n",
      "39, Federal-gov, 232036, Some-college, 10, Married-civ-spouse, Adm-clerical, Husband, White, Male, 0, 0, 40, United-States, >50K\n",
      "23, Federal-gov, 173851, HS-grad, 9, Never-married, Armed-Forces, Not-in-family, White, Male, 0, 0, 8, United-States, <=50K\n",
      "28, Federal-gov, 381789, Bachelors, 13, Never-married, Prof-specialty, Not-in-family, White, Male, 0, 0, 50, United-States, <=50K\n",
      "59, Federal-gov, 23789, HS-grad, 9, Married-civ-spouse, Sales, Wife, White, Female, 0, 0, 40, United-States, >50K\n",
      "39, Federal-gov, 110622, Bachelors, 13, Married-civ-spouse, Adm-clerical, Wife, Asian-Pac-Islander, Female, 0, 0, 40, Philippines, <=50K\n",
      "41, Federal-gov, 160467, Masters, 14, Divorced, Prof-specialty, Unmarried, White, Female, 1506, 0, 40, United-States, <=50K\n",
      "66, Federal-gov, 47358, 10th, 6, Married-civ-spouse, Craft-repair, Husband, White, Male, 3471, 0, 40, United-States, <=50K\n"
     ]
    }
   ],
   "source": [
    "%%bash\n",
    "\n",
    "grep 'Federal-gov' data/adult.data"
   ]
  },
  {
   "cell_type": "code",
   "execution_count": 79,
   "metadata": {
    "ExecuteTime": {
     "end_time": "2021-02-03T12:58:00.813685Z",
     "start_time": "2021-02-03T12:58:00.777309Z"
    }
   },
   "outputs": [
    {
     "name": "stdout",
     "output_type": "stream",
     "text": [
      "[main d55a5ce] Reverting the deletion of federal employees\n",
      " 1 file changed, 2 insertions(+), 2 deletions(-)\n"
     ]
    }
   ],
   "source": [
    "%%bash \n",
    "\n",
    "git commit data/adult.data.dvc -m \"Reverting the deletion of federal employees\""
   ]
  },
  {
   "attachments": {},
   "cell_type": "markdown",
   "metadata": {},
   "source": [
    "## Access to remote data repositories"
   ]
  },
  {
   "attachments": {},
   "cell_type": "markdown",
   "metadata": {},
   "source": [
    "Having configured a `git` repo using `dvc` we can easily use `dvc` to quickly download data and models, share the data, etc. The results of the previous chapter were stored in the [https://github.com/megaduks/dvc-tutorial](https://github.com/megaduks/dvc-tutorial) repo and now we will see how we can use remote repo to work with the data. "
   ]
  },
  {
   "cell_type": "code",
   "execution_count": 80,
   "metadata": {
    "ExecuteTime": {
     "end_time": "2021-02-03T13:18:01.264647Z",
     "start_time": "2021-02-03T13:17:57.271870Z"
    }
   },
   "outputs": [
    {
     "name": "stdout",
     "output_type": "stream",
     "text": [
      "adult.data\n",
      "adult.names\n"
     ]
    }
   ],
   "source": [
    "%%bash \n",
    "\n",
    "dvc list https://github.com/megaduks/dvc-tutorial data"
   ]
  },
  {
   "attachments": {},
   "cell_type": "markdown",
   "metadata": {},
   "source": [
    "All datasets can be downloaded using a single command, e.g. to initialize a new project."
   ]
  },
  {
   "cell_type": "code",
   "execution_count": 81,
   "metadata": {
    "ExecuteTime": {
     "end_time": "2021-02-03T13:21:58.704953Z",
     "start_time": "2021-02-03T13:21:55.821001Z"
    }
   },
   "outputs": [],
   "source": [
    "%%bash\n",
    "\n",
    "mkdir new_project\n",
    "cd new_project\n",
    "dvc get https://github.com/megaduks/dvc-tutorial data"
   ]
  },
  {
   "cell_type": "code",
   "execution_count": 83,
   "metadata": {
    "ExecuteTime": {
     "end_time": "2021-02-03T13:22:37.977979Z",
     "start_time": "2021-02-03T13:22:37.958932Z"
    }
   },
   "outputs": [
    {
     "name": "stdout",
     "output_type": "stream",
     "text": [
      "total 7784\n",
      "drwxr-xr-x  4 dominikludwiczak  staff      128 May  8 09:04 \u001b[34m.\u001b[m\u001b[m\n",
      "drwxr-xr-x  3 dominikludwiczak  staff       96 May  8 09:04 \u001b[34m..\u001b[m\u001b[m\n",
      "-rw-r--r--  1 dominikludwiczak  staff  3974305 May  8 09:04 adult.data\n",
      "-rw-r--r--  1 dominikludwiczak  staff     5229 May  8 09:04 adult.names\n"
     ]
    }
   ],
   "source": [
    "%%bash\n",
    "\n",
    "ls -al new_project/data/"
   ]
  },
  {
   "attachments": {},
   "cell_type": "markdown",
   "metadata": {},
   "source": [
    "Unfortunately, using the above command we have lost the information on the origin of the data and we can't re-connect the locally downloaded data with the remote repository. The `dvc get` command resembles `wget` in this regard. If we want to keep the connection between remote and local data, we must use `dvc import`."
   ]
  },
  {
   "cell_type": "code",
   "execution_count": 84,
   "metadata": {
    "ExecuteTime": {
     "end_time": "2021-02-03T13:27:09.200288Z",
     "start_time": "2021-02-03T13:27:02.454767Z"
    }
   },
   "outputs": [
    {
     "name": "stdout",
     "output_type": "stream",
     "text": [
      "Importing 'data/adult.data (https://github.com/megaduks/dvc-tutorial/)' -> 'newer_project/data/adult.data'\n",
      "\n",
      "To track the changes with git, run:\n",
      "\n",
      "\tgit add newer_project/data/adult.data.dvc newer_project/data/.gitignore\n",
      "\n",
      "To enable auto staging, run:\n",
      "\n",
      "\tdvc config core.autostage true\n"
     ]
    }
   ],
   "source": [
    "%%bash\n",
    "\n",
    "mkdir -p newer_project/data\n",
    "dvc import https://github.com/megaduks/dvc-tutorial/ data/adult.data \\\n",
    "    -o newer_project/data/adult.data"
   ]
  },
  {
   "cell_type": "code",
   "execution_count": 85,
   "metadata": {
    "ExecuteTime": {
     "end_time": "2021-02-03T13:27:23.595980Z",
     "start_time": "2021-02-03T13:27:23.570453Z"
    }
   },
   "outputs": [
    {
     "name": "stdout",
     "output_type": "stream",
     "text": [
      "md5: eb47ad7d444e1f1bd3c397fb4af43476\n",
      "frozen: true\n",
      "deps:\n",
      "- path: data/adult.data\n",
      "  repo:\n",
      "    url: https://github.com/megaduks/dvc-tutorial/\n",
      "    rev_lock: a0d82b86e0936e12cfe4e9986ad78a4781f70d86\n",
      "outs:\n",
      "- md5: 5d7c39d7b8804f071cdd1f2a7c460872\n",
      "  size: 3974305\n",
      "  path: adult.data\n"
     ]
    }
   ],
   "source": [
    "%%bash\n",
    "\n",
    "cat newer_project/data/adult.data.dvc"
   ]
  },
  {
   "attachments": {},
   "cell_type": "markdown",
   "metadata": {},
   "source": [
    "As we can see, metadata of the `adult.data` file contain information on the remote repository from which the data originates. Precise hashes identifying a particular version of the data file are stored as well. In addition, we can easily track changes of the origin data in the remote repo."
   ]
  },
  {
   "cell_type": "code",
   "execution_count": 86,
   "metadata": {
    "ExecuteTime": {
     "end_time": "2021-02-03T13:31:12.428565Z",
     "start_time": "2021-02-03T13:31:08.978660Z"
    }
   },
   "outputs": [
    {
     "name": "stdout",
     "output_type": "stream",
     "text": [
      "'newer_project/data/adult.data.dvc' didn't change, skipping\n"
     ]
    }
   ],
   "source": [
    "%%bash\n",
    "\n",
    "dvc update newer_project/data/adult.data.dvc"
   ]
  },
  {
   "attachments": {},
   "cell_type": "markdown",
   "metadata": {},
   "source": [
    "DVC offers also a programmatical API to access data in remote repos."
   ]
  },
  {
   "cell_type": "code",
   "execution_count": 87,
   "metadata": {
    "ExecuteTime": {
     "end_time": "2021-02-03T13:35:11.818028Z",
     "start_time": "2021-02-03T13:35:10.906461Z"
    }
   },
   "outputs": [
    {
     "name": "stdout",
     "output_type": "stream",
     "text": [
      "39, State-gov, 77516, Bachelors, 13, Never-married, Adm-clerical, Not-in-family, White, Male, 2174, 0, 40, United-States, <=50K\n",
      "\n",
      "50, Self-emp-not-inc, 83311, Bachelors, 13, Married-civ-spouse, Exec-managerial, Husband, White, Male, 0, 0, 13, United-States, <=50K\n",
      "\n",
      "38, Private, 215646, HS-grad, 9, Divorced, Handlers-cleaners, Not-in-family, White, Male, 0, 0, 40, United-States, <=50K\n",
      "\n",
      "53, Private, 234721, 11th, 7, Married-civ-spouse, Handlers-cleaners, Husband, Black, Male, 0, 0, 40, United-States, <=50K\n",
      "\n",
      "28, Private, 338409, Bachelors, 13, Married-civ-spouse, Prof-specialty, Wife, Black, Female, 0, 0, 40, Cuba, <=50K\n",
      "\n",
      "37, Private, 284582, Masters, 14, Married-civ-spouse, Exec-managerial, Wife, White, Female, 0, 0, 40, United-States, <=50K\n",
      "\n",
      "49, Private, 160187, 9th, 5, Married-spouse-absent, Other-service, Not-in-family, Black, Female, 0, 0, 16, Jamaica, <=50K\n",
      "\n",
      "52, Self-emp-not-inc, 209642, HS-grad, 9, Married-civ-spouse, Exec-managerial, Husband, White, Male, 0, 0, 45, United-States, >50K\n",
      "\n",
      "31, Private, 45781, Masters, 14, Never-married, Prof-specialty, Not-in-family, White, Female, 14084, 0, 50, United-States, >50K\n",
      "\n",
      "42, Private, 159449, Bachelors, 13, Married-civ-spouse, Exec-managerial, Husband, White, Male, 5178, 0, 40, United-States, >50K\n",
      "\n"
     ]
    }
   ],
   "source": [
    "import dvc.api\n",
    "\n",
    "with dvc.api.open('data/adult.data', repo='https://github.com/megaduks/dvc-tutorial') as f:\n",
    "    for _ in range(10):\n",
    "        print(f.readline())"
   ]
  },
  {
   "attachments": {},
   "cell_type": "markdown",
   "metadata": {},
   "source": [
    "## Data flows\n",
    "\n",
    "The most interesting functionality offered by `dvc` is the ability to manage reproducible data workflows. We will use the following flow to illustrate this concept:\n",
    "\n",
    "- we will pre-process data by removing selected records\n",
    "- we will add a new feature\n",
    "- we will train a simple model\n",
    "- we will evaluate the quality of the model\n",
    "\n",
    "The code in the following examples is very simplified, but it's purpose is to illustrate the concept of reproducible data flows. First, we need to install some additional dependencies."
   ]
  },
  {
   "cell_type": "code",
   "execution_count": 88,
   "metadata": {
    "ExecuteTime": {
     "end_time": "2021-02-03T13:52:03.935895Z",
     "start_time": "2021-02-03T13:52:02.122229Z"
    }
   },
   "outputs": [
    {
     "name": "stdout",
     "output_type": "stream",
     "text": [
      "Requirement already satisfied: pandas in /opt/homebrew/lib/python3.11/site-packages (1.5.3)\n",
      "Requirement already satisfied: sklearn in /opt/homebrew/lib/python3.11/site-packages (0.0.post1)\n",
      "Collecting pyaml\n",
      "  Downloading pyaml-23.5.8-py3-none-any.whl (17 kB)\n",
      "Requirement already satisfied: scikit-learn in /opt/homebrew/lib/python3.11/site-packages (1.2.2)\n",
      "Requirement already satisfied: scipy in /opt/homebrew/lib/python3.11/site-packages (1.10.1)\n",
      "Requirement already satisfied: python-dateutil>=2.8.1 in /Users/dominikludwiczak/Library/Python/3.11/lib/python/site-packages (from pandas) (2.8.2)\n",
      "Requirement already satisfied: pytz>=2020.1 in /opt/homebrew/lib/python3.11/site-packages (from pandas) (2023.3)\n",
      "Requirement already satisfied: numpy>=1.21.0 in /opt/homebrew/lib/python3.11/site-packages (from pandas) (1.24.2)\n",
      "Requirement already satisfied: PyYAML in /opt/homebrew/lib/python3.11/site-packages (from pyaml) (6.0)\n",
      "Requirement already satisfied: joblib>=1.1.1 in /opt/homebrew/lib/python3.11/site-packages (from scikit-learn) (1.2.0)\n",
      "Requirement already satisfied: threadpoolctl>=2.0.0 in /opt/homebrew/lib/python3.11/site-packages (from scikit-learn) (3.1.0)\n",
      "Requirement already satisfied: six>=1.5 in /Users/dominikludwiczak/Library/Python/3.11/lib/python/site-packages (from python-dateutil>=2.8.1->pandas) (1.16.0)\n",
      "Installing collected packages: pyaml\n",
      "Successfully installed pyaml-23.5.8\n"
     ]
    },
    {
     "name": "stderr",
     "output_type": "stream",
     "text": [
      "\n",
      "[notice] A new release of pip is available: 23.0.1 -> 23.1.2\n",
      "[notice] To update, run: python3.11 -m pip install --upgrade pip\n"
     ]
    }
   ],
   "source": [
    "%%bash\n",
    "\n",
    "pip install pandas sklearn pyaml scikit-learn scipy"
   ]
  },
  {
   "attachments": {},
   "cell_type": "markdown",
   "metadata": {},
   "source": [
    "We will create the first step of the data flow. In this step we read in a text file and transform it to a serialized binary version (a pickle). \n",
    "\n",
    "Create a `params.yaml` file and put the following inside:"
   ]
  },
  {
   "cell_type": "code",
   "execution_count": 100,
   "metadata": {},
   "outputs": [
    {
     "name": "stdout",
     "output_type": "stream",
     "text": [
      "data\n",
      "new_project\n",
      "newer_project\n"
     ]
    }
   ],
   "source": [
    "%%bash\n",
    "ls"
   ]
  },
  {
   "attachments": {},
   "cell_type": "markdown",
   "metadata": {},
   "source": [
    "```\n",
    "prepare:\n",
    "  split: 0.75\n",
    "  seed: 42\n",
    "```"
   ]
  },
  {
   "attachments": {},
   "cell_type": "markdown",
   "metadata": {},
   "source": [
    "Next, create a `prepare.py` file with the following code."
   ]
  },
  {
   "cell_type": "code",
   "execution_count": 106,
   "metadata": {},
   "outputs": [
    {
     "ename": "FileNotFoundError",
     "evalue": "[Errno 2] No such file or directory: '--ip=127.0.0.1'",
     "output_type": "error",
     "traceback": [
      "\u001b[0;31m---------------------------------------------------------------------------\u001b[0m",
      "\u001b[0;31mFileNotFoundError\u001b[0m                         Traceback (most recent call last)",
      "Cell \u001b[0;32mIn[106], line 21\u001b[0m\n\u001b[1;32m     17\u001b[0m test_output \u001b[39m=\u001b[39m Path(\u001b[39m'\u001b[39m\u001b[39mdata\u001b[39m\u001b[39m'\u001b[39m) \u001b[39m/\u001b[39m \u001b[39m'\u001b[39m\u001b[39mprepared\u001b[39m\u001b[39m'\u001b[39m \u001b[39m/\u001b[39m \u001b[39m'\u001b[39m\u001b[39mtest.csv\u001b[39m\u001b[39m'\u001b[39m\n\u001b[1;32m     19\u001b[0m Path(\u001b[39m'\u001b[39m\u001b[39mdata/prepared\u001b[39m\u001b[39m'\u001b[39m)\u001b[39m.\u001b[39mmkdir(parents\u001b[39m=\u001b[39m\u001b[39mTrue\u001b[39;00m, exist_ok\u001b[39m=\u001b[39m\u001b[39mTrue\u001b[39;00m)\n\u001b[0;32m---> 21\u001b[0m df \u001b[39m=\u001b[39m pd\u001b[39m.\u001b[39;49mread_csv(input_file, sep\u001b[39m=\u001b[39;49m\u001b[39m'\u001b[39;49m\u001b[39m,\u001b[39;49m\u001b[39m'\u001b[39;49m)\n\u001b[1;32m     22\u001b[0m train_df, test_df \u001b[39m=\u001b[39m train_test_split(df, train_size\u001b[39m=\u001b[39msplit)\n\u001b[1;32m     24\u001b[0m train_df\u001b[39m.\u001b[39mto_csv(train_output, header\u001b[39m=\u001b[39m\u001b[39mNone\u001b[39;00m)\n",
      "File \u001b[0;32m/opt/homebrew/lib/python3.11/site-packages/pandas/util/_decorators.py:211\u001b[0m, in \u001b[0;36mdeprecate_kwarg.<locals>._deprecate_kwarg.<locals>.wrapper\u001b[0;34m(*args, **kwargs)\u001b[0m\n\u001b[1;32m    209\u001b[0m     \u001b[39melse\u001b[39;00m:\n\u001b[1;32m    210\u001b[0m         kwargs[new_arg_name] \u001b[39m=\u001b[39m new_arg_value\n\u001b[0;32m--> 211\u001b[0m \u001b[39mreturn\u001b[39;00m func(\u001b[39m*\u001b[39;49margs, \u001b[39m*\u001b[39;49m\u001b[39m*\u001b[39;49mkwargs)\n",
      "File \u001b[0;32m/opt/homebrew/lib/python3.11/site-packages/pandas/util/_decorators.py:331\u001b[0m, in \u001b[0;36mdeprecate_nonkeyword_arguments.<locals>.decorate.<locals>.wrapper\u001b[0;34m(*args, **kwargs)\u001b[0m\n\u001b[1;32m    325\u001b[0m \u001b[39mif\u001b[39;00m \u001b[39mlen\u001b[39m(args) \u001b[39m>\u001b[39m num_allow_args:\n\u001b[1;32m    326\u001b[0m     warnings\u001b[39m.\u001b[39mwarn(\n\u001b[1;32m    327\u001b[0m         msg\u001b[39m.\u001b[39mformat(arguments\u001b[39m=\u001b[39m_format_argument_list(allow_args)),\n\u001b[1;32m    328\u001b[0m         \u001b[39mFutureWarning\u001b[39;00m,\n\u001b[1;32m    329\u001b[0m         stacklevel\u001b[39m=\u001b[39mfind_stack_level(),\n\u001b[1;32m    330\u001b[0m     )\n\u001b[0;32m--> 331\u001b[0m \u001b[39mreturn\u001b[39;00m func(\u001b[39m*\u001b[39;49margs, \u001b[39m*\u001b[39;49m\u001b[39m*\u001b[39;49mkwargs)\n",
      "File \u001b[0;32m/opt/homebrew/lib/python3.11/site-packages/pandas/io/parsers/readers.py:950\u001b[0m, in \u001b[0;36mread_csv\u001b[0;34m(filepath_or_buffer, sep, delimiter, header, names, index_col, usecols, squeeze, prefix, mangle_dupe_cols, dtype, engine, converters, true_values, false_values, skipinitialspace, skiprows, skipfooter, nrows, na_values, keep_default_na, na_filter, verbose, skip_blank_lines, parse_dates, infer_datetime_format, keep_date_col, date_parser, dayfirst, cache_dates, iterator, chunksize, compression, thousands, decimal, lineterminator, quotechar, quoting, doublequote, escapechar, comment, encoding, encoding_errors, dialect, error_bad_lines, warn_bad_lines, on_bad_lines, delim_whitespace, low_memory, memory_map, float_precision, storage_options)\u001b[0m\n\u001b[1;32m    935\u001b[0m kwds_defaults \u001b[39m=\u001b[39m _refine_defaults_read(\n\u001b[1;32m    936\u001b[0m     dialect,\n\u001b[1;32m    937\u001b[0m     delimiter,\n\u001b[0;32m   (...)\u001b[0m\n\u001b[1;32m    946\u001b[0m     defaults\u001b[39m=\u001b[39m{\u001b[39m\"\u001b[39m\u001b[39mdelimiter\u001b[39m\u001b[39m\"\u001b[39m: \u001b[39m\"\u001b[39m\u001b[39m,\u001b[39m\u001b[39m\"\u001b[39m},\n\u001b[1;32m    947\u001b[0m )\n\u001b[1;32m    948\u001b[0m kwds\u001b[39m.\u001b[39mupdate(kwds_defaults)\n\u001b[0;32m--> 950\u001b[0m \u001b[39mreturn\u001b[39;00m _read(filepath_or_buffer, kwds)\n",
      "File \u001b[0;32m/opt/homebrew/lib/python3.11/site-packages/pandas/io/parsers/readers.py:605\u001b[0m, in \u001b[0;36m_read\u001b[0;34m(filepath_or_buffer, kwds)\u001b[0m\n\u001b[1;32m    602\u001b[0m _validate_names(kwds\u001b[39m.\u001b[39mget(\u001b[39m\"\u001b[39m\u001b[39mnames\u001b[39m\u001b[39m\"\u001b[39m, \u001b[39mNone\u001b[39;00m))\n\u001b[1;32m    604\u001b[0m \u001b[39m# Create the parser.\u001b[39;00m\n\u001b[0;32m--> 605\u001b[0m parser \u001b[39m=\u001b[39m TextFileReader(filepath_or_buffer, \u001b[39m*\u001b[39;49m\u001b[39m*\u001b[39;49mkwds)\n\u001b[1;32m    607\u001b[0m \u001b[39mif\u001b[39;00m chunksize \u001b[39mor\u001b[39;00m iterator:\n\u001b[1;32m    608\u001b[0m     \u001b[39mreturn\u001b[39;00m parser\n",
      "File \u001b[0;32m/opt/homebrew/lib/python3.11/site-packages/pandas/io/parsers/readers.py:1442\u001b[0m, in \u001b[0;36mTextFileReader.__init__\u001b[0;34m(self, f, engine, **kwds)\u001b[0m\n\u001b[1;32m   1439\u001b[0m     \u001b[39mself\u001b[39m\u001b[39m.\u001b[39moptions[\u001b[39m\"\u001b[39m\u001b[39mhas_index_names\u001b[39m\u001b[39m\"\u001b[39m] \u001b[39m=\u001b[39m kwds[\u001b[39m\"\u001b[39m\u001b[39mhas_index_names\u001b[39m\u001b[39m\"\u001b[39m]\n\u001b[1;32m   1441\u001b[0m \u001b[39mself\u001b[39m\u001b[39m.\u001b[39mhandles: IOHandles \u001b[39m|\u001b[39m \u001b[39mNone\u001b[39;00m \u001b[39m=\u001b[39m \u001b[39mNone\u001b[39;00m\n\u001b[0;32m-> 1442\u001b[0m \u001b[39mself\u001b[39m\u001b[39m.\u001b[39m_engine \u001b[39m=\u001b[39m \u001b[39mself\u001b[39;49m\u001b[39m.\u001b[39;49m_make_engine(f, \u001b[39mself\u001b[39;49m\u001b[39m.\u001b[39;49mengine)\n",
      "File \u001b[0;32m/opt/homebrew/lib/python3.11/site-packages/pandas/io/parsers/readers.py:1735\u001b[0m, in \u001b[0;36mTextFileReader._make_engine\u001b[0;34m(self, f, engine)\u001b[0m\n\u001b[1;32m   1733\u001b[0m     \u001b[39mif\u001b[39;00m \u001b[39m\"\u001b[39m\u001b[39mb\u001b[39m\u001b[39m\"\u001b[39m \u001b[39mnot\u001b[39;00m \u001b[39min\u001b[39;00m mode:\n\u001b[1;32m   1734\u001b[0m         mode \u001b[39m+\u001b[39m\u001b[39m=\u001b[39m \u001b[39m\"\u001b[39m\u001b[39mb\u001b[39m\u001b[39m\"\u001b[39m\n\u001b[0;32m-> 1735\u001b[0m \u001b[39mself\u001b[39m\u001b[39m.\u001b[39mhandles \u001b[39m=\u001b[39m get_handle(\n\u001b[1;32m   1736\u001b[0m     f,\n\u001b[1;32m   1737\u001b[0m     mode,\n\u001b[1;32m   1738\u001b[0m     encoding\u001b[39m=\u001b[39;49m\u001b[39mself\u001b[39;49m\u001b[39m.\u001b[39;49moptions\u001b[39m.\u001b[39;49mget(\u001b[39m\"\u001b[39;49m\u001b[39mencoding\u001b[39;49m\u001b[39m\"\u001b[39;49m, \u001b[39mNone\u001b[39;49;00m),\n\u001b[1;32m   1739\u001b[0m     compression\u001b[39m=\u001b[39;49m\u001b[39mself\u001b[39;49m\u001b[39m.\u001b[39;49moptions\u001b[39m.\u001b[39;49mget(\u001b[39m\"\u001b[39;49m\u001b[39mcompression\u001b[39;49m\u001b[39m\"\u001b[39;49m, \u001b[39mNone\u001b[39;49;00m),\n\u001b[1;32m   1740\u001b[0m     memory_map\u001b[39m=\u001b[39;49m\u001b[39mself\u001b[39;49m\u001b[39m.\u001b[39;49moptions\u001b[39m.\u001b[39;49mget(\u001b[39m\"\u001b[39;49m\u001b[39mmemory_map\u001b[39;49m\u001b[39m\"\u001b[39;49m, \u001b[39mFalse\u001b[39;49;00m),\n\u001b[1;32m   1741\u001b[0m     is_text\u001b[39m=\u001b[39;49mis_text,\n\u001b[1;32m   1742\u001b[0m     errors\u001b[39m=\u001b[39;49m\u001b[39mself\u001b[39;49m\u001b[39m.\u001b[39;49moptions\u001b[39m.\u001b[39;49mget(\u001b[39m\"\u001b[39;49m\u001b[39mencoding_errors\u001b[39;49m\u001b[39m\"\u001b[39;49m, \u001b[39m\"\u001b[39;49m\u001b[39mstrict\u001b[39;49m\u001b[39m\"\u001b[39;49m),\n\u001b[1;32m   1743\u001b[0m     storage_options\u001b[39m=\u001b[39;49m\u001b[39mself\u001b[39;49m\u001b[39m.\u001b[39;49moptions\u001b[39m.\u001b[39;49mget(\u001b[39m\"\u001b[39;49m\u001b[39mstorage_options\u001b[39;49m\u001b[39m\"\u001b[39;49m, \u001b[39mNone\u001b[39;49;00m),\n\u001b[1;32m   1744\u001b[0m )\n\u001b[1;32m   1745\u001b[0m \u001b[39massert\u001b[39;00m \u001b[39mself\u001b[39m\u001b[39m.\u001b[39mhandles \u001b[39mis\u001b[39;00m \u001b[39mnot\u001b[39;00m \u001b[39mNone\u001b[39;00m\n\u001b[1;32m   1746\u001b[0m f \u001b[39m=\u001b[39m \u001b[39mself\u001b[39m\u001b[39m.\u001b[39mhandles\u001b[39m.\u001b[39mhandle\n",
      "File \u001b[0;32m/opt/homebrew/lib/python3.11/site-packages/pandas/io/common.py:856\u001b[0m, in \u001b[0;36mget_handle\u001b[0;34m(path_or_buf, mode, encoding, compression, memory_map, is_text, errors, storage_options)\u001b[0m\n\u001b[1;32m    851\u001b[0m \u001b[39melif\u001b[39;00m \u001b[39misinstance\u001b[39m(handle, \u001b[39mstr\u001b[39m):\n\u001b[1;32m    852\u001b[0m     \u001b[39m# Check whether the filename is to be opened in binary mode.\u001b[39;00m\n\u001b[1;32m    853\u001b[0m     \u001b[39m# Binary mode does not support 'encoding' and 'newline'.\u001b[39;00m\n\u001b[1;32m    854\u001b[0m     \u001b[39mif\u001b[39;00m ioargs\u001b[39m.\u001b[39mencoding \u001b[39mand\u001b[39;00m \u001b[39m\"\u001b[39m\u001b[39mb\u001b[39m\u001b[39m\"\u001b[39m \u001b[39mnot\u001b[39;00m \u001b[39min\u001b[39;00m ioargs\u001b[39m.\u001b[39mmode:\n\u001b[1;32m    855\u001b[0m         \u001b[39m# Encoding\u001b[39;00m\n\u001b[0;32m--> 856\u001b[0m         handle \u001b[39m=\u001b[39m \u001b[39mopen\u001b[39;49m(\n\u001b[1;32m    857\u001b[0m             handle,\n\u001b[1;32m    858\u001b[0m             ioargs\u001b[39m.\u001b[39;49mmode,\n\u001b[1;32m    859\u001b[0m             encoding\u001b[39m=\u001b[39;49mioargs\u001b[39m.\u001b[39;49mencoding,\n\u001b[1;32m    860\u001b[0m             errors\u001b[39m=\u001b[39;49merrors,\n\u001b[1;32m    861\u001b[0m             newline\u001b[39m=\u001b[39;49m\u001b[39m\"\u001b[39;49m\u001b[39m\"\u001b[39;49m,\n\u001b[1;32m    862\u001b[0m         )\n\u001b[1;32m    863\u001b[0m     \u001b[39melse\u001b[39;00m:\n\u001b[1;32m    864\u001b[0m         \u001b[39m# Binary mode\u001b[39;00m\n\u001b[1;32m    865\u001b[0m         handle \u001b[39m=\u001b[39m \u001b[39mopen\u001b[39m(handle, ioargs\u001b[39m.\u001b[39mmode)\n",
      "\u001b[0;31mFileNotFoundError\u001b[0m: [Errno 2] No such file or directory: '--ip=127.0.0.1'"
     ]
    }
   ],
   "source": [
    "import pandas as pd\n",
    "import sklearn\n",
    "import yaml\n",
    "import random\n",
    "import sys\n",
    "\n",
    "from pathlib import Path\n",
    "from sklearn.model_selection import train_test_split\n",
    "\n",
    "params = yaml.safe_load(open('params.yaml'))['prepare']\n",
    "\n",
    "split = params['split']\n",
    "random.seed(params['seed'])\n",
    "\n",
    "input_file = Path(sys.argv[1])\n",
    "train_output = Path('data') / 'prepared' / 'train.csv'\n",
    "test_output = Path('data') / 'prepared' / 'test.csv'\n",
    "\n",
    "Path('data/prepared').mkdir(parents=True, exist_ok=True)\n",
    "\n",
    "df = pd.read_csv(input_file, sep=',')\n",
    "train_df, test_df = train_test_split(df, train_size=split)\n",
    "\n",
    "train_df.to_csv(train_output, header=None)\n",
    "test_df.to_csv(test_output, header=None)"
   ]
  },
  {
   "attachments": {},
   "cell_type": "markdown",
   "metadata": {},
   "source": [
    "Now we create the first data flow in which we:\n",
    "- create a named step (`-n prepare`)\n",
    "- pass parameters (`-p prepare.seed,prepare.split`)\n",
    "- pass dependencies (`-d prepare.py -d data/adult.data`)\n",
    "- indicate the output (`-o data/prepared/`)\n",
    "- run the script and pass parameter values"
   ]
  },
  {
   "cell_type": "code",
   "execution_count": 111,
   "metadata": {
    "ExecuteTime": {
     "end_time": "2021-02-03T14:28:20.384888Z",
     "start_time": "2021-02-03T14:28:16.949192Z"
    }
   },
   "outputs": [
    {
     "name": "stdout",
     "output_type": "stream",
     "text": [
      "Running stage 'prepare':\n",
      "> python3 prepare.py data/adult.data\n",
      "Creating 'dvc.yaml'\n",
      "Adding stage 'prepare' in 'dvc.yaml'\n",
      "Generating lock file 'dvc.lock'\n",
      "Updating lock file 'dvc.lock'\n",
      "\n",
      "To track the changes with git, run:\n",
      "\n",
      "\tgit add dvc.lock dvc.yaml data/.gitignore\n",
      "\n",
      "To enable auto staging, run:\n",
      "\n",
      "\tdvc config core.autostage true\n"
     ]
    }
   ],
   "source": [
    "%%bash\n",
    "\n",
    "dvc run -n prepare \\\n",
    "    -p prepare.seed,prepare.split \\\n",
    "    -d prepare.py -d data/adult.data \\\n",
    "    -o data/prepared \\\n",
    "    python3 prepare.py data/adult.data"
   ]
  },
  {
   "attachments": {},
   "cell_type": "markdown",
   "metadata": {},
   "source": [
    "As the result, we observe output files and a special `dvc.yaml` file with human-readable description of the data flow configuration."
   ]
  },
  {
   "cell_type": "code",
   "execution_count": 112,
   "metadata": {
    "ExecuteTime": {
     "end_time": "2021-02-03T14:29:14.948770Z",
     "start_time": "2021-02-03T14:29:14.913851Z"
    }
   },
   "outputs": [
    {
     "name": "stdout",
     "output_type": "stream",
     "text": [
      "stages:\n",
      "  prepare:\n",
      "    cmd: python3 prepare.py data/adult.data\n",
      "    deps:\n",
      "    - data/adult.data\n",
      "    - prepare.py\n",
      "    params:\n",
      "    - prepare.seed\n",
      "    - prepare.split\n",
      "    outs:\n",
      "    - data/prepared\n"
     ]
    }
   ],
   "source": [
    "%%bash\n",
    "\n",
    "cat dvc.yaml"
   ]
  },
  {
   "cell_type": "code",
   "execution_count": 113,
   "metadata": {
    "ExecuteTime": {
     "end_time": "2021-02-03T14:29:26.323449Z",
     "start_time": "2021-02-03T14:29:26.289676Z"
    }
   },
   "outputs": [
    {
     "name": "stdout",
     "output_type": "stream",
     "text": [
      "total 7816\n",
      "drwxr-xr-x  4 dominikludwiczak  staff      128 May  8 09:25 .\n",
      "drwxr-xr-x  8 dominikludwiczak  staff      256 May  8 09:25 ..\n",
      "-rw-r--r--  1 dominikludwiczak  staff  1000336 May  8 09:25 test.csv\n",
      "-rw-r--r--  1 dominikludwiczak  staff  2995290 May  8 09:25 train.csv\n"
     ]
    }
   ],
   "source": [
    "%%bash \n",
    "\n",
    "ls -al data/prepared/"
   ]
  },
  {
   "attachments": {},
   "cell_type": "markdown",
   "metadata": {},
   "source": [
    "The second step is to add to the data flow data transformation. We will re-code all categorical attributes using [LabelEncoder](https://scikit-learn.org/stable/modules/generated/sklearn.preprocessing.LabelEncoder.html#sklearn.preprocessing.LabelEncoder) and we will compute feature interactions using [PolynomialFeatures](https://scikit-learn.org/stable/modules/generated/sklearn.preprocessing.PolynomialFeatures.html#sklearn.preprocessing.PolynomialFeatures). This last class uses the `degree` parameter. Update the parameter file to account for the second step."
   ]
  },
  {
   "attachments": {},
   "cell_type": "markdown",
   "metadata": {},
   "source": [
    "```\n",
    "prepare:\n",
    "  split: 0.75\n",
    "  seed: 42\n",
    "featurize:\n",
    "  degree: 2\n",
    "```"
   ]
  },
  {
   "attachments": {},
   "cell_type": "markdown",
   "metadata": {},
   "source": [
    "Create the `featurize.py` file."
   ]
  },
  {
   "cell_type": "code",
   "execution_count": null,
   "metadata": {},
   "outputs": [],
   "source": [
    "import pandas as pd\n",
    "import numpy as np\n",
    "import yaml\n",
    "import sys\n",
    "import pickle\n",
    "\n",
    "from pathlib import Path\n",
    "from sklearn.preprocessing import LabelEncoder, PolynomialFeatures\n",
    "\n",
    "params = yaml.safe_load(open('params.yaml'))['featurize']\n",
    "degree = params['degree']\n",
    "\n",
    "input_dir = sys.argv[1]\n",
    "output_dir = sys.argv[2]\n",
    "\n",
    "Path(output_dir).mkdir(exist_ok=True)\n",
    "\n",
    "train_file = Path(input_dir) / 'train.csv'\n",
    "test_file = Path(input_dir) / 'test.csv'\n",
    "\n",
    "col_names = [\n",
    "        'age',\n",
    "        'workclass',\n",
    "        'weight',\n",
    "        'education',\n",
    "        'edu-num',\n",
    "        'marital-status',\n",
    "        'occupation',\n",
    "        'relationship',\n",
    "        'race',\n",
    "        'sex',\n",
    "        'capital-gain',\n",
    "        'capital-loss',\n",
    "        'hours-per-week',\n",
    "        'native-country',\n",
    "        'class'\n",
    "]\n",
    "\n",
    "train_df = pd.read_csv(train_file, sep=',', names=col_names)\n",
    "test_df = pd.read_csv(test_file, sep=',', names=col_names)\n",
    "\n",
    "train_df = train_df.apply(LabelEncoder().fit_transform)\n",
    "test_df = test_df.apply(LabelEncoder().fit_transform)\n",
    "\n",
    "poly = PolynomialFeatures(degree=degree, interaction_only=True)\n",
    "\n",
    "train_y = train_df['class']\n",
    "test_y = test_df['class']\n",
    "\n",
    "train_df = train_df.drop('class', axis=1)\n",
    "test_df = test_df.drop('class', axis=1)\n",
    "\n",
    "train_df = np.column_stack((poly.fit_transform(train_df), train_y))\n",
    "test_df = np.column_stack((poly.fit_transform(test_df), test_y))\n",
    "\n",
    "train_output = Path(output_dir) / 'train.p'\n",
    "test_output = Path(output_dir) / 'test.p'\n",
    "\n",
    "with open(train_output, 'wb') as f:\n",
    "    pickle.dump(train_df, f)\n",
    "\n",
    "with open(test_output, 'wb') as f:\n",
    "    pickle.dump(test_df, f)\n"
   ]
  },
  {
   "attachments": {},
   "cell_type": "markdown",
   "metadata": {},
   "source": [
    "The data flow can be executed by running the following command."
   ]
  },
  {
   "cell_type": "code",
   "execution_count": 114,
   "metadata": {
    "ExecuteTime": {
     "end_time": "2021-02-03T21:53:51.420099Z",
     "start_time": "2021-02-03T21:53:49.713567Z"
    }
   },
   "outputs": [
    {
     "name": "stdout",
     "output_type": "stream",
     "text": [
      "Running stage 'featurize':\n",
      "> python3 featurize.py data/prepared/ data/features/\n",
      "Adding stage 'featurize' in 'dvc.yaml'\n",
      "Updating lock file 'dvc.lock'\n",
      "\n",
      "To track the changes with git, run:\n",
      "\n",
      "\tgit add data/.gitignore dvc.lock dvc.yaml\n",
      "\n",
      "To enable auto staging, run:\n",
      "\n",
      "\tdvc config core.autostage true\n"
     ]
    }
   ],
   "source": [
    "%%bash\n",
    "\n",
    "dvc run -n featurize \\\n",
    "    -p featurize.degree \\\n",
    "    -d featurize.py -d data/prepared/ \\\n",
    "    -o data/features \\\n",
    "    python3 featurize.py data/prepared/ data/features/"
   ]
  },
  {
   "attachments": {},
   "cell_type": "markdown",
   "metadata": {},
   "source": [
    "In order not to loose the results of our work we should record data flow steps in the `git` repo."
   ]
  },
  {
   "cell_type": "code",
   "execution_count": 117,
   "metadata": {},
   "outputs": [
    {
     "name": "stdout",
     "output_type": "stream",
     "text": [
      "[main 908e377] Added preparation and featurization steps to data pipeline\n",
      " 3 files changed, 60 insertions(+)\n",
      " create mode 100644 dvc.lock\n",
      " create mode 100644 dvc.yaml\n"
     ]
    }
   ],
   "source": [
    "%%bash\n",
    "\n",
    "git add data/.gitignore dvc.lock dvc.yaml\n",
    "git commit -m 'Added preparation and featurization steps to data pipeline'"
   ]
  },
  {
   "attachments": {},
   "cell_type": "markdown",
   "metadata": {},
   "source": [
    "The third step is to run model training. We will use a simple script with Random Forest, and we will use two parameters: the number of trees in the forest and the maximum depth of each tree. Change the parameter file in the following way:"
   ]
  },
  {
   "attachments": {},
   "cell_type": "markdown",
   "metadata": {},
   "source": [
    "```\n",
    "prepare:\n",
    "  split: 0.75\n",
    "  seed: 42\n",
    "featurize:\n",
    "  degree: 2\n",
    "train:\n",
    "  max_depth: 2\n",
    "  n_estimators: 5\n",
    "```"
   ]
  },
  {
   "attachments": {},
   "cell_type": "markdown",
   "metadata": {},
   "source": [
    "Create the `train.py` file:"
   ]
  },
  {
   "cell_type": "code",
   "execution_count": null,
   "metadata": {},
   "outputs": [],
   "source": [
    "import sys\n",
    "import yaml\n",
    "import pickle\n",
    "\n",
    "from pathlib import Path\n",
    "from sklearn.ensemble import RandomForestClassifier\n",
    "\n",
    "params = yaml.safe_load(open('params.yaml'))['train']\n",
    "max_depth = params['max_depth']\n",
    "n_estimators = params['n_estimators']\n",
    "\n",
    "input_dir = sys.argv[1]\n",
    "output_dir = sys.argv[2]\n",
    "\n",
    "Path(output_dir).mkdir(exist_ok=True)\n",
    "\n",
    "train_file = Path(input_dir) / 'train.p'\n",
    "model_file = Path(output_dir) / 'model.p'\n",
    "\n",
    "with open(train_file, 'rb') as f:\n",
    "    train_df = pickle.load(f)\n",
    "\n",
    "X = train_df[:, :-1]\n",
    "y = train_df[:, -1]\n",
    "\n",
    "clf = RandomForestClassifier(\n",
    "    n_estimators=n_estimators,\n",
    "    max_depth=max_depth\n",
    ")\n",
    "clf.fit(X, y)\n",
    "\n",
    "with open(model_file, 'wb') as f:\n",
    "    pickle.dump(clf, f)\n"
   ]
  },
  {
   "attachments": {},
   "cell_type": "markdown",
   "metadata": {},
   "source": [
    "As you can see, the script expects two parameters to be passed via the command line (the input directory with the data and the output directory to store the results of the script). To add the training step to the data flow execute the following command:"
   ]
  },
  {
   "cell_type": "code",
   "execution_count": 142,
   "metadata": {},
   "outputs": [
    {
     "name": "stdout",
     "output_type": "stream",
     "text": [
      "Stage 'train' is cached - skipping run, checking out outputs\n",
      "Modifying stage 'train' in 'dvc.yaml'\n",
      "Updating lock file 'dvc.lock'\n",
      "\n",
      "To track the changes with git, run:\n",
      "\n",
      "\tgit add dvc.lock dvc.yaml\n",
      "\n",
      "To enable auto staging, run:\n",
      "\n",
      "\tdvc config core.autostage true\n"
     ]
    }
   ],
   "source": [
    "%%bash\n",
    "\n",
    "dvc run -n train --force\\\n",
    "    -p train.max_depth,train.n_estimators \\\n",
    "    -d train.py -d data/features/ \\\n",
    "    -o data/models/ \\\n",
    "    python3 train.py data/features/ data/models/"
   ]
  },
  {
   "attachments": {},
   "cell_type": "markdown",
   "metadata": {},
   "source": [
    "As usual we record the changes in the data flow in `git`."
   ]
  },
  {
   "cell_type": "code",
   "execution_count": 143,
   "metadata": {},
   "outputs": [
    {
     "name": "stdout",
     "output_type": "stream",
     "text": [
      "[main cb9fde3] Added training step to data pipeline\n",
      " 1 file changed, 3 insertions(+), 3 deletions(-)\n"
     ]
    }
   ],
   "source": [
    "%%bash\n",
    "\n",
    "git add data/.gitignore dvc.lock dvc.yaml\n",
    "git commit -m 'Added training step to data pipeline'"
   ]
  },
  {
   "attachments": {},
   "cell_type": "markdown",
   "metadata": {},
   "source": [
    "Why have we created the `dvc.yaml` file? At the first glance it might seem overly complicated. But this is where `dvc` truly shines, the presence of the full definition of the data flow allows for full reproducibilty using a single command."
   ]
  },
  {
   "cell_type": "code",
   "execution_count": 146,
   "metadata": {},
   "outputs": [
    {
     "name": "stdout",
     "output_type": "stream",
     "text": [
      "'data/adult.data.dvc' didn't change, skipping\n",
      "Stage 'prepare' didn't change, skipping\n",
      "Stage 'featurize' didn't change, skipping\n",
      "Stage 'train' didn't change, skipping\n",
      "Data and pipelines are up to date.\n"
     ]
    }
   ],
   "source": [
    "%%bash\n",
    "\n",
    "dvc repro"
   ]
  },
  {
   "attachments": {},
   "cell_type": "markdown",
   "metadata": {},
   "source": [
    "Let's change a single parameter in the `train` section (e.g., change the number of trees in the RandomForest) and re-run the experiment. Which steps have been executed? Change another parameter in the `prepare` section (e.g. the way train/test split is performed) and re-run the experiment once again. Has something changed?\n",
    "\n",
    "If you want to visualize the data flow, use the `dvc dag` command."
   ]
  },
  {
   "attachments": {},
   "cell_type": "markdown",
   "metadata": {},
   "source": [
    "## Experiments\n",
    "\n",
    "The last element of the `dvc` framework that we will examine is the way experiments are executed. Before we start experimenting, we need to create a `evaluate.py` file with the code to evaluate the results of training."
   ]
  },
  {
   "cell_type": "code",
   "execution_count": null,
   "metadata": {},
   "outputs": [],
   "source": [
    "import sys\n",
    "import os\n",
    "import pickle\n",
    "import json\n",
    "\n",
    "from sklearn.metrics import precision_recall_curve\n",
    "import sklearn.metrics as metrics\n",
    "from pathlib import Path\n",
    "\n",
    "model_file = Path(sys.argv[1]) / 'model.p'\n",
    "test_file = Path(sys.argv[2]) / 'test.p'\n",
    "\n",
    "scores_file = sys.argv[3]\n",
    "plots_file = sys.argv[4]\n",
    "\n",
    "with open(model_file, 'rb') as f:\n",
    "    model = pickle.load(f)\n",
    "\n",
    "with open(test_file, 'rb') as f:\n",
    "    test_df = pickle.load(f)\n",
    "\n",
    "X = test_df[:,:-1]\n",
    "y = test_df[:,-1]\n",
    "\n",
    "predictions_by_class = model.predict_proba(X)\n",
    "y_pred = predictions_by_class[:, 1]\n",
    "\n",
    "precision, recall, thresholds = precision_recall_curve(y, y_pred)\n",
    "auc = metrics.auc(recall, precision)\n",
    "\n",
    "with open(scores_file, 'w') as f:\n",
    "    json.dump({'auc': auc}, f)\n",
    "\n",
    "with open(plots_file, 'w') as f:\n",
    "    json.dump({'prc': [{\n",
    "            'precision': p,\n",
    "            'recall': r,\n",
    "            'threshold': t\n",
    "        } for p, r, t in zip(precision, recall, thresholds)\n",
    "    ]}, f)"
   ]
  },
  {
   "attachments": {},
   "cell_type": "markdown",
   "metadata": {},
   "source": [
    "Tym razem dodanie kroku ewaluacji do potoku będzie bardziej skomplikowane, ponieważ musimy też uwzględnić specjalny plik do przechowywania wartości metryk oraz plik przechowywania danych na potrzeby wykresów. \n",
    "\n",
    "This time adding a step to the data flow is more complicated, because we have to include a special file to store the metrics associated with experiment runs, and an additional file to store the visualizations."
   ]
  },
  {
   "cell_type": "code",
   "execution_count": 148,
   "metadata": {},
   "outputs": [
    {
     "name": "stdout",
     "output_type": "stream",
     "text": [
      "Running stage 'evaluate':\n",
      "> python3 evaluate.py data/models/ data/features/ scores.json prc.json\n",
      "Adding stage 'evaluate' in 'dvc.yaml'\n",
      "Updating lock file 'dvc.lock'\n",
      "\n",
      "To track the changes with git, run:\n",
      "\n",
      "\tgit add dvc.yaml dvc.lock\n",
      "\n",
      "To enable auto staging, run:\n",
      "\n",
      "\tdvc config core.autostage true\n"
     ]
    }
   ],
   "source": [
    "%%bash\n",
    "\n",
    "dvc run -n evaluate \\\n",
    "    -d evaluate.py -d data/models/ -d data/features/ \\\n",
    "    -M scores.json \\\n",
    "    --plots-no-cache prc.json \\\n",
    "    python3 evaluate.py data/models/ data/features/ scores.json prc.json"
   ]
  },
  {
   "attachments": {},
   "cell_type": "markdown",
   "metadata": {},
   "source": [
    "Let's see at the final data flow configuration file."
   ]
  },
  {
   "cell_type": "code",
   "execution_count": 149,
   "metadata": {
    "ExecuteTime": {
     "end_time": "2021-02-03T23:56:25.467419Z",
     "start_time": "2021-02-03T23:56:25.420110Z"
    }
   },
   "outputs": [
    {
     "name": "stdout",
     "output_type": "stream",
     "text": [
      "stages:\n",
      "  prepare:\n",
      "    cmd: python3 prepare.py data/adult.data\n",
      "    deps:\n",
      "    - data/adult.data\n",
      "    - prepare.py\n",
      "    params:\n",
      "    - prepare.seed\n",
      "    - prepare.split\n",
      "    outs:\n",
      "    - data/prepared\n",
      "  featurize:\n",
      "    cmd: python3 featurize.py data/prepared/ data/features/\n",
      "    deps:\n",
      "    - data/prepared/\n",
      "    - featurize.py\n",
      "    params:\n",
      "    - featurize.degree\n",
      "    outs:\n",
      "    - data/features\n",
      "  train:\n",
      "    cmd: python3 train.py data/features/ data/models/\n",
      "    deps:\n",
      "    - data/features/\n",
      "    - train.py\n",
      "    params:\n",
      "    - train.max_depth\n",
      "    - train.n_estimators\n",
      "    outs:\n",
      "    - data/models/\n",
      "  evaluate:\n",
      "    cmd: python3 evaluate.py data/models/ data/features/ scores.json prc.json\n",
      "    deps:\n",
      "    - data/features/\n",
      "    - data/models/\n",
      "    - evaluate.py\n",
      "    metrics:\n",
      "    - scores.json:\n",
      "        cache: false\n",
      "    plots:\n",
      "    - prc.json:\n",
      "        cache: false\n"
     ]
    }
   ],
   "source": [
    "%%bash\n",
    "\n",
    "cat dvc.yaml"
   ]
  },
  {
   "attachments": {},
   "cell_type": "markdown",
   "metadata": {},
   "source": [
    "Don't forget to record all the changes in `git`."
   ]
  },
  {
   "cell_type": "code",
   "execution_count": 150,
   "metadata": {
    "ExecuteTime": {
     "end_time": "2021-02-03T23:58:05.640014Z",
     "start_time": "2021-02-03T23:58:05.587838Z"
    }
   },
   "outputs": [
    {
     "name": "stdout",
     "output_type": "stream",
     "text": [
      "[main f796dc4] Added evaluation step to data pipeline\n",
      " 2 files changed, 33 insertions(+)\n"
     ]
    }
   ],
   "source": [
    "%%bash\n",
    "\n",
    "git add dvc.lock dvc.yaml\n",
    "git commit -m 'Added evaluation step to data pipeline'"
   ]
  },
  {
   "attachments": {},
   "cell_type": "markdown",
   "metadata": {},
   "source": [
    "As the result of the data flow a new file `scores.json` has been added. This file contains the AUROC measure for the experiment run."
   ]
  },
  {
   "cell_type": "code",
   "execution_count": 151,
   "metadata": {
    "ExecuteTime": {
     "end_time": "2021-02-03T23:59:06.139126Z",
     "start_time": "2021-02-03T23:59:06.105759Z"
    }
   },
   "outputs": [
    {
     "name": "stdout",
     "output_type": "stream",
     "text": [
      "{\"auc\": 0.7025319326748718}"
     ]
    }
   ],
   "source": [
    "%%bash\n",
    "\n",
    "cat scores.json"
   ]
  },
  {
   "attachments": {},
   "cell_type": "markdown",
   "metadata": {},
   "source": [
    "The `prc.json` file contains the information about the training (*precision-recall curve*). Let's add both files to the repository."
   ]
  },
  {
   "cell_type": "code",
   "execution_count": 152,
   "metadata": {
    "ExecuteTime": {
     "end_time": "2021-02-04T00:01:16.579173Z",
     "start_time": "2021-02-04T00:01:16.550290Z"
    }
   },
   "outputs": [
    {
     "name": "stdout",
     "output_type": "stream",
     "text": [
      "[main b174b22] Added evaluation metrics\n",
      " 2 files changed, 2 insertions(+)\n",
      " create mode 100644 prc.json\n",
      " create mode 100644 scores.json\n"
     ]
    }
   ],
   "source": [
    "%%bash\n",
    "\n",
    "git add scores.json prc.json\n",
    "git commit -m 'Added evaluation metrics'"
   ]
  },
  {
   "attachments": {},
   "cell_type": "markdown",
   "metadata": {},
   "source": [
    "Run the experiment with changed parameters and let's see if these changes affect the metric. Change the `degree` parameter to 3 and change the `n_estimators` parameter to 25. Re-run the experiment."
   ]
  },
  {
   "cell_type": "code",
   "execution_count": 153,
   "metadata": {},
   "outputs": [
    {
     "name": "stdout",
     "output_type": "stream",
     "text": [
      "'data/adult.data.dvc' didn't change, skipping\n",
      "Stage 'prepare' didn't change, skipping\n",
      "Stage 'featurize' didn't change, skipping\n",
      "Running stage 'train':\n",
      "> python3 train.py data/features/ data/models/\n",
      "Updating lock file 'dvc.lock'\n",
      "\n",
      "Running stage 'evaluate':\n",
      "> python3 evaluate.py data/models/ data/features/ scores.json prc.json\n",
      "Updating lock file 'dvc.lock'\n",
      "\n",
      "To track the changes with git, run:\n",
      "\n",
      "\tgit add dvc.lock\n",
      "\n",
      "To enable auto staging, run:\n",
      "\n",
      "\tdvc config core.autostage true\n",
      "Use `dvc push` to send your updates to remote storage.\n"
     ]
    }
   ],
   "source": [
    "%%bash \n",
    "\n",
    "dvc repro"
   ]
  },
  {
   "cell_type": "code",
   "execution_count": 154,
   "metadata": {
    "ExecuteTime": {
     "end_time": "2021-02-04T00:05:38.929902Z",
     "start_time": "2021-02-04T00:05:37.128051Z"
    }
   },
   "outputs": [
    {
     "name": "stderr",
     "output_type": "stream",
     "text": [
      "DVC failed to load some parameters for following revisions: 'HEAD'.\n"
     ]
    },
    {
     "name": "stdout",
     "output_type": "stream",
     "text": [
      "Path         Param               HEAD    workspace\n",
      "params.yaml  featurize.degree    -       2\n",
      "params.yaml  prepare.seed        -       42\n",
      "params.yaml  prepare.split       -       0.75\n",
      "params.yaml  train.max_depth     -       3\n",
      "params.yaml  train.n_estimators  -       25\n"
     ]
    }
   ],
   "source": [
    "%%bash\n",
    "\n",
    "dvc params diff"
   ]
  },
  {
   "cell_type": "code",
   "execution_count": 155,
   "metadata": {
    "ExecuteTime": {
     "end_time": "2021-02-04T00:06:12.264328Z",
     "start_time": "2021-02-04T00:06:10.306014Z"
    }
   },
   "outputs": [
    {
     "name": "stdout",
     "output_type": "stream",
     "text": [
      "Path         Metric    HEAD     workspace    Change\n",
      "scores.json  auc       0.70253  0.70322      0.00069\n"
     ]
    }
   ],
   "source": [
    "%%bash \n",
    "\n",
    "dvc metrics diff"
   ]
  },
  {
   "cell_type": "code",
   "execution_count": 156,
   "metadata": {
    "ExecuteTime": {
     "end_time": "2021-02-04T00:06:55.683795Z",
     "start_time": "2021-02-04T00:06:53.979999Z"
    }
   },
   "outputs": [
    {
     "name": "stdout",
     "output_type": "stream",
     "text": [
      "file:///Users/dominikludwiczak/Library/CloudStorage/OneDrive-put.poznan.pl/semestr%204/Data%20Mining/Clustering/dvc-tutorial/dvc_plots/index.html\n"
     ]
    }
   ],
   "source": [
    "%%bash\n",
    "\n",
    "dvc plots diff -x recall -y precision"
   ]
  }
 ],
 "metadata": {
  "kernelspec": {
   "display_name": "Python 3",
   "language": "python",
   "name": "python3"
  },
  "language_info": {
   "codemirror_mode": {
    "name": "ipython",
    "version": 3
   },
   "file_extension": ".py",
   "mimetype": "text/x-python",
   "name": "python",
   "nbconvert_exporter": "python",
   "pygments_lexer": "ipython3",
   "version": "3.11.2"
  },
  "toc": {
   "base_numbering": 1,
   "nav_menu": {},
   "number_sections": false,
   "sideBar": true,
   "skip_h1_title": false,
   "title_cell": "Table of Contents",
   "title_sidebar": "Contents",
   "toc_cell": false,
   "toc_position": {},
   "toc_section_display": true,
   "toc_window_display": false
  },
  "varInspector": {
   "cols": {
    "lenName": 16,
    "lenType": 16,
    "lenVar": 40
   },
   "kernels_config": {
    "python": {
     "delete_cmd_postfix": "",
     "delete_cmd_prefix": "del ",
     "library": "var_list.py",
     "varRefreshCmd": "print(var_dic_list())"
    },
    "r": {
     "delete_cmd_postfix": ") ",
     "delete_cmd_prefix": "rm(",
     "library": "var_list.r",
     "varRefreshCmd": "cat(var_dic_list()) "
    }
   },
   "types_to_exclude": [
    "module",
    "function",
    "builtin_function_or_method",
    "instance",
    "_Feature"
   ],
   "window_display": false
  }
 },
 "nbformat": 4,
 "nbformat_minor": 4
}
